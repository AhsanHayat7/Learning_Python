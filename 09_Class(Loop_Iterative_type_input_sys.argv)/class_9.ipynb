{
 "cells": [
  {
   "cell_type": "markdown",
   "metadata": {},
   "source": [
    "# Loop and Input\n",
    "* `for`\n",
    "* `while`\n",
    "* Control\n",
    "  * `break`\n",
    "  * `pass`\n",
    "  * `continue`\n",
    "* Input with `input` function\n",
    "* Input from console\n",
    "\n",
    "# Loop working on iterative data types\n",
    "* List\n",
    "* Dictionary\n",
    "* Tuple\n",
    "* String\n"
   ]
  },
  {
   "cell_type": "code",
   "execution_count": 1,
   "metadata": {},
   "outputs": [
    {
     "name": "stdout",
     "output_type": "stream",
     "text": [
      "[1, 2, 3, 4, 5, 6, 7]\n"
     ]
    }
   ],
   "source": [
    "#                0 1 2 3 4 5 6             \n",
    "a : list[int] = [1,2,3,4,5,6,7]\n",
    "\n",
    "print(a)"
   ]
  },
  {
   "cell_type": "code",
   "execution_count": 2,
   "metadata": {},
   "outputs": [
    {
     "name": "stdout",
     "output_type": "stream",
     "text": [
      "1\n",
      "2\n",
      "3\n",
      "4\n",
      "5\n",
      "6\n",
      "7\n"
     ]
    }
   ],
   "source": [
    "for n in a :\n",
    "    print(n)"
   ]
  },
  {
   "cell_type": "code",
   "execution_count": 3,
   "metadata": {},
   "outputs": [
    {
     "name": "stdout",
     "output_type": "stream",
     "text": [
      "The current the number :1\n",
      "The current the number :2\n",
      "The current the number :3\n",
      "The current the number :4\n",
      "The current the number :5\n",
      "The current the number :6\n",
      "The current the number :7\n"
     ]
    }
   ],
   "source": [
    "a : list[int] = [1,2,3,4,5,6,7]       # iteration on list of integers \n",
    "for n in a :\n",
    "    print(f\"The current the number :{n}\")"
   ]
  },
  {
   "cell_type": "code",
   "execution_count": 3,
   "metadata": {},
   "outputs": [
    {
     "name": "stdout",
     "output_type": "stream",
     "text": [
      "The value is 1\n",
      "The value is 2\n",
      "The value is 3\n",
      "The value is 4\n",
      "The value is 5\n",
      "The value is 6\n",
      "The value is 7\n"
     ]
    }
   ],
   "source": [
    "\n",
    "b : tuple[int] = (1, 2, 3, 4, 5, 6, 7)   # iterations on tuple of integers\n",
    "\n",
    "for n in b:\n",
    "    print(f\"The value is {n}\")\n"
   ]
  },
  {
   "cell_type": "code",
   "execution_count": 4,
   "metadata": {},
   "outputs": [
    {
     "name": "stdout",
     "output_type": "stream",
     "text": [
      "The value is P\n",
      "The value is a\n",
      "The value is k\n",
      "The value is i\n",
      "The value is s\n",
      "The value is t\n",
      "The value is a\n",
      "The value is n\n"
     ]
    }
   ],
   "source": [
    "\n",
    "b : list[str] = \"Pakistan\" # iteration on list with string \n",
    "\n",
    "for n in b:\n",
    "    print(f\"The value is {n}\")\n"
   ]
  },
  {
   "cell_type": "code",
   "execution_count": 9,
   "metadata": {},
   "outputs": [
    {
     "name": "stdout",
     "output_type": "stream",
     "text": [
      "Dictionary keys name and the value is Ahsan\n",
      "Dictionary keys Class and the value is Bs \n",
      "Dictionary keys Gardes and the value is A\n"
     ]
    }
   ],
   "source": [
    "b : dict[str,str] = {\"name\" : \"Ahsan\", \"Class\" : \"Bs \", \"Gardes\" : \"A\"} # iteration on dictionary keys\n",
    "\n",
    "for n in b:\n",
    "    print(f\"Dictionary keys {n} and the value is {b[n]}\")\n"
   ]
  },
  {
   "cell_type": "code",
   "execution_count": 11,
   "metadata": {},
   "outputs": [
    {
     "ename": "TypeError",
     "evalue": "'set' object is not subscriptable",
     "output_type": "error",
     "traceback": [
      "\u001b[1;31m---------------------------------------------------------------------------\u001b[0m",
      "\u001b[1;31mTypeError\u001b[0m                                 Traceback (most recent call last)",
      "Cell \u001b[1;32mIn[11], line 4\u001b[0m\n\u001b[0;32m      1\u001b[0m b : \u001b[38;5;28mset\u001b[39m[\u001b[38;5;28mint\u001b[39m] \u001b[38;5;241m=\u001b[39m {\u001b[38;5;241m1\u001b[39m,\u001b[38;5;241m2\u001b[39m,\u001b[38;5;241m3\u001b[39m,\u001b[38;5;241m4\u001b[39m,\u001b[38;5;241m5\u001b[39m,\u001b[38;5;241m6\u001b[39m,\u001b[38;5;241m7\u001b[39m,\u001b[38;5;241m8\u001b[39m,\u001b[38;5;241m9\u001b[39m} \u001b[38;5;66;03m# iteration not perform on sets\u001b[39;00m\n\u001b[0;32m      3\u001b[0m \u001b[38;5;28;01mfor\u001b[39;00m n \u001b[38;5;129;01min\u001b[39;00m b:\n\u001b[1;32m----> 4\u001b[0m     \u001b[38;5;28mprint\u001b[39m(\u001b[38;5;124mf\u001b[39m\u001b[38;5;124m\"\u001b[39m\u001b[38;5;124mvalue from list of set: \u001b[39m\u001b[38;5;132;01m{\u001b[39;00mn\u001b[38;5;132;01m}\u001b[39;00m\u001b[38;5;124m and the value is \u001b[39m\u001b[38;5;132;01m{\u001b[39;00m\u001b[43mb\u001b[49m\u001b[43m[\u001b[49m\u001b[43mn\u001b[49m\u001b[43m]\u001b[49m\u001b[38;5;132;01m}\u001b[39;00m\u001b[38;5;124m\"\u001b[39m)\n",
      "\u001b[1;31mTypeError\u001b[0m: 'set' object is not subscriptable"
     ]
    }
   ],
   "source": [
    "b : set[int] = {1,2,3,4,5,6,7,8,9} # iteration not perform on sets\n",
    "\n",
    "for n in b:\n",
    "    print(f\"value from list of set: {n} and the value is {b[n]}\")"
   ]
  },
  {
   "cell_type": "code",
   "execution_count": 13,
   "metadata": {},
   "outputs": [
    {
     "name": "stdout",
     "output_type": "stream",
     "text": [
      "value from list of set: 1 \n",
      "value from list of set: 2 \n",
      "value from list of set: 3 \n",
      "value from list of set: 4 \n",
      "value from list of set: 5 \n",
      "value from list of set: 6 \n",
      "value from list of set: 7 \n",
      "value from list of set: 8 \n",
      "value from list of set: 9 \n"
     ]
    }
   ],
   "source": [
    "b : list[set[int]] = list({1,2,3,4,5,6,7,8,9}) # we can do type casting to perform iterations on sets\n",
    "\n",
    "for n in b:\n",
    "    print(f\"value from list of set: {n} \")"
   ]
  },
  {
   "cell_type": "markdown",
   "metadata": {},
   "source": [
    "# Input Fucntions \n",
    "* input fucntions \n",
    "    * `default type = string`\n",
    "* svs.argv (for console input in abc.py file)\n",
    "    * `default type = str` "
   ]
  },
  {
   "cell_type": "code",
   "execution_count": 36,
   "metadata": {},
   "outputs": [
    {
     "name": "stdout",
     "output_type": "stream",
     "text": [
      "Pakistan Zindabad\n"
     ]
    }
   ],
   "source": [
    "message = input(\"Tell me something, and I will repeat it back to you: \")\n",
    "print(message)\n"
   ]
  },
  {
   "cell_type": "code",
   "execution_count": 14,
   "metadata": {},
   "outputs": [
    {
     "name": "stdout",
     "output_type": "stream",
     "text": [
      "<class 'str'>\n",
      "Welcome dear user Mrs/Ms Ahsan!\n"
     ]
    }
   ],
   "source": [
    "name : str = input(\"What is your name? :  \\t\")\n",
    "\n",
    "print(type(name))\n",
    "\n",
    "print(f\"Welcome dear user Mrs/Ms {name}!\")\n"
   ]
  },
  {
   "cell_type": "code",
   "execution_count": 37,
   "metadata": {},
   "outputs": [
    {
     "name": "stdout",
     "output_type": "stream",
     "text": [
      "\n",
      "Hello, python!\n"
     ]
    }
   ],
   "source": [
    "name = input(\"Please enter your name: \")\n",
    "print(f\"\\nHello, {name}!\")"
   ]
  },
  {
   "cell_type": "code",
   "execution_count": 15,
   "metadata": {},
   "outputs": [
    {
     "name": "stdout",
     "output_type": "stream",
     "text": [
      "Line1\n",
      "Line2\n",
      "['c:\\\\ANACONDA\\\\envs\\\\python13\\\\Lib\\\\site-packages\\\\ipykernel_launcher.py', '--f=c:\\\\Users\\\\LENOVO\\\\AppData\\\\Roaming\\\\jupyter\\\\runtime\\\\kernel-v2-11640yrxw1e5da2hL.json']\n"
     ]
    }
   ],
   "source": [
    "import sys\n",
    "\n",
    "\n",
    "print(\"Line1\")\n",
    "print(\"Line2\")\n",
    "\n",
    "print(sys.argv) "
   ]
  },
  {
   "cell_type": "code",
   "execution_count": 42,
   "metadata": {},
   "outputs": [
    {
     "name": "stdout",
     "output_type": "stream",
     "text": [
      "\n",
      "Hello, python!\n"
     ]
    }
   ],
   "source": [
    "prompt = \"If you share your name, we can personalize the messages you see.\"\n",
    "prompt += \"\\nWhat is your first name? \"\n",
    "name = input(prompt)\n",
    "print(f\"\\nHello, {name}!\")"
   ]
  },
  {
   "cell_type": "code",
   "execution_count": 44,
   "metadata": {},
   "outputs": [
    {
     "data": {
      "text/plain": [
       "'23'"
      ]
     },
     "execution_count": 44,
     "metadata": {},
     "output_type": "execute_result"
    }
   ],
   "source": [
    "age = input(\"How old are you? \")\n",
    "age"
   ]
  },
  {
   "cell_type": "code",
   "execution_count": 45,
   "metadata": {},
   "outputs": [
    {
     "ename": "TypeError",
     "evalue": "'>=' not supported between instances of 'str' and 'int'",
     "output_type": "error",
     "traceback": [
      "\u001b[1;31m---------------------------------------------------------------------------\u001b[0m",
      "\u001b[1;31mTypeError\u001b[0m                                 Traceback (most recent call last)",
      "Cell \u001b[1;32mIn[45], line 2\u001b[0m\n\u001b[0;32m      1\u001b[0m age \u001b[38;5;241m=\u001b[39m \u001b[38;5;28minput\u001b[39m(\u001b[38;5;124m\"\u001b[39m\u001b[38;5;124mHow old are you? \u001b[39m\u001b[38;5;124m\"\u001b[39m)\n\u001b[1;32m----> 2\u001b[0m \u001b[43mage\u001b[49m\u001b[43m \u001b[49m\u001b[38;5;241;43m>\u001b[39;49m\u001b[38;5;241;43m=\u001b[39;49m\u001b[43m \u001b[49m\u001b[38;5;241;43m18\u001b[39;49m\n",
      "\u001b[1;31mTypeError\u001b[0m: '>=' not supported between instances of 'str' and 'int'"
     ]
    }
   ],
   "source": [
    "age = input(\"How old are you? \")\n",
    "age >= 18"
   ]
  },
  {
   "cell_type": "code",
   "execution_count": 47,
   "metadata": {},
   "outputs": [
    {
     "data": {
      "text/plain": [
       "True"
      ]
     },
     "execution_count": 47,
     "metadata": {},
     "output_type": "execute_result"
    }
   ],
   "source": [
    "age = input(\"How old are you? \")\n",
    "age = int(age)\n",
    "\n",
    "age >18 "
   ]
  },
  {
   "cell_type": "code",
   "execution_count": 51,
   "metadata": {},
   "outputs": [
    {
     "name": "stdout",
     "output_type": "stream",
     "text": [
      "\n",
      "You're tall enough to ride!\n"
     ]
    }
   ],
   "source": [
    "# height = input(\"How tall are you, in inches? \")\n",
    "# height = int(height)\n",
    "\n",
    "height : list[str] = int(input(\"How tall are you, in inches?\")) # Type casting\n",
    "\n",
    "\n",
    "if height >= 48:\n",
    "    print(\"\\nYou're tall enough to ride!\")\n",
    "else:\n",
    "    print(\"\\nYou'll be able to ride when you're a little older.\")\n"
   ]
  },
  {
   "cell_type": "code",
   "execution_count": 52,
   "metadata": {},
   "outputs": [
    {
     "name": "stdout",
     "output_type": "stream",
     "text": [
      "\n",
      "The number 6 is even.\n"
     ]
    }
   ],
   "source": [
    "number = input(\"Enter a number, and I'll tell you if it's even or odd: \")\n",
    "number = int(number)\n",
    "if number % 2 == 0:\n",
    "    print(f\"\\nThe number {number} is even.\")\n",
    "else:\n",
    "    print(f\"\\nThe number {number} is odd.\")"
   ]
  },
  {
   "cell_type": "code",
   "execution_count": 16,
   "metadata": {},
   "outputs": [
    {
     "data": {
      "text/plain": [
       "['__add__',\n",
       " '__class__',\n",
       " '__contains__',\n",
       " '__delattr__',\n",
       " '__dir__',\n",
       " '__doc__',\n",
       " '__eq__',\n",
       " '__format__',\n",
       " '__ge__',\n",
       " '__getattribute__',\n",
       " '__getitem__',\n",
       " '__getnewargs__',\n",
       " '__getstate__',\n",
       " '__gt__',\n",
       " '__hash__',\n",
       " '__init__',\n",
       " '__init_subclass__',\n",
       " '__iter__',\n",
       " '__le__',\n",
       " '__len__',\n",
       " '__lt__',\n",
       " '__mod__',\n",
       " '__mul__',\n",
       " '__ne__',\n",
       " '__new__',\n",
       " '__reduce__',\n",
       " '__reduce_ex__',\n",
       " '__repr__',\n",
       " '__rmod__',\n",
       " '__rmul__',\n",
       " '__setattr__',\n",
       " '__sizeof__',\n",
       " '__str__',\n",
       " '__subclasshook__',\n",
       " 'capitalize',\n",
       " 'casefold',\n",
       " 'center',\n",
       " 'count',\n",
       " 'encode',\n",
       " 'endswith',\n",
       " 'expandtabs',\n",
       " 'find',\n",
       " 'format',\n",
       " 'format_map',\n",
       " 'index',\n",
       " 'isalnum',\n",
       " 'isalpha',\n",
       " 'isascii',\n",
       " 'isdecimal',\n",
       " 'isdigit',\n",
       " 'isidentifier',\n",
       " 'islower',\n",
       " 'isnumeric',\n",
       " 'isprintable',\n",
       " 'isspace',\n",
       " 'istitle',\n",
       " 'isupper',\n",
       " 'join',\n",
       " 'ljust',\n",
       " 'lower',\n",
       " 'lstrip',\n",
       " 'maketrans',\n",
       " 'partition',\n",
       " 'removeprefix',\n",
       " 'removesuffix',\n",
       " 'replace',\n",
       " 'rfind',\n",
       " 'rindex',\n",
       " 'rjust',\n",
       " 'rpartition',\n",
       " 'rsplit',\n",
       " 'rstrip',\n",
       " 'split',\n",
       " 'splitlines',\n",
       " 'startswith',\n",
       " 'strip',\n",
       " 'swapcase',\n",
       " 'title',\n",
       " 'translate',\n",
       " 'upper',\n",
       " 'zfill']"
      ]
     },
     "execution_count": 16,
     "metadata": {},
     "output_type": "execute_result"
    }
   ],
   "source": [
    "dir (str)"
   ]
  },
  {
   "cell_type": "code",
   "execution_count": 18,
   "metadata": {},
   "outputs": [
    {
     "data": {
      "text/plain": [
       "['__class__',\n",
       " '__class_getitem__',\n",
       " '__contains__',\n",
       " '__delattr__',\n",
       " '__delitem__',\n",
       " '__dir__',\n",
       " '__doc__',\n",
       " '__eq__',\n",
       " '__format__',\n",
       " '__ge__',\n",
       " '__getattribute__',\n",
       " '__getitem__',\n",
       " '__getstate__',\n",
       " '__gt__',\n",
       " '__hash__',\n",
       " '__init__',\n",
       " '__init_subclass__',\n",
       " '__ior__',\n",
       " '__iter__',\n",
       " '__le__',\n",
       " '__len__',\n",
       " '__lt__',\n",
       " '__ne__',\n",
       " '__new__',\n",
       " '__or__',\n",
       " '__reduce__',\n",
       " '__reduce_ex__',\n",
       " '__repr__',\n",
       " '__reversed__',\n",
       " '__ror__',\n",
       " '__setattr__',\n",
       " '__setitem__',\n",
       " '__sizeof__',\n",
       " '__str__',\n",
       " '__subclasshook__',\n",
       " 'clear',\n",
       " 'copy',\n",
       " 'fromkeys',\n",
       " 'get',\n",
       " 'items',\n",
       " 'keys',\n",
       " 'pop',\n",
       " 'popitem',\n",
       " 'setdefault',\n",
       " 'update',\n",
       " 'values']"
      ]
     },
     "execution_count": 18,
     "metadata": {},
     "output_type": "execute_result"
    }
   ],
   "source": [
    "dir(dict)  # same iter"
   ]
  },
  {
   "cell_type": "code",
   "execution_count": 22,
   "metadata": {},
   "outputs": [
    {
     "data": {
      "text/plain": [
       "['__add__',\n",
       " '__class__',\n",
       " '__class_getitem__',\n",
       " '__contains__',\n",
       " '__delattr__',\n",
       " '__delitem__',\n",
       " '__dir__',\n",
       " '__doc__',\n",
       " '__eq__',\n",
       " '__format__',\n",
       " '__ge__',\n",
       " '__getattribute__',\n",
       " '__getitem__',\n",
       " '__getstate__',\n",
       " '__gt__',\n",
       " '__hash__',\n",
       " '__iadd__',\n",
       " '__imul__',\n",
       " '__init__',\n",
       " '__init_subclass__',\n",
       " '__iter__',\n",
       " '__le__',\n",
       " '__len__',\n",
       " '__lt__',\n",
       " '__mul__',\n",
       " '__ne__',\n",
       " '__new__',\n",
       " '__reduce__',\n",
       " '__reduce_ex__',\n",
       " '__repr__',\n",
       " '__reversed__',\n",
       " '__rmul__',\n",
       " '__setattr__',\n",
       " '__setitem__',\n",
       " '__sizeof__',\n",
       " '__str__',\n",
       " '__subclasshook__',\n",
       " 'append',\n",
       " 'clear',\n",
       " 'copy',\n",
       " 'count',\n",
       " 'extend',\n",
       " 'index',\n",
       " 'insert',\n",
       " 'pop',\n",
       " 'remove',\n",
       " 'reverse',\n",
       " 'sort']"
      ]
     },
     "execution_count": 22,
     "metadata": {},
     "output_type": "execute_result"
    }
   ],
   "source": [
    "dir(list)  # same iter"
   ]
  },
  {
   "cell_type": "code",
   "execution_count": 23,
   "metadata": {},
   "outputs": [
    {
     "data": {
      "text/plain": [
       "['__add__',\n",
       " '__class__',\n",
       " '__class_getitem__',\n",
       " '__contains__',\n",
       " '__delattr__',\n",
       " '__dir__',\n",
       " '__doc__',\n",
       " '__eq__',\n",
       " '__format__',\n",
       " '__ge__',\n",
       " '__getattribute__',\n",
       " '__getitem__',\n",
       " '__getnewargs__',\n",
       " '__getstate__',\n",
       " '__gt__',\n",
       " '__hash__',\n",
       " '__init__',\n",
       " '__init_subclass__',\n",
       " '__iter__',\n",
       " '__le__',\n",
       " '__len__',\n",
       " '__lt__',\n",
       " '__mul__',\n",
       " '__ne__',\n",
       " '__new__',\n",
       " '__reduce__',\n",
       " '__reduce_ex__',\n",
       " '__repr__',\n",
       " '__rmul__',\n",
       " '__setattr__',\n",
       " '__sizeof__',\n",
       " '__str__',\n",
       " '__subclasshook__',\n",
       " 'count',\n",
       " 'index']"
      ]
     },
     "execution_count": 23,
     "metadata": {},
     "output_type": "execute_result"
    }
   ],
   "source": [
    "dir(tuple)  # same iter"
   ]
  },
  {
   "cell_type": "code",
   "execution_count": 24,
   "metadata": {},
   "outputs": [
    {
     "data": {
      "text/plain": [
       "['__abs__',\n",
       " '__add__',\n",
       " '__and__',\n",
       " '__bool__',\n",
       " '__ceil__',\n",
       " '__class__',\n",
       " '__delattr__',\n",
       " '__dir__',\n",
       " '__divmod__',\n",
       " '__doc__',\n",
       " '__eq__',\n",
       " '__float__',\n",
       " '__floor__',\n",
       " '__floordiv__',\n",
       " '__format__',\n",
       " '__ge__',\n",
       " '__getattribute__',\n",
       " '__getnewargs__',\n",
       " '__getstate__',\n",
       " '__gt__',\n",
       " '__hash__',\n",
       " '__index__',\n",
       " '__init__',\n",
       " '__init_subclass__',\n",
       " '__int__',\n",
       " '__invert__',\n",
       " '__le__',\n",
       " '__lshift__',\n",
       " '__lt__',\n",
       " '__mod__',\n",
       " '__mul__',\n",
       " '__ne__',\n",
       " '__neg__',\n",
       " '__new__',\n",
       " '__or__',\n",
       " '__pos__',\n",
       " '__pow__',\n",
       " '__radd__',\n",
       " '__rand__',\n",
       " '__rdivmod__',\n",
       " '__reduce__',\n",
       " '__reduce_ex__',\n",
       " '__repr__',\n",
       " '__rfloordiv__',\n",
       " '__rlshift__',\n",
       " '__rmod__',\n",
       " '__rmul__',\n",
       " '__ror__',\n",
       " '__round__',\n",
       " '__rpow__',\n",
       " '__rrshift__',\n",
       " '__rshift__',\n",
       " '__rsub__',\n",
       " '__rtruediv__',\n",
       " '__rxor__',\n",
       " '__setattr__',\n",
       " '__sizeof__',\n",
       " '__str__',\n",
       " '__sub__',\n",
       " '__subclasshook__',\n",
       " '__truediv__',\n",
       " '__trunc__',\n",
       " '__xor__',\n",
       " 'as_integer_ratio',\n",
       " 'bit_count',\n",
       " 'bit_length',\n",
       " 'conjugate',\n",
       " 'denominator',\n",
       " 'from_bytes',\n",
       " 'imag',\n",
       " 'is_integer',\n",
       " 'numerator',\n",
       " 'real',\n",
       " 'to_bytes']"
      ]
     },
     "execution_count": 24,
     "metadata": {},
     "output_type": "execute_result"
    }
   ],
   "source": [
    "# no iter"
   ]
  },
  {
   "cell_type": "code",
   "execution_count": 25,
   "metadata": {},
   "outputs": [
    {
     "data": {
      "text/plain": [
       "<zip at 0x1f53b162f80>"
      ]
     },
     "execution_count": 25,
     "metadata": {},
     "output_type": "execute_result"
    }
   ],
   "source": [
    "name : list[str] = [\"A\", \"B\", \"C\"]\n",
    "full_name : list[str] = [\"X\", \"Y\", \"Z\"]\n",
    "age : list[int] = [1,2,3]\n",
    "\n",
    "zip(name,full_name,age)"
   ]
  },
  {
   "cell_type": "code",
   "execution_count": 27,
   "metadata": {},
   "outputs": [
    {
     "name": "stdout",
     "output_type": "stream",
     "text": [
      "Welcome dear A. s/o B\n",
      "Welcome dear X. s/o Y\n",
      "Welcome dear 1. s/o 2\n"
     ]
    }
   ],
   "source": [
    "name : list[str] = [\"A\", \"B\", \"C\"]\n",
    "full_name : list[str] = [\"X\", \"Y\", \"Z\"]  # zip the code\n",
    "age : list[int] = [1,2,3]\n",
    "\n",
    "list(zip(name,full_name,age))\n",
    "\n",
    "for n,f,a in name,full_name,age:     # Run the loop over the zip code\n",
    "    print(f\"Welcome dear {n}. s/o {f}\")"
   ]
  },
  {
   "cell_type": "markdown",
   "metadata": {},
   "source": [
    "# While Loop\n",
    "```\n",
    "while logic: # True/False\n",
    "      loop_body\n",
    "```      "
   ]
  },
  {
   "cell_type": "code",
   "execution_count": 56,
   "metadata": {},
   "outputs": [
    {
     "name": "stdout",
     "output_type": "stream",
     "text": [
      "1\n",
      "2\n",
      "3\n",
      "4\n",
      "5\n"
     ]
    }
   ],
   "source": [
    "current_number = 1\n",
    "while current_number <= 5:\n",
    "    print(current_number)\n",
    "    current_number += 1"
   ]
  },
  {
   "cell_type": "code",
   "execution_count": 64,
   "metadata": {},
   "outputs": [
    {
     "name": "stdout",
     "output_type": "stream",
     "text": [
      "hello\n",
      "python \n",
      "world\n",
      "good\n",
      "luck\n",
      "quit\n"
     ]
    }
   ],
   "source": [
    "prompt = \"\\nTell me something, and I will repeat it back to you:\"\n",
    "prompt += \"\\nEnter 'quit' to end the program. \"\n",
    "message = \"\"        # Initialize the value to make the while loop works\n",
    "while message != 'quit':\n",
    "    message = input(prompt)\n",
    "    print(message)"
   ]
  },
  {
   "cell_type": "code",
   "execution_count": 60,
   "metadata": {},
   "outputs": [
    {
     "name": "stdout",
     "output_type": "stream",
     "text": [
      "hello\n",
      "python\n",
      "world\n",
      "good\n",
      "luck\n"
     ]
    }
   ],
   "source": [
    "prompt = \"\\nTell me something, and I will repeat it back to you:\"\n",
    "prompt += \"\\nEnter 'quit' to end the program. \"\n",
    "active = True\n",
    "while active:\n",
    "    message = input(prompt)\n",
    "    if message == 'quit':\n",
    "        active = False\n",
    "    else:\n",
    "        print(message)"
   ]
  },
  {
   "cell_type": "code",
   "execution_count": 65,
   "metadata": {},
   "outputs": [
    {
     "name": "stdout",
     "output_type": "stream",
     "text": [
      "I'd love to go to Karachi!\n"
     ]
    }
   ],
   "source": [
    "prompt = \"\\nPlease enter the name of a city you have visited:\"\n",
    "prompt += \"\\n(Enter 'quit' when you are finished.) \"\n",
    "while True:\n",
    "    city = input(prompt)\n",
    "    if city == 'quit':\n",
    "        break\n",
    "    else:\n",
    "        print(f\"I'd love to go to {city.title()}!\")"
   ]
  },
  {
   "cell_type": "code",
   "execution_count": 29,
   "metadata": {},
   "outputs": [
    {
     "name": "stdout",
     "output_type": "stream",
     "text": [
      "Your current number 1\n",
      "Your current number 2\n",
      "Your current number 3\n",
      "Your current number 4\n",
      "Your current number 5\n",
      "Your current number 6\n",
      "Your current number 7\n",
      "Your current number 8\n",
      "Your current number 9\n",
      "Your current number 10\n"
     ]
    }
   ],
   "source": [
    "flag : bool =  True  # flag\n",
    "\n",
    "number : int = 1           \n",
    "\n",
    "while flag:       # Run when it is True and stops when it is false\n",
    "    print(f\"Your current number {number}\")\n",
    "    number += 1\n",
    "\n",
    "    if number == 11:  # flag false at some point\n",
    "        break\n",
    "        "
   ]
  },
  {
   "cell_type": "code",
   "execution_count": 30,
   "metadata": {},
   "outputs": [
    {
     "name": "stdout",
     "output_type": "stream",
     "text": [
      "Your current index is: 0 and list value 100\n",
      "Your current index is: 1 and list value 200\n",
      "Your current index is: 2 and list value 300\n"
     ]
    }
   ],
   "source": [
    "li : list[int] = [100,200,300]\n",
    "\n",
    "index : int = 0         \n",
    "\n",
    "while index < len(li):       # Run when it is True and stops when it is false\n",
    "    print(f\"Your current index is: {index} and list value {li[index]}\")\n",
    "    index += 1\n",
    "\n"
   ]
  },
  {
   "cell_type": "code",
   "execution_count": 36,
   "metadata": {},
   "outputs": [
    {
     "name": "stdout",
     "output_type": "stream",
     "text": [
      "Write exit or quit to stop the process\n",
      "Write exit or quit to stop the process\n",
      "Write exit or quit to stop the process\n"
     ]
    },
    {
     "data": {
      "text/plain": [
       "[{'name': 'a', 'education': 'b'}, {'name': 'a', 'education': 'a'}]"
      ]
     },
     "metadata": {},
     "output_type": "display_data"
    }
   ],
   "source": [
    "data : list[dict[str,str]] = []\n",
    "\n",
    "flag : bool = True\n",
    "\n",
    "while flag:\n",
    "    print(\"Write exit or quit to stop the process\")\n",
    "    name : str = input(\"What is yout name? \\t:\")\n",
    "    education : str = input(\"What is your educations? \\t\")\n",
    "\n",
    "    if name in [\"close\",\"quit\",\"stop\",\"exit\"] or education in  [\"close\",\"quit\",\"stop\",\"exit\"]:\n",
    "       flag = False\n",
    "       break\n",
    "    data.append({\"name\" : name,\n",
    "               \"education\" : education})\n",
    "display(data)"
   ]
  },
  {
   "cell_type": "markdown",
   "metadata": {},
   "source": [
    "# Controls\n",
    "* contiue\n",
    "* pass\n",
    "* break\n"
   ]
  },
  {
   "cell_type": "markdown",
   "metadata": {},
   "source": [
    "* break"
   ]
  },
  {
   "cell_type": "code",
   "execution_count": 37,
   "metadata": {},
   "outputs": [
    {
     "name": "stdout",
     "output_type": "stream",
     "text": [
      "1\n",
      "2\n",
      "3\n",
      "4\n",
      "5\n"
     ]
    }
   ],
   "source": [
    "for i in range(1,11):\n",
    "    print(i)\n",
    "    if i == 5 :\n",
    "        break"
   ]
  },
  {
   "cell_type": "code",
   "execution_count": 39,
   "metadata": {},
   "outputs": [
    {
     "name": "stdout",
     "output_type": "stream",
     "text": [
      "2 x 1 = 2\n"
     ]
    }
   ],
   "source": [
    "for i in range(1,11):\n",
    "    print(f\"2 x {i} = {2*i}\")\n",
    "    break     # stop the iterations on a particular logic"
   ]
  },
  {
   "cell_type": "code",
   "execution_count": 41,
   "metadata": {},
   "outputs": [
    {
     "name": "stdout",
     "output_type": "stream",
     "text": [
      "2 x 1 = 2\n",
      "2 x 2 = 4\n",
      "2 x 3 = 6\n",
      "2 x 4 = 8\n",
      "2 x 5 = 10\n",
      "2 x 6 = 12\n",
      "2 x 7 = 14\n",
      "2 x 8 = 16\n",
      "2 x 9 = 18\n",
      "2 x 10 = 20\n"
     ]
    }
   ],
   "source": [
    "for i in range(1,11):\n",
    "    print(f\"2 x {i} = {2*i}\")\n",
    "    \n",
    "    "
   ]
  },
  {
   "cell_type": "markdown",
   "metadata": {},
   "source": [
    "* continue"
   ]
  },
  {
   "cell_type": "code",
   "execution_count": 44,
   "metadata": {},
   "outputs": [
    {
     "name": "stdout",
     "output_type": "stream",
     "text": [
      "1\n",
      "2\n",
      "3\n",
      "5\n"
     ]
    }
   ],
   "source": [
    "for i in range(1,6): # iteration 1 to 6\n",
    "    if i == 4:       \n",
    "        continue  # Skipping the 4 iteration when i is 4\n",
    "    print(i)"
   ]
  },
  {
   "cell_type": "markdown",
   "metadata": {},
   "source": [
    "* pass"
   ]
  },
  {
   "cell_type": "code",
   "execution_count": 34,
   "metadata": {},
   "outputs": [
    {
     "ename": "SyntaxError",
     "evalue": "incomplete input (1334445784.py, line 1)",
     "output_type": "error",
     "traceback": [
      "\u001b[1;36m  Cell \u001b[1;32mIn[34], line 1\u001b[1;36m\u001b[0m\n\u001b[1;33m    for i in range(1,11):\u001b[0m\n\u001b[1;37m                         ^\u001b[0m\n\u001b[1;31mSyntaxError\u001b[0m\u001b[1;31m:\u001b[0m incomplete input\n"
     ]
    }
   ],
   "source": [
    "for i in range(1,11):"
   ]
  },
  {
   "cell_type": "code",
   "execution_count": 46,
   "metadata": {},
   "outputs": [],
   "source": [
    "for i in range(1,11): # the process start working\n",
    "    pass"
   ]
  },
  {
   "cell_type": "code",
   "execution_count": 47,
   "metadata": {},
   "outputs": [],
   "source": [
    "def abc(a : int, b : int) -> int :\n",
    "    pass"
   ]
  },
  {
   "cell_type": "code",
   "execution_count": 49,
   "metadata": {},
   "outputs": [
    {
     "name": "stdout",
     "output_type": "stream",
     "text": [
      "\n",
      "Hello, ahsan!\n"
     ]
    }
   ],
   "source": [
    "prompt = \"\"\"If you share your name, we can personalize the  messages you see.\n",
    "\\nWhat is your first name? \"\"\"\n",
    "\n",
    "name = input(prompt)\n",
    "print(f\"\\nHello, {name}!\")"
   ]
  },
  {
   "cell_type": "code",
   "execution_count": 50,
   "metadata": {},
   "outputs": [
    {
     "name": "stdout",
     "output_type": "stream",
     "text": [
      "10\n"
     ]
    }
   ],
   "source": [
    "print(1+2+3+4)"
   ]
  },
  {
   "cell_type": "code",
   "execution_count": 51,
   "metadata": {},
   "outputs": [
    {
     "name": "stdout",
     "output_type": "stream",
     "text": [
      "10\n"
     ]
    }
   ],
   "source": [
    "print(1+\\ \n",
    "      2\\     \n",
    "        +3\\\n",
    "    +4) # line continue in backlash"
   ]
  },
  {
   "cell_type": "code",
   "execution_count": 55,
   "metadata": {},
   "outputs": [
    {
     "data": {
      "text/plain": [
       "True"
      ]
     },
     "execution_count": 55,
     "metadata": {},
     "output_type": "execute_result"
    }
   ],
   "source": [
    "age  : int = int(input(\"How old are you? \"))  # type casting\n",
    "age > 18\n"
   ]
  },
  {
   "cell_type": "code",
   "execution_count": 56,
   "metadata": {},
   "outputs": [
    {
     "data": {
      "text/plain": [
       "[6, 18]"
      ]
     },
     "execution_count": 56,
     "metadata": {},
     "output_type": "execute_result"
    }
   ],
   "source": [
    "data : list[int] = [1,3,5,6,15,18]\n",
    "\n",
    "[i for i in data if i%2==0]"
   ]
  },
  {
   "cell_type": "code",
   "execution_count": 57,
   "metadata": {},
   "outputs": [
    {
     "data": {
      "text/plain": [
       "[1, 3, 5, 15]"
      ]
     },
     "execution_count": 57,
     "metadata": {},
     "output_type": "execute_result"
    }
   ],
   "source": [
    "data : list[int] = [1,3,5,6,15,18]\n",
    "\n",
    "[i for i in data if i%2!=0]"
   ]
  },
  {
   "cell_type": "code",
   "execution_count": 60,
   "metadata": {},
   "outputs": [
    {
     "name": "stdout",
     "output_type": "stream",
     "text": [
      "1\n",
      "3\n",
      "5\n",
      "7\n",
      "9\n"
     ]
    }
   ],
   "source": [
    "current_number = 0\n",
    "while current_number < 10:\n",
    "    current_number += 1\n",
    "    if current_number % 2 == 0:  # for odd number\n",
    "        continue\n",
    "    print(current_number)"
   ]
  },
  {
   "cell_type": "code",
   "execution_count": 61,
   "metadata": {},
   "outputs": [
    {
     "name": "stdout",
     "output_type": "stream",
     "text": [
      "2\n",
      "4\n",
      "6\n",
      "8\n",
      "10\n"
     ]
    }
   ],
   "source": [
    "current_number = 0\n",
    "while current_number < 10:\n",
    "    current_number += 1\n",
    "    if current_number % 2 != 0:  # for even number\n",
    "        continue\n",
    "    print(current_number)"
   ]
  },
  {
   "cell_type": "code",
   "execution_count": 62,
   "metadata": {},
   "outputs": [
    {
     "name": "stdout",
     "output_type": "stream",
     "text": [
      "\n",
      "--- Poll Results ---\n",
      "Ahsan would like to climb K2.\n"
     ]
    }
   ],
   "source": [
    "responses = {}\n",
    "# Set a flag to indicate that polling is active.\n",
    "polling_active = True\n",
    "while polling_active:\n",
    "    # Prompt for the person's name and response.\n",
    "    name = input(\"\\nWhat is your name? \")\n",
    "    response = input(\"Which mountain would you like to climb someday? \")\n",
    "    # Store the response in the dictionary.\n",
    "    responses[name] = response\n",
    "    # Find out if anyone else is going to take the poll.\n",
    "    repeat = input(\"Would you like to let another person respond? (yes/ no) \")\n",
    "    if repeat == 'no':\n",
    "        polling_active = False\n",
    "# Polling is complete. Show the results.\n",
    "print(\"\\n--- Poll Results ---\")\n",
    "for name, response in responses.items():\n",
    "    print(f\"{name} would like to climb {response}.\")"
   ]
  },
  {
   "cell_type": "code",
   "execution_count": 63,
   "metadata": {},
   "outputs": [
    {
     "name": "stdout",
     "output_type": "stream",
     "text": [
      "Verifying user: Candace\n",
      "Verifying user: Brian\n",
      "Verifying user: Alice\n",
      "\n",
      "The following users have been confirmed:\n",
      "Candace\n",
      "Brian\n",
      "Alice\n"
     ]
    }
   ],
   "source": [
    "# Start with users that need to be verified,\n",
    "#  and an empty list to hold confirmed users.\n",
    "unconfirmed_users = ['alice', 'brian', 'candace']\n",
    "confirmed_users = []\n",
    "# Verify each user until there are no more unconfirmed\n",
    "\n",
    "#Move each verified user into the list of confirmed users.\n",
    "while unconfirmed_users:\n",
    "    current_user = unconfirmed_users.pop()\n",
    "    print(f\"Verifying user: {current_user.title()}\")\n",
    "    confirmed_users.append(current_user)\n",
    "# Display all confirmed users.\n",
    "print(\"\\nThe following users have been confirmed:\")\n",
    "for confirmed_user in confirmed_users:\n",
    "    print(confirmed_user.title())\n"
   ]
  },
  {
   "cell_type": "code",
   "execution_count": 64,
   "metadata": {},
   "outputs": [
    {
     "name": "stdout",
     "output_type": "stream",
     "text": [
      "['dog', 'cat', 'dog', 'goldfish', 'cat', 'rabbit', 'cat']\n",
      "['dog', 'dog', 'goldfish', 'rabbit']\n"
     ]
    }
   ],
   "source": [
    "pets = ['dog', 'cat', 'dog', 'goldfish', 'cat', 'rabbit','cat']\n",
    "print(pets)\n",
    "\n",
    "while 'cat' in pets:\n",
    "    pets.remove('cat')\n",
    "    \n",
    "print(pets)"
   ]
  },
  {
   "cell_type": "markdown",
   "metadata": {},
   "source": [
    "# Questions and Answers"
   ]
  },
  {
   "cell_type": "markdown",
   "metadata": {},
   "source": [
    "# 1.Rental Car: \n",
    "* Write a program that asks the user what kind of rental car they would like.\n",
    "Print a message about that car, such as “Let me see if I can find you a Subaru."
   ]
  },
  {
   "cell_type": "code",
   "execution_count": 55,
   "metadata": {},
   "outputs": [
    {
     "name": "stdout",
     "output_type": "stream",
     "text": [
      "Let me see if I can find you a honda\n"
     ]
    }
   ],
   "source": [
    "rental : input = input(\"What kind of rental car they would like?\")\n",
    "print(f\"Let me see if I can find you a {rental}\")"
   ]
  },
  {
   "cell_type": "markdown",
   "metadata": {},
   "source": [
    "# 2. Restaurant Seating: \n",
    "* Write a program that asks the user how many people are in their\n",
    "dinner group. If the answer is more than eight, print a message saying they’ll have to wait for a\n",
    "table. Otherwise, report that their table is ready."
   ]
  },
  {
   "cell_type": "code",
   "execution_count": 80,
   "metadata": {},
   "outputs": [
    {
     "name": "stdout",
     "output_type": "stream",
     "text": [
      "They'll have to wait for a table\n"
     ]
    }
   ],
   "source": [
    "seating : int = int(input(\"How many people are in their dinner group.\"))\n",
    "\n",
    "\n",
    "if seating > 8 :\n",
    "    print(\"They'll have to wait for a table\")\n",
    "else:\n",
    "    print(\"Table is ready\")    "
   ]
  },
  {
   "cell_type": "markdown",
   "metadata": {},
   "source": [
    "# 3. Multiples of Ten: \n",
    "* Ask the user for a number, and then report whether the number is a multiple of 10 or not."
   ]
  },
  {
   "cell_type": "code",
   "execution_count": 5,
   "metadata": {},
   "outputs": [
    {
     "name": "stdout",
     "output_type": "stream",
     "text": [
      "The 20 is a multpile of ten\n"
     ]
    }
   ],
   "source": [
    "number : int = int(input(\"Input a number\"))\n",
    "\n",
    "if number % 10 == 0:\n",
    "    print(f\"The {number} is a multpile of ten\")\n",
    "else:\n",
    "    print(f\"The {number} is not a multiple of ten\")\n"
   ]
  },
  {
   "cell_type": "markdown",
   "metadata": {},
   "source": [
    "# 4. Pizza Toppings:\n",
    "* Write a loop that prompts the user to enter a series of pizza toppings until they enter a 'quit' value.\n",
    "*  As they enter each topping, print a message saying you’ll add that\n",
    "topping to their pizza."
   ]
  },
  {
   "cell_type": "code",
   "execution_count": 2,
   "metadata": {},
   "outputs": [
    {
     "name": "stdout",
     "output_type": "stream",
     "text": [
      "brbq pizza topping will be added\n",
      "tikka pizza topping will be added\n",
      "quit pizza topping will be added\n"
     ]
    }
   ],
   "source": [
    "pizza : str = \"\"\n",
    "\n",
    "prompt = \"Enter your series of pizza.!(Type exit to end to program)\"\n",
    "\n",
    "while pizza != 'quit':\n",
    "    pizza = input(prompt)\n",
    "    print(f\"{pizza} pizza topping will be added\")\n"
   ]
  },
  {
   "cell_type": "markdown",
   "metadata": {},
   "source": [
    "* Different ways to solve  of a particular same problem."
   ]
  },
  {
   "cell_type": "code",
   "execution_count": 3,
   "metadata": {},
   "outputs": [
    {
     "name": "stdout",
     "output_type": "stream",
     "text": [
      " Add brbq toppings to your pizza. \n",
      " Add tikka toppings to your pizza. \n",
      " Add cheese toppings to your pizza. \n"
     ]
    }
   ],
   "source": [
    "prompt = \"Enter your series of pizza.!(Type exit to end to program\"\n",
    "\n",
    "active : bool = True\n",
    "\n",
    "while active:\n",
    "    user = input(prompt)\n",
    "\n",
    "    if user == 'quit':\n",
    "        active = False\n",
    "    else:\n",
    "        print(f\" Add {user} toppings to your pizza. \")    "
   ]
  },
  {
   "cell_type": "code",
   "execution_count": 3,
   "metadata": {},
   "outputs": [
    {
     "name": "stdout",
     "output_type": "stream",
     "text": [
      "Add brbq pizza toppings to your pizza.\n",
      "Add tikka pizza toppings to your pizza.\n",
      "Add chesse pizza toppings to your pizza.\n",
      "\n",
      "Your pizza toppings:\n",
      "brbq\n",
      "tikka\n",
      "chesse\n"
     ]
    }
   ],
   "source": [
    "# Create an empty list to store pizza toppings\n",
    "pizza_toppings = []\n",
    "\n",
    "# Start an infinite loop\n",
    "while True:\n",
    "    # Prompt the user to enter a pizza topping\n",
    "    topping = input(\"Enter a pizza topping (or 'quit' to finish): \")\n",
    "\n",
    "    # Check if the user wants to quit\n",
    "    if topping.lower() == 'quit':\n",
    "        # Exit the loop if the user enters 'quit'\n",
    "        break\n",
    "\n",
    "    # If the user enters a topping, print a message and add it to the list\n",
    "    print(f\"Add {topping} pizza toppings to your pizza.\")\n",
    "    pizza_toppings.append(topping)\n",
    "\n",
    "# Print the final list of pizza toppings\n",
    "print(\"\\nYour pizza toppings:\")\n",
    "for topping in pizza_toppings:\n",
    "    print(topping)\n",
    "\n",
    "    "
   ]
  },
  {
   "cell_type": "markdown",
   "metadata": {},
   "source": [
    "# 5. Movie Tickets:\n",
    "* A movie theater charges different ticket prices depending on a person’s age. \n",
    "* If a person is under the age of 3, the ticket is free; if they are between 3 and 12, the ticket is $10; and if they are over age 12, the ticket is $15. \n",
    "* Write a loop in which you ask users their age, and then tell them the cost of their movie ticket.\n"
   ]
  },
  {
   "cell_type": "code",
   "execution_count": 10,
   "metadata": {},
   "outputs": [
    {
     "name": "stdout",
     "output_type": "stream",
     "text": [
      "Invalid input. Please enter a valid age.\n",
      "Exiting the program. Goodbye!\n"
     ]
    }
   ],
   "source": [
    "# Movie Tickets Pricing with Input and While Loop \n",
    "\n",
    "while True:\n",
    "    # Get user's age\n",
    "    age_input = input(\"Enter your age (or 'quit' to exit): \")\n",
    "\n",
    "    # Check if the user wants to exit\n",
    "    if age_input.lower() == 'quit':\n",
    "        print(\"Exiting the program. Goodbye!\")\n",
    "        break\n",
    "\n",
    "    # Check if the input consists only of digits\n",
    "    if not age_input.isdigit():\n",
    "        print(\"Invalid input. Please enter a valid age.\")\n",
    "        continue\n",
    "\n",
    "    # Convert the age input to an integer\n",
    "    age = int(age_input)\n",
    "\n",
    "    # Determine ticket price based on age\n",
    "    if age < 3:\n",
    "        print(\"Your ticket is free!\")\n",
    "    elif 3 <= age <= 12:\n",
    "        print(\"Your ticket costs $10.\")\n",
    "    else:\n",
    "        print(\"Your ticket costs $15.\")\n"
   ]
  },
  {
   "cell_type": "markdown",
   "metadata": {},
   "source": [
    "# 6. Deli: \n",
    "* Make a list called sandwich_orders and fill it with the names of various sandwiches.\n",
    "* Then make an empty list called finished_sandwiches. Loop through the list of sandwich orders and print a message for each order, such as I made your tuna sandwich. \n",
    "* As each sandwich is made, move it to the list of finished sandwiches. After all the sandwiches have been\n",
    "made, print a message listing each sandwich that was made."
   ]
  },
  {
   "cell_type": "code",
   "execution_count": 31,
   "metadata": {},
   "outputs": [
    {
     "name": "stdout",
     "output_type": "stream",
     "text": [
      "I made your Club Sandwich sandwich.\n",
      "I made your Tuna Sandwich sandwich.\n",
      "I made your Chicken Sandwich sandwich.\n",
      "I made your Veggie Sandwich sandwich.\n",
      "I made your Ham Sandwich sandwich.\n",
      "\n",
      "--- Finished Sandwiches ---\n",
      "Club Sandwich\n",
      "Tuna Sandwich\n",
      "Chicken Sandwich\n",
      "Veggie Sandwich\n",
      "Ham Sandwich\n"
     ]
    }
   ],
   "source": [
    "# Make a list called sandwich_orders\n",
    "sandwich_orders = [\"Club Sandwich\", \"Tuna Sandwich\", \"Chicken Sandwich\", \"Veggie Sandwich\", \"Ham Sandwich\"]\n",
    "\n",
    "# Make an empty list called finished_sandwiches\n",
    "finished_sandwiches = []\n",
    "\n",
    "# Process sandwich orders with a while loop\n",
    "while sandwich_orders:\n",
    "    current_order = sandwich_orders.pop(0)  # Take the first sandwich order from the list\n",
    "    print(f\"I made your {current_order} sandwich.\")\n",
    "    \n",
    "    # Move each sandwich to the list of finished sandwiches\n",
    "    finished_sandwiches.append(current_order)\n",
    "\n",
    "# Print a message listing each sandwich that was made\n",
    "print(\"\\n--- Finished Sandwiches ---\")\n",
    "for sandwich in finished_sandwiches:\n",
    "    print(sandwich)\n"
   ]
  },
  {
   "cell_type": "markdown",
   "metadata": {},
   "source": [
    "# 7. No Pastrami:\n",
    "* Using the list sandwich_orders from the above, make sure the sandwich 'pastrami' appears in the list at least three times. \n",
    "* Add code near the beginning of your program to print a message saying the deli has run out of pastrami, and then use a while loop to remove all occurrences of 'pastrami' from sandwich_orders.\n",
    "*  Make sure no pastrami sandwiches end up in finished_sandwiches."
   ]
  },
  {
   "cell_type": "code",
   "execution_count": 9,
   "metadata": {},
   "outputs": [
    {
     "name": "stdout",
     "output_type": "stream",
     "text": [
      "Deli has run out of pastrami.\n",
      "I made your Beef Sandwich\n",
      "I made your Tikka Sandwich\n",
      "I made your Club Sandwich\n",
      "\n",
      "--- Finished Sandwiches ---\n",
      "Beef Sandwich\n",
      "Tikka Sandwich\n",
      "Club Sandwich\n"
     ]
    }
   ],
   "source": [
    "sandwich_orders = [\"Club Sandwich\", \"Tikka Sandwich\", \"Beef Sandwich\", \"Pastrami Sandwich\", \"Pastrami Sandwich\", \"Pastrami Sandwich\"]\n",
    "\n",
    "# Remove all occurrences of 'Pastrami Sandwich' from sandwich_orders\n",
    "while \"Pastrami Sandwich\" in sandwich_orders:\n",
    "    sandwich_orders.remove(\"Pastrami Sandwich\")\n",
    "\n",
    "print(\"Deli has run out of pastrami.\")\n",
    "\n",
    "finished_sandwiches = []\n",
    "\n",
    "while sandwich_orders:\n",
    "    sandwiches = sandwich_orders.pop()\n",
    "    print(f\"I made your {sandwiches}\")\n",
    "    finished_sandwiches.append(sandwiches)\n",
    "\n",
    "print(\"\\n--- Finished Sandwiches ---\")\n",
    "for sandwich in finished_sandwiches:\n",
    "    print(sandwich)\n"
   ]
  },
  {
   "cell_type": "markdown",
   "metadata": {},
   "source": [
    "# 8. Dream Vacation:\n",
    "* Write a program that polls users about their dream vacation. \n",
    "* Write a prompt similar to If you could visit one place in the world, where would you go? \n",
    "* Include a block of code that prints the results of the poll.\n"
   ]
  },
  {
   "cell_type": "code",
   "execution_count": 29,
   "metadata": {},
   "outputs": [
    {
     "name": "stdout",
     "output_type": "stream",
     "text": [
      "Thank you, a! Your dream vacation destination is recorded.\n",
      "\n",
      "Thank you, b! Your dream vacation destination is recorded.\n",
      "\n",
      "Thank you, k! Your dream vacation destination is recorded.\n",
      "\n",
      "Thank you, ahsan! Your dream vacation destination is recorded.\n",
      "\n",
      "\n",
      "--- Dream Vacation Poll Results ---\n",
      "a dreams of visiting k2\n",
      "b dreams of visiting himalayas\n",
      "k dreams of visiting makkah\n",
      "ahsan dreams of visiting madinah\n",
      "Polling complete. Have a great day!\n"
     ]
    }
   ],
   "source": [
    "# Dream Vacation Poll\n",
    "dream_vacations = {}\n",
    "\n",
    "# Poll users about their dream vacation\n",
    "while True:\n",
    "    name = input(\"What's your name? (Enter 'quit' to exit) \")\n",
    "    \n",
    "    if name.lower() == 'quit':\n",
    "        break\n",
    "    \n",
    "    destination = input(\"If you could visit one place in the world, where would you go? \")\n",
    "    \n",
    "    # Store the user's response in the dictionary\n",
    "    dream_vacations[name] = destination\n",
    "    print(f\"Thank you, {name}! Your dream vacation destination is recorded.\\n\")\n",
    "\n",
    "# Print the results of the poll\n",
    "print(\"\\n--- Dream Vacation Poll Results ---\")\n",
    "for name, destination in dream_vacations.items():\n",
    "    print(f\"{name} dreams of visiting {destination}\")\n",
    "\n",
    "print(\"Polling complete. Have a great day!\")\n"
   ]
  },
  {
   "cell_type": "code",
   "execution_count": 33,
   "metadata": {},
   "outputs": [],
   "source": []
  },
  {
   "cell_type": "code",
   "execution_count": null,
   "metadata": {},
   "outputs": [],
   "source": []
  }
 ],
 "metadata": {
  "kernelspec": {
   "display_name": "python13",
   "language": "python",
   "name": "python3"
  },
  "language_info": {
   "codemirror_mode": {
    "name": "ipython",
    "version": 3
   },
   "file_extension": ".py",
   "mimetype": "text/x-python",
   "name": "python",
   "nbconvert_exporter": "python",
   "pygments_lexer": "ipython3",
   "version": "3.12.0"
  }
 },
 "nbformat": 4,
 "nbformat_minor": 2
}
