{
 "cells": [
  {
   "cell_type": "markdown",
   "metadata": {},
   "source": [
    "# Fucntion\n",
    "* Pre-define fucntion\n",
    "     * Provided by in language\n",
    "* User-define\n",
    "    *  Custom function\n",
    "## Similar properties on both type\n",
    "* Return and None_return fucntion\n",
    "    * Return\n",
    "      * we can assign this fucntion output in any varaible\n",
    "    * Non-Return\n",
    "     * Only run we can't assign value to variable \n",
    "\n",
    "\n",
    "## Components\n",
    "* fuctnion declaration\n",
    "   * function name\n",
    "   * parameters\n",
    "     * param : type\n",
    "   * return output    \n",
    "* fucntion body\n",
    "   * any busniess logic write here  \n",
    "* fucntion calling\n",
    "  * function(arg1,arg2) \n",
    "\n",
    "### Syntax fucntion\n",
    "\n",
    "```\n",
    "def function_name(param1:type,param2:type2,...)->Return_type: # declarations\n",
    "    function_body # Body\n",
    "```    \n",
    "    fucntion_name(arg1,arg2) # function calling\n"
   ]
  },
  {
   "cell_type": "markdown",
   "metadata": {},
   "source": [
    "# Pre-defined Fuctions\n",
    "\n",
    "* print\n",
    "* len\n",
    "* id\n",
    "* dir\n",
    "* chr\n",
    "* ord\n",
    "* exec"
   ]
  },
  {
   "cell_type": "markdown",
   "metadata": {},
   "source": [
    "# Return and None-return Fucntion"
   ]
  },
  {
   "cell_type": "code",
   "execution_count": 103,
   "metadata": {},
   "outputs": [
    {
     "name": "stdout",
     "output_type": "stream",
     "text": [
      "Hello!\n"
     ]
    }
   ],
   "source": [
    "# Defining Function\n",
    "def greet_user() -> None:\n",
    "    \"\"\"Display a simple greeting.\"\"\"\n",
    "    print(\"Hello!\")\n",
    "\n",
    "greet_user()\n"
   ]
  },
  {
   "cell_type": "code",
   "execution_count": 78,
   "metadata": {},
   "outputs": [
    {
     "name": "stdout",
     "output_type": "stream",
     "text": [
      "Paksiatn\n"
     ]
    },
    {
     "data": {
      "text/plain": [
       "None"
      ]
     },
     "metadata": {},
     "output_type": "display_data"
    }
   ],
   "source": [
    "a : str = print(\"Paksiatn\") # a = \"Paksitan\" | None\n",
    "display(a) # none"
   ]
  },
  {
   "cell_type": "code",
   "execution_count": 137,
   "metadata": {},
   "outputs": [
    {
     "name": "stdout",
     "output_type": "stream",
     "text": [
      "Jimi Hendrix\n"
     ]
    }
   ],
   "source": [
    "# returnig a single value\n",
    "\n",
    "def get_formatted_name(first_name : str, last_name : str)->None:\n",
    "    \"\"\"Return a full name, neatly formatted.\"\"\"\n",
    "    full_name = f\"{first_name} {last_name}\"\n",
    "    return full_name.title()\n",
    "musician = get_formatted_name('jimi', 'hendrix')\n",
    "print(musician)"
   ]
  },
  {
   "cell_type": "code",
   "execution_count": 184,
   "metadata": {},
   "outputs": [
    {
     "name": "stdout",
     "output_type": "stream",
     "text": [
      "Hello, Hannah!\n",
      "Hello, Ty!\n",
      "Hello, Margot!\n"
     ]
    }
   ],
   "source": [
    "# passing a list\n",
    "def greet_users(names : str)->None:\n",
    "    \"\"\"Print a simple greeting to each user in the list.\"\"\"\n",
    "    for name in names:\n",
    "        msg = f\"Hello, {name.title()}!\"\n",
    "        print(msg)\n",
    "usernames = ['hannah', 'ty', 'margot']\n",
    "greet_users(usernames)"
   ]
  },
  {
   "cell_type": "code",
   "execution_count": 146,
   "metadata": {},
   "outputs": [
    {
     "name": "stdout",
     "output_type": "stream",
     "text": [
      "{'first': 'jimi', 'last': 'hendrix'}\n"
     ]
    }
   ],
   "source": [
    "# returning dictionary\n",
    "\n",
    "def build_person(first_name : str, last_name : str)->None:\n",
    "    \"\"\"Return a dictionary of information about a person.\"\"\"\n",
    "    person = {'first': first_name, 'last': last_name}\n",
    "    return person\n",
    "\n",
    "musician = build_person('jimi', 'hendrix')\n",
    "print(musician)"
   ]
  },
  {
   "cell_type": "code",
   "execution_count": 148,
   "metadata": {},
   "outputs": [
    {
     "name": "stdout",
     "output_type": "stream",
     "text": [
      "{'first': 'jimi', 'last': 'hendrix', 'age': 27}\n"
     ]
    }
   ],
   "source": [
    "def build_person(first_name : str, last_name : str, age = None)->None:\n",
    "    \"\"\"Return a dictionary of information about a person.\"\"\"\n",
    "    person = {'first': first_name, 'last': last_name}\n",
    "    if age:\n",
    "        person['age'] = age\n",
    "    return person\n",
    "musician = build_person('jimi', 'hendrix', age=27)\n",
    "print(musician)"
   ]
  },
  {
   "cell_type": "code",
   "execution_count": 149,
   "metadata": {},
   "outputs": [
    {
     "name": "stdout",
     "output_type": "stream",
     "text": [
      "\n",
      "Please tell me your name:\n",
      "(enter 'q' at any time to quit)\n",
      "\n",
      "Hello, John Alex!\n",
      "\n",
      "Please tell me your name:\n",
      "(enter 'q' at any time to quit)\n"
     ]
    }
   ],
   "source": [
    "# Using a function with a while loop\n",
    "\n",
    "def get_formatted_name(first_name : str, last_name : str)->None:\n",
    "    \"\"\"Return a full name, neatly formatted.\"\"\"\n",
    "    full_name = f\"{first_name} {last_name}\"\n",
    "    return full_name.title()\n",
    "while True:\n",
    "    print(\"\\nPlease tell me your name:\")\n",
    "    print(\"(enter 'q' at any time to quit)\")\n",
    "    f_name = input(\"First name: \")\n",
    "   \n",
    "    if f_name == 'q':\n",
    "        break\n",
    "    l_name = input(\"Last name: \")\n",
    "    if l_name == 'q':\n",
    "        break\n",
    "    formatted_name = get_formatted_name(f_name, l_name)\n",
    "    print(f\"\\nHello, {formatted_name}!\")"
   ]
  },
  {
   "cell_type": "code",
   "execution_count": 79,
   "metadata": {},
   "outputs": [
    {
     "data": {
      "text/plain": [
       "8"
      ]
     },
     "metadata": {},
     "output_type": "display_data"
    }
   ],
   "source": [
    "a : int = len(\"Pakistan\") # a = 8 Return\n",
    "display(a)"
   ]
  },
  {
   "cell_type": "markdown",
   "metadata": {},
   "source": [
    "## Create simple function without any argument (default function)"
   ]
  },
  {
   "cell_type": "code",
   "execution_count": 76,
   "metadata": {},
   "outputs": [
    {
     "name": "stdout",
     "output_type": "stream",
     "text": [
      "Coding language\n",
      "Programming language\n"
     ]
    }
   ],
   "source": [
    "def python()->None:  # declaration/ function signatures\n",
    "    # function body start\n",
    "    print(\"Coding language\") # Statment 1\n",
    "    print(\"Programming language\") # Statment 2\n",
    "    # function body close\n",
    "\n",
    " # calling function   \n",
    "python()\n",
    "\n"
   ]
  },
  {
   "cell_type": "code",
   "execution_count": 107,
   "metadata": {},
   "outputs": [
    {
     "name": "stdout",
     "output_type": "stream",
     "text": [
      "Hello member welcome to the meeting\n"
     ]
    }
   ],
   "source": [
    "def meetings()->None:\n",
    "    print(\"Hello member welcome to the meeting\")\n",
    "\n",
    "\n",
    "meetings()    \n",
    "    "
   ]
  },
  {
   "cell_type": "code",
   "execution_count": 77,
   "metadata": {},
   "outputs": [
    {
     "name": "stdout",
     "output_type": "stream",
     "text": [
      "Coding language\n",
      "Programming language\n",
      "Coding language\n",
      "Programming language\n"
     ]
    }
   ],
   "source": [
    "python()\n",
    "python()"
   ]
  },
  {
   "cell_type": "markdown",
   "metadata": {},
   "source": [
    " # Required parameters functions"
   ]
  },
  {
   "cell_type": "code",
   "execution_count": 104,
   "metadata": {},
   "outputs": [
    {
     "name": "stdout",
     "output_type": "stream",
     "text": [
      "Hello, Jesse!\n"
     ]
    }
   ],
   "source": [
    "# Passing the information to a function\n",
    "\n",
    "def greet_user(username: str) -> None:\n",
    "    \"\"\"Display a simple greeting.\"\"\"\n",
    "    print(f\"Hello, {username.title()}!\")\n",
    "\n",
    "greet_user('jesse')"
   ]
  },
  {
   "cell_type": "code",
   "execution_count": 106,
   "metadata": {},
   "outputs": [
    {
     "name": "stdout",
     "output_type": "stream",
     "text": [
      "The car maker name is Honda\n"
     ]
    }
   ],
   "source": [
    "def car_names(names : str ) ->None:\n",
    "    print(f\"The car maker name is {names.title()}\")\n",
    "\n",
    "car_names(\"Honda\")"
   ]
  },
  {
   "cell_type": "code",
   "execution_count": 80,
   "metadata": {},
   "outputs": [
    {
     "data": {
      "text/plain": [
       "27"
      ]
     },
     "execution_count": 80,
     "metadata": {},
     "output_type": "execute_result"
    }
   ],
   "source": [
    "#                   param1       param2\n",
    "def add_two_numbers(num1 : int , num2 : int)->int:\n",
    "    return num1 + num2\n",
    "             \n",
    "add_two_numbers(7,20) # arg1 , arg2"
   ]
  },
  {
   "cell_type": "code",
   "execution_count": 58,
   "metadata": {},
   "outputs": [
    {
     "name": "stdout",
     "output_type": "stream",
     "text": [
      "Num Value: 7 and Num Value 20\n"
     ]
    },
    {
     "data": {
      "text/plain": [
       "27"
      ]
     },
     "execution_count": 58,
     "metadata": {},
     "output_type": "execute_result"
    }
   ],
   "source": [
    "#                   param1       param2\n",
    "def add_two_numbers(num1 : int , num2 : int)->int:\n",
    "    print(f\"Num Value: {num1} and Num Value {num2}\")\n",
    "    return num1 + num2\n",
    "             \n",
    "add_two_numbers(7,20) # arg1 , arg2"
   ]
  },
  {
   "cell_type": "code",
   "execution_count": 59,
   "metadata": {},
   "outputs": [
    {
     "name": "stdout",
     "output_type": "stream",
     "text": [
      "Num Value: 20 and Num Value 7\n"
     ]
    },
    {
     "data": {
      "text/plain": [
       "27"
      ]
     },
     "execution_count": 59,
     "metadata": {},
     "output_type": "execute_result"
    }
   ],
   "source": [
    "#                   param1       param2\n",
    "def add_two_numbers(num1 : int , num2 : int)->int:\n",
    "    print(f\"Num Value: {num1} and Num Value {num2}\")\n",
    "    return num1 + num2\n",
    "             \n",
    "add_two_numbers(num2=7,num1=20) # arg1 , arg2 key word arguments"
   ]
  },
  {
   "cell_type": "code",
   "execution_count": 108,
   "metadata": {},
   "outputs": [
    {
     "data": {
      "text/plain": [
       "14"
      ]
     },
     "execution_count": 108,
     "metadata": {},
     "output_type": "execute_result"
    }
   ],
   "source": [
    "#                   param1       param2\n",
    "def add_two_numbers(num1 : int , num2 : int)->int:\n",
    "    return num1 * num2\n",
    "             \n",
    "add_two_numbers(7,2) # arg1 , arg2"
   ]
  },
  {
   "cell_type": "code",
   "execution_count": 117,
   "metadata": {},
   "outputs": [
    {
     "name": "stdout",
     "output_type": "stream",
     "text": [
      "\n",
      "I have a hamster.\n",
      "My hamster's name is Harry.\n",
      "\n",
      "I have a Cat.\n",
      "My Cat's name is Mano.\n",
      "\n",
      "I have a Goat.\n",
      "My Goat's name is Diamond.\n"
     ]
    }
   ],
   "source": [
    "# Positinal arguments\n",
    "\n",
    "def describe_pet(animal_type : str , pet_name : str)->None:\n",
    "    \"\"\"Display information about a pet.\"\"\"\n",
    "    print(f\"\\nI have a {animal_type}.\")\n",
    "    print(f\"My {animal_type}'s name is {pet_name.title()}.\")\n",
    "\n",
    "describe_pet('hamster', 'harry')\n",
    "describe_pet(\"Cat\",\"Mano\")\n",
    "\n",
    "describe_pet(animal_type='Goat', pet_name='Diamond') # calling with keyword arguments"
   ]
  },
  {
   "cell_type": "code",
   "execution_count": 118,
   "metadata": {},
   "outputs": [
    {
     "name": "stdout",
     "output_type": "stream",
     "text": [
      "\n",
      "I have a dog.\n",
      "My dog's name is Willie.\n"
     ]
    }
   ],
   "source": [
    "# default functions\n",
    "\n",
    "def describe_pet(pet_name : str , animal_type :  str ='dog')->None: # default value\n",
    "    \"\"\"Display information about a pet.\"\"\"\n",
    "    print(f\"\\nI have a {animal_type}.\")\n",
    "    print(f\"My {animal_type}'s name is {pet_name.title()}.\")\n",
    "\n",
    "describe_pet(pet_name='willie') # default value"
   ]
  },
  {
   "cell_type": "markdown",
   "metadata": {},
   "source": [
    "# Functions with optional parameters"
   ]
  },
  {
   "cell_type": "code",
   "execution_count": null,
   "metadata": {},
   "outputs": [],
   "source": [
    "#                                 no erro when we initialize 0 in the num2\n",
    "def add_two_numbers(num1 : int , num2 : int = 0)->int:\n",
    "    print(num1,num2)\n",
    "    return num1 + num2\n",
    "\n",
    "add_two_numbers(7)"
   ]
  },
  {
   "cell_type": "code",
   "execution_count": 145,
   "metadata": {},
   "outputs": [
    {
     "name": "stdout",
     "output_type": "stream",
     "text": [
      "John Lee Hooker\n"
     ]
    }
   ],
   "source": [
    "\n",
    "\n",
    "def get_formatted_name(first_name : str, middle_name : str, last_name : str)->None:\n",
    "    \"\"\"Return a full name, neatly formatted.\"\"\"\n",
    "    full_name = f\"{first_name} {middle_name} {last_name}\"\n",
    "    return full_name.title()\n",
    "musician = get_formatted_name('john', 'lee', 'hooker')\n",
    "print(musician)\n"
   ]
  },
  {
   "cell_type": "code",
   "execution_count": 144,
   "metadata": {},
   "outputs": [
    {
     "name": "stdout",
     "output_type": "stream",
     "text": [
      "Jimi Hendrix\n"
     ]
    }
   ],
   "source": [
    "# making an argument Optional \n",
    "\n",
    "def get_formatted_name(first_name : str, last_name : str, middle_name : str ='')->None:\n",
    "    \"\"\"Return a full name, neatly formatted.\"\"\"\n",
    "    if middle_name:\n",
    "        full_name = f\"{first_name} {middle_name} {last_name}\"\n",
    "    else:\n",
    "        full_name = f\"{first_name} {last_name}\"\n",
    "    return full_name.title()\n",
    "musician = get_formatted_name('jimi', 'hendrix')\n",
    "\n",
    "print(musician)\n"
   ]
  },
  {
   "cell_type": "code",
   "execution_count": 185,
   "metadata": {},
   "outputs": [
    {
     "name": "stdout",
     "output_type": "stream",
     "text": [
      "Printing model: dodecahedron\n",
      "Printing model: robot pendant\n",
      "Printing model: phone case\n",
      "\n",
      "The following models have been printed:\n",
      "dodecahedron\n",
      "robot pendant\n",
      "phone case\n"
     ]
    }
   ],
   "source": [
    "# modifying a list in a Function\n",
    "\n",
    "# Start with some designs that need to be printed.\n",
    "unprinted_designs: list[str] = ['phone case', 'robot pendant','dodecahedron']\n",
    "completed_models : list[str] = []\n",
    "# Simulate printing each design, until none are left.\n",
    "#  Move each design to completed_models after printing.\n",
    "while unprinted_designs:\n",
    "    current_design = unprinted_designs.pop()\n",
    "    print(f\"Printing model: {current_design}\")\n",
    "    completed_models.append(current_design)\n",
    "# Display all completed models.\n",
    "print(\"\\nThe following models have been printed:\")\n",
    "for completed_model in completed_models:\n",
    "    print(completed_model)\n"
   ]
  },
  {
   "cell_type": "code",
   "execution_count": 187,
   "metadata": {},
   "outputs": [
    {
     "name": "stdout",
     "output_type": "stream",
     "text": [
      "Printing model: dodecahedron\n",
      "Printing model: robot pendant\n",
      "Printing model: phone case\n",
      "\n",
      "The following models have been printed:\n",
      "dodecahedron\n",
      "robot pendant\n",
      "phone case\n"
     ]
    }
   ],
   "source": [
    "def print_models(unprinted_designs : list[str], completed_models : list[str])->None:\n",
    "    \"\"\"\n",
    "    Simulate printing each design, until none are left.\n",
    "    Move each design to completed_models after printing.\n",
    "    \"\"\"\n",
    "    while unprinted_designs:\n",
    "        current_design = unprinted_designs.pop()\n",
    "        print(f\"Printing model: {current_design}\")\n",
    "        completed_models.append(current_design)\n",
    "def show_completed_models(completed_models : list[str]):\n",
    "    \"\"\"Show all the models that were printed.\"\"\"\n",
    "    print(\"\\nThe following models have been printed:\")\n",
    "    for completed_model in completed_models:\n",
    "        print(completed_model)\n",
    "unprinted_designs = ['phone case', 'robot pendant','dodecahedron']\n",
    "completed_models = []\n",
    "print_models(unprinted_designs, completed_models)\n",
    "show_completed_models(completed_models)"
   ]
  },
  {
   "cell_type": "code",
   "execution_count": 227,
   "metadata": {},
   "outputs": [
    {
     "name": "stdout",
     "output_type": "stream",
     "text": [
      "Printing model: dodecahedron\n",
      "Printing model: robot pendant\n",
      "Printing model: phone case\n",
      "\n",
      "The following models have been printed:\n",
      "dodecahedron\n",
      "robot pendant\n",
      "phone case\n",
      "\n",
      "Original list of unprinted designs:\n",
      "['phone case', 'robot pendant', 'dodecahedron']\n"
     ]
    }
   ],
   "source": [
    "def print_models(unprinted_designs : list[str], completed_models : list[str]):\n",
    "    \"\"\"\n",
    "    Simulate printing each design, until none are left.\n",
    "    Move each design to completed_models after printing.\n",
    "    \"\"\"\n",
    "    while unprinted_designs:\n",
    "        current_design = unprinted_designs.pop()\n",
    "        print(f\"Printing model: {current_design}\")\n",
    "        completed_models.append(current_design)\n",
    "\n",
    "def show_completed_models(completed_models):\n",
    "    \"\"\"Show all the models that were printed.\"\"\"\n",
    "    print(\"\\nThe following models have been printed:\")\n",
    "    for completed_model in completed_models:\n",
    "        print(completed_model)\n",
    "\n",
    "# Initial lists\n",
    "unprinted_designs = ['phone case', 'robot pendant', 'dodecahedron']\n",
    "completed_models = []\n",
    "\n",
    "# Call the functions with a copy of the unprinted_designs list\n",
    "print_models(unprinted_designs[:], completed_models)\n",
    "show_completed_models(completed_models)\n",
    "\n",
    "# Original list remains unchanged\n",
    "print(\"\\nOriginal list of unprinted designs:\")\n",
    "print(unprinted_designs)\n"
   ]
  },
  {
   "cell_type": "markdown",
   "metadata": {},
   "source": [
    "### Syntax lambda function\n",
    "\n",
    "* one line function\n",
    "* without name function\n",
    "* only use in this line\n",
    "\n",
    "```\n",
    "lambda param1,param2 : function body\n",
    "```"
   ]
  },
  {
   "cell_type": "code",
   "execution_count": null,
   "metadata": {},
   "outputs": [],
   "source": [
    "a = lambda num1,num2 : num1 + num2\n",
    "\n",
    "a(10,2)"
   ]
  },
  {
   "cell_type": "code",
   "execution_count": 44,
   "metadata": {},
   "outputs": [
    {
     "data": {
      "text/plain": [
       "[1, 4, 9, 16, 25, 36, 49, 64, 81, 100]"
      ]
     },
     "execution_count": 44,
     "metadata": {},
     "output_type": "execute_result"
    }
   ],
   "source": [
    "data : list[int] = [1,2,3,4,5,6,7,8,9,10]\n",
    "\n",
    "data = list(map(lambda x:x**2, data))\n",
    "data"
   ]
  },
  {
   "cell_type": "code",
   "execution_count": 45,
   "metadata": {},
   "outputs": [
    {
     "data": {
      "text/plain": [
       "[2, 4, 6, 8, 10]"
      ]
     },
     "execution_count": 45,
     "metadata": {},
     "output_type": "execute_result"
    }
   ],
   "source": [
    "data : list[int] = [1,2,3,4,5,6,7,8,9,10]\n",
    "\n",
    "data = list(filter(lambda x:x%2==0 , data))\n",
    "data"
   ]
  },
  {
   "cell_type": "code",
   "execution_count": 52,
   "metadata": {},
   "outputs": [
    {
     "name": "stdout",
     "output_type": "stream",
     "text": [
      "2\n",
      "4\n"
     ]
    }
   ],
   "source": [
    "\n",
    "\n",
    "data : list[int] = (filter(lambda x:x%2==0 , range(1,11)))\n",
    "\n",
    "print(next(data))\n",
    "print(next(data))"
   ]
  },
  {
   "cell_type": "code",
   "execution_count": null,
   "metadata": {},
   "outputs": [],
   "source": [
    "from typing import Callable\n",
    "\n",
    "add :  Callable[[int, int], int] = lambda x, y : x + y\n",
    "\n",
    "result = add(2,3)\n",
    "print(result)"
   ]
  },
  {
   "cell_type": "markdown",
   "metadata": {},
   "source": [
    "## Generator function\n",
    "* iterate on element one by one\n",
    "* stop after each iteration\n",
    "* remember old iteration value(last iterate value)\n",
    "* next iterate\n",
    "    * go forward from last iterate value"
   ]
  },
  {
   "cell_type": "code",
   "execution_count": 83,
   "metadata": {},
   "outputs": [
    {
     "name": "stdout",
     "output_type": "stream",
     "text": [
      "<generator object my_range at 0x0000021951279990>\n",
      "[1, 2, 3, 4, 5, 6, 7, 8, 9, 10]\n"
     ]
    }
   ],
   "source": [
    "def my_range(start : int , end : int , step:int = 1 ):\n",
    "    for i in range(start,end+1,step):\n",
    "        yield i\n",
    "\n",
    "a = my_range(1,10) \n",
    "print(a) \n",
    "print(list(a))     "
   ]
  },
  {
   "cell_type": "code",
   "execution_count": 84,
   "metadata": {},
   "outputs": [
    {
     "name": "stdout",
     "output_type": "stream",
     "text": [
      "<generator object my_range at 0x00000219508B6980>\n",
      "1\n",
      "2\n",
      "3\n",
      "Pakistan\n",
      "4\n"
     ]
    }
   ],
   "source": [
    "a = my_range(1,10)\n",
    "print(a)\n",
    "print(next(a))\n",
    "print(next(a))\n",
    "print(next(a))\n",
    "print(\"Pakistan\")\n",
    "print(next(a))"
   ]
  },
  {
   "cell_type": "code",
   "execution_count": 91,
   "metadata": {},
   "outputs": [
    {
     "name": "stdout",
     "output_type": "stream",
     "text": [
      "{'Ahsan': ' learning Python'}\n",
      "{'Qasim': 'Teacher of python'}\n"
     ]
    }
   ],
   "source": [
    "from collections.abc import Iterator\n",
    "\n",
    "MyDictT = dict[str, object]  # for example\n",
    "\n",
    "def yield_func() -> Iterator[MyDictT]:\n",
    "    a: MyDictT = {\"Ahsan\":\" learning Python\"}\n",
    "    b: MyDictT = {\"Qasim\" : \"Teacher of python\"}\n",
    "    ...\n",
    "    yield a\n",
    "    yield b\n",
    "\n",
    "\n",
    "for my_dict in yield_func():\n",
    "    print(my_dict)    "
   ]
  },
  {
   "cell_type": "code",
   "execution_count": 92,
   "metadata": {},
   "outputs": [
    {
     "name": "stdout",
     "output_type": "stream",
     "text": [
      "1\n",
      "2\n",
      "<class 'generator'>\n"
     ]
    }
   ],
   "source": [
    "from collections.abc import Iterator\n",
    "\n",
    "def my_range(start : int , end : int , step:int = 1 )->Iterator[int]:\n",
    "    for i in range(start,end+1,step):\n",
    "        yield i # generator function\n",
    "\n",
    "\n",
    "Iterator_variable  :Iterator[int] = my_range(1,10) \n",
    "print(next(Iterator_variable ))         \n",
    "print(next(Iterator_variable)) \n",
    "print(type(Iterator_variable)) \n"
   ]
  },
  {
   "cell_type": "code",
   "execution_count": 93,
   "metadata": {},
   "outputs": [
    {
     "data": {
      "text/plain": [
       "['__class__',\n",
       " '__del__',\n",
       " '__delattr__',\n",
       " '__dir__',\n",
       " '__doc__',\n",
       " '__eq__',\n",
       " '__format__',\n",
       " '__ge__',\n",
       " '__getattribute__',\n",
       " '__getstate__',\n",
       " '__gt__',\n",
       " '__hash__',\n",
       " '__init__',\n",
       " '__init_subclass__',\n",
       " '__iter__',\n",
       " '__le__',\n",
       " '__lt__',\n",
       " '__name__',\n",
       " '__ne__',\n",
       " '__new__',\n",
       " '__next__',\n",
       " '__qualname__',\n",
       " '__reduce__',\n",
       " '__reduce_ex__',\n",
       " '__repr__',\n",
       " '__setattr__',\n",
       " '__sizeof__',\n",
       " '__str__',\n",
       " '__subclasshook__',\n",
       " 'close',\n",
       " 'gi_code',\n",
       " 'gi_frame',\n",
       " 'gi_running',\n",
       " 'gi_suspended',\n",
       " 'gi_yieldfrom',\n",
       " 'send',\n",
       " 'throw']"
      ]
     },
     "execution_count": 93,
     "metadata": {},
     "output_type": "execute_result"
    }
   ],
   "source": [
    "dir(Iterator_variable)"
   ]
  },
  {
   "cell_type": "code",
   "execution_count": 94,
   "metadata": {},
   "outputs": [
    {
     "name": "stdout",
     "output_type": "stream",
     "text": [
      "3\n",
      "4\n",
      "5\n",
      "6\n",
      "7\n",
      "8\n",
      "9\n",
      "10\n"
     ]
    }
   ],
   "source": [
    "for i in Iterator_variable:\n",
    "    print(i)"
   ]
  },
  {
   "cell_type": "code",
   "execution_count": 57,
   "metadata": {},
   "outputs": [
    {
     "name": "stdout",
     "output_type": "stream",
     "text": [
      "(10, 11, 12, 13, 14, 15, 16, 17) <class 'tuple'>\n"
     ]
    },
    {
     "data": {
      "text/plain": [
       "108"
      ]
     },
     "execution_count": 57,
     "metadata": {},
     "output_type": "execute_result"
    }
   ],
   "source": [
    "def number(*nums):\n",
    "    print(nums, type(nums))\n",
    "    total = 0\n",
    "\n",
    "    for i in nums:\n",
    "        total += i\n",
    "\n",
    "    return total   \n",
    "\n",
    "number(10,11,12,13,14,15,16,17)    \n"
   ]
  },
  {
   "cell_type": "code",
   "execution_count": 228,
   "metadata": {},
   "outputs": [
    {
     "name": "stdout",
     "output_type": "stream",
     "text": [
      "('pepperoni',)\n",
      "('mushrooms', 'green peppers', 'extra cheese')\n"
     ]
    }
   ],
   "source": [
    "# passing an arbitary number of arguments\n",
    "def make_pizza(*toppings):\n",
    "    \"\"\"Print the list of toppings that have been\n",
    "requested.\"\"\"\n",
    "    print(toppings)\n",
    "make_pizza('pepperoni')\n",
    "make_pizza('mushrooms', 'green peppers', 'extra cheese')"
   ]
  },
  {
   "cell_type": "code",
   "execution_count": 231,
   "metadata": {},
   "outputs": [
    {
     "name": "stdout",
     "output_type": "stream",
     "text": [
      "\n",
      "Making a pizza with the following toppings:\n",
      "- pepperoni\n",
      "\n",
      "Making a pizza with the following toppings:\n",
      "- mushrooms\n",
      "- green peppers\n",
      "- extra cheese\n"
     ]
    }
   ],
   "source": [
    "# call a loop that run through the list\n",
    "def make_pizza(*toppings):\n",
    "    \"\"\"Summarize the pizza we are about to make.\"\"\"\n",
    "    print(\"\\nMaking a pizza with the following toppings:\")\n",
    "    for topping in toppings:\n",
    "        print(f\"- {topping}\")\n",
    "\n",
    "make_pizza('pepperoni')\n",
    "make_pizza('mushrooms', 'green peppers', 'extra cheese')"
   ]
  },
  {
   "cell_type": "code",
   "execution_count": 234,
   "metadata": {},
   "outputs": [
    {
     "name": "stdout",
     "output_type": "stream",
     "text": [
      "\n",
      "Making a 16-inch pizza with the following toppings:\n",
      "- pepperoni\n",
      "\n",
      "Making a 12-inch pizza with the following toppings:\n",
      "- mushrooms\n",
      "- green peppers\n",
      "- extra cheese\n"
     ]
    }
   ],
   "source": [
    "# mixing positional and  Arbitary arguments\n",
    "\n",
    "def make_pizza(size, *toppings):\n",
    "    \"\"\"Summarize the pizza we are about to make.\"\"\"\n",
    "    print(f\"\\nMaking a {size}-inch pizza with the following toppings:\")\n",
    "    for topping in toppings:\n",
    "        print(f\"- {topping}\")\n",
    "make_pizza(16, 'pepperoni')\n",
    "make_pizza(12, 'mushrooms', 'green peppers', 'extra cheese')\n"
   ]
  },
  {
   "cell_type": "code",
   "execution_count": 60,
   "metadata": {},
   "outputs": [
    {
     "name": "stdout",
     "output_type": "stream",
     "text": [
      "{'a': 1, 'b': 2, 'x': 3, 'y': 4, 'name': 'Ahsan'} <class 'dict'>\n"
     ]
    }
   ],
   "source": [
    "def xyz(**Hello):\n",
    "    print(Hello, type(Hello))\n",
    "\n",
    "xyz(a=1,b=2, x=3,y=4, name = \"Ahsan\")    "
   ]
  },
  {
   "cell_type": "code",
   "execution_count": 235,
   "metadata": {},
   "outputs": [
    {
     "name": "stdout",
     "output_type": "stream",
     "text": [
      "{'location': 'princeton', 'field': 'physics', 'first_name': 'albert', 'last_name': 'einstein'}\n"
     ]
    }
   ],
   "source": [
    "def build_profile(first, last, **user_info):\n",
    "    \"\"\"Build a dictionary containing everything we know\n",
    "about a user.\"\"\"\n",
    "    user_info['first_name'] = first\n",
    "    user_info['last_name'] = last\n",
    "    return user_info\n",
    "user_profile = build_profile('albert', 'einstein',\n",
    "                             location='princeton',\n",
    "                             field='physics')\n",
    "print(user_profile)"
   ]
  },
  {
   "cell_type": "code",
   "execution_count": 253,
   "metadata": {},
   "outputs": [
    {
     "name": "stdout",
     "output_type": "stream",
     "text": [
      "\n",
      "Making a 16-inch pizza with the following toppings:\n",
      "- pepperoni\n"
     ]
    }
   ],
   "source": [
    "# importing an entire module\n",
    "import pizza\n",
    "\n",
    "pizza.make_pizza(16, 'pepperoni')\n"
   ]
  },
  {
   "cell_type": "code",
   "execution_count": 254,
   "metadata": {},
   "outputs": [
    {
     "name": "stdout",
     "output_type": "stream",
     "text": [
      "\n",
      "Making a 12-inch pizza with the following toppings:\n",
      "- mushrooms\n",
      "- green peppers\n",
      "- extracheese\n"
     ]
    }
   ],
   "source": [
    "pizza.make_pizza(12, 'mushrooms', 'green peppers', 'extracheese')"
   ]
  },
  {
   "cell_type": "code",
   "execution_count": 257,
   "metadata": {},
   "outputs": [
    {
     "name": "stdout",
     "output_type": "stream",
     "text": [
      "\n",
      "Making a 9-inch pizza with the following toppings:\n",
      "- Brbq\n",
      "- fagita\n",
      "- Chicken\n"
     ]
    }
   ],
   "source": [
    "from pizza import make_pizza as mp\n",
    "\n",
    "mp(9,'Brbq','fagita','Chicken')"
   ]
  },
  {
   "cell_type": "code",
   "execution_count": 258,
   "metadata": {},
   "outputs": [
    {
     "name": "stdout",
     "output_type": "stream",
     "text": [
      "\n",
      "Making a 9-inch pizza with the following toppings:\n",
      "- Brbq\n",
      "- fagita\n",
      "- Chicken\n"
     ]
    }
   ],
   "source": [
    "import  pizza as p\n",
    "\n",
    "p.make_pizza(9,'Brbq','fagita','Chicken')"
   ]
  },
  {
   "cell_type": "code",
   "execution_count": 259,
   "metadata": {},
   "outputs": [
    {
     "name": "stdout",
     "output_type": "stream",
     "text": [
      "\n",
      "Making a 2-inch pizza with the following toppings:\n",
      "- mushrooms\n",
      "- green peppers\n",
      "- extra cheese\n"
     ]
    }
   ],
   "source": [
    "from pizza import *\n",
    "\n",
    "make_pizza(2, 'mushrooms', 'green peppers', 'extra cheese')"
   ]
  },
  {
   "cell_type": "markdown",
   "metadata": {},
   "source": [
    "# 1. Function Basics\n",
    "* A function is a block of code that performs a specific task. Here’s a simple function that greets the person whose name is passed as a paramete"
   ]
  },
  {
   "cell_type": "code",
   "execution_count": 63,
   "metadata": {},
   "outputs": [
    {
     "name": "stdout",
     "output_type": "stream",
     "text": [
      "Hello, Paul. Good morning!\n"
     ]
    }
   ],
   "source": [
    "\n",
    "def greet(name: str) -> None:\n",
    "    \"\"\"\n",
    "    This function greets the person passed in as a parameter\n",
    "    \"\"\"\n",
    "    print(\"Hello, \" + name + \". Good morning!\")\n",
    "\n",
    "greet('Paul')"
   ]
  },
  {
   "cell_type": "markdown",
   "metadata": {},
   "source": [
    "# 2. Default Arguments\n",
    "* Default arguments in a function can be specified by assigning a default value to the parameter in the function definition. This allows you to call the function without providing those arguments."
   ]
  },
  {
   "cell_type": "code",
   "execution_count": 62,
   "metadata": {},
   "outputs": [
    {
     "name": "stdout",
     "output_type": "stream",
     "text": [
      "Hello Kate, Good morning!\n",
      "Hello Bruce, How do you do?\n"
     ]
    }
   ],
   "source": [
    "def greet(name: str, msg: str = \"Good morning!\") -> None:\n",
    "    \"\"\"\n",
    "    This function greets the person with the provided message.\n",
    "    If the message is not provided, it defaults to \"Good morning!\"\n",
    "    \"\"\"\n",
    "    print(\"Hello\", name + ', ' + msg)\n",
    "\n",
    "greet(\"Kate\")\n",
    "greet(\"Bruce\", \"How do you do?\")"
   ]
  },
  {
   "cell_type": "markdown",
   "metadata": {},
   "source": [
    "# 3. Variable-length Arguments\n",
    "* Sometimes you might not know in advance how many arguments a function should accept. Python allows you to handle this kind of situation through function calls with an arbitrary number of arguments"
   ]
  },
  {
   "cell_type": "code",
   "execution_count": 61,
   "metadata": {},
   "outputs": [
    {
     "name": "stdout",
     "output_type": "stream",
     "text": [
      "Hello Monica\n",
      "Hello Luke\n",
      "Hello Steve\n",
      "Hello John\n"
     ]
    }
   ],
   "source": [
    "from typing import Tuple\n",
    "\n",
    "def greet(*names: Tuple[str, ...]) -> None:\n",
    "    \"\"\"\n",
    "    This function greets all persons in the names tuple.\n",
    "    \"\"\"\n",
    "    for name in names:\n",
    "        print(\"Hello\", name)\n",
    "\n",
    "greet(\"Monica\", \"Luke\", \"Steve\", \"John\")"
   ]
  },
  {
   "cell_type": "code",
   "execution_count": 67,
   "metadata": {},
   "outputs": [
    {
     "name": "stdout",
     "output_type": "stream",
     "text": [
      "{'a': 'Monica', 'b': 'Luke', 'c': 'Steve'}\n"
     ]
    }
   ],
   "source": [
    "from typing import Dict\n",
    "\n",
    "def greet(**abc: Dict[str,str]) -> None:\n",
    "    print(abc)\n",
    "\n",
    "\n",
    "greet(a= \"Monica\",  b= \"Luke\", c= \"Steve\" )"
   ]
  },
  {
   "cell_type": "code",
   "execution_count": 69,
   "metadata": {},
   "outputs": [
    {
     "name": "stdout",
     "output_type": "stream",
     "text": [
      "1 2 (3, 4, 5, 6) {'c': 20, 'd': 30, 'x': 100}\n"
     ]
    }
   ],
   "source": [
    "def my_function(a, b, *abc, **xyz):   # string , tuple , dictionary\n",
    "    print(a, b, abc, xyz)\n",
    "\n",
    "my_function(1,2, 3,4,5,6, c = 20, d = 30, x = 100)    "
   ]
  },
  {
   "cell_type": "code",
   "execution_count": 70,
   "metadata": {},
   "outputs": [
    {
     "name": "stdout",
     "output_type": "stream",
     "text": [
      "1 2 (3, 4, 5, 6) {'c': 20, 'd': 30, 'x': 100}\n"
     ]
    }
   ],
   "source": [
    "def my_function(a : int,  b : int , *abc : int, **xyz : int)->None:\n",
    "    print(a, b, abc, xyz)\n",
    "\n",
    "my_function(1,2, 3,4,5,6, c = 20, d = 30, x = 100) "
   ]
  },
  {
   "cell_type": "markdown",
   "metadata": {},
   "source": [
    "# 4. Lambda Functions\n",
    "* Lambda functions are small anonymous functions defined with the lambda keyword. They can take any number of arguments, but can only have one expression"
   ]
  },
  {
   "cell_type": "code",
   "execution_count": null,
   "metadata": {},
   "outputs": [],
   "source": [
    "\n",
    "square = lambda x: x ** 2\n",
    "print(square(5))"
   ]
  },
  {
   "cell_type": "markdown",
   "metadata": {},
   "source": [
    "# 5. Higher-order Functions"
   ]
  },
  {
   "cell_type": "code",
   "execution_count": 96,
   "metadata": {},
   "outputs": [],
   "source": [
    "from typing import Callable\n",
    "\n",
    "def apply(func: Callable[[int], int], value: int) -> int:\n",
    "    return func(value)\n",
    "\n",
    "result = apply(lambda x: x ** 2, 5)\n",
    "print(result)"
   ]
  },
  {
   "cell_type": "markdown",
   "metadata": {},
   "source": [
    "# 6. Closures"
   ]
  },
  {
   "cell_type": "code",
   "execution_count": 101,
   "metadata": {},
   "outputs": [
    {
     "name": "stdout",
     "output_type": "stream",
     "text": [
      "15\n"
     ]
    }
   ],
   "source": [
    "from typing import Callable\n",
    "\n",
    "def outer_func(x: int) -> Callable[[int], int]:\n",
    "    def inner_func(y: int) -> int:\n",
    "        return x + y\n",
    "    return inner_func\n",
    "\n",
    "closure = outer_func(10)\n",
    "print(closure(5))  # Outputs: 15\n",
    "\n",
    "     "
   ]
  },
  {
   "cell_type": "markdown",
   "metadata": {},
   "source": [
    "# 7. Decorators"
   ]
  },
  {
   "cell_type": "code",
   "execution_count": 72,
   "metadata": {},
   "outputs": [
    {
     "name": "stdout",
     "output_type": "stream",
     "text": [
      "Something is happening before the function is called.\n",
      "Hello!\n",
      "Something is happening after the function is called.\n"
     ]
    }
   ],
   "source": [
    "from typing import Callable\n",
    "\n",
    "def decorator(func: Callable[[], None]) -> Callable[[], None]:\n",
    "    def wrapper() -> None:\n",
    "        print(\"Something is happening before the function is called.\")\n",
    "        func()\n",
    "        print(\"Something is happening after the function is called.\")\n",
    "    return wrapper\n",
    "\n",
    "@decorator\n",
    "def say_hello() -> None:\n",
    "    print(\"Hello!\")\n",
    "\n",
    "say_hello()"
   ]
  },
  {
   "cell_type": "code",
   "execution_count": null,
   "metadata": {},
   "outputs": [],
   "source": [
    "from typing import Callable\n",
    "\n",
    "def decorator(func: Callable[[int], None]) -> Callable[[int], None]:\n",
    "    def wrapper(num1: int) -> None:\n",
    "        print(\"Something is happening before the function is called.\")\n",
    "        func(num1)\n",
    "        print(\"Something is happening after the function is called.\")\n",
    "    return wrapper\n",
    "\n",
    "@decorator\n",
    "def say_hello(num1 : int) -> None:\n",
    "    print(num1)\n",
    "\n",
    "say_hello(100)"
   ]
  },
  {
   "cell_type": "markdown",
   "metadata": {},
   "source": [
    "# 8. Recursion"
   ]
  },
  {
   "cell_type": "code",
   "execution_count": 75,
   "metadata": {},
   "outputs": [
    {
     "name": "stdout",
     "output_type": "stream",
     "text": [
      "The factorial of 5 is 120\n"
     ]
    }
   ],
   "source": [
    "def factorial(x: int) -> int:\n",
    "    \"\"\"This is a recursive function\n",
    "    to find the factorial of an integer\"\"\"\n",
    "    if x == 1:\n",
    "        return 1\n",
    "    else:\n",
    "        return (x * factorial(x-1))\n",
    "    #           5*4*3*2*1\n",
    "\n",
    "num = 5\n",
    "print(\"The factorial of\", num, \"is\", factorial(num))"
   ]
  },
  {
   "cell_type": "markdown",
   "metadata": {},
   "source": [
    "# 9. Type Hints"
   ]
  },
  {
   "cell_type": "code",
   "execution_count": 42,
   "metadata": {},
   "outputs": [
    {
     "name": "stdout",
     "output_type": "stream",
     "text": [
      "30\n"
     ]
    }
   ],
   "source": [
    "def add_numbers(a: int, b: int) -> int:\n",
    "    return a + b\n",
    "\n",
    "result = add_numbers(10, 20)\n",
    "print(result)"
   ]
  },
  {
   "cell_type": "markdown",
   "metadata": {},
   "source": [
    "# 10. Docstrings"
   ]
  },
  {
   "cell_type": "code",
   "execution_count": 43,
   "metadata": {},
   "outputs": [],
   "source": [
    "def add_numbers(a: int, b: int) -> int:\n",
    "    \"\"\"\n",
    "    This function adds two numbers.\n",
    "\n",
    "    Parameters:\n",
    "       a (int): The first number.\n",
    "       b (int): The second number.\n",
    "\n",
    "    Returns:\n",
    "       int: The sum of the two numbers.\n",
    "    \"\"\"\n",
    "    return a + b\n",
    "     "
   ]
  },
  {
   "cell_type": "markdown",
   "metadata": {},
   "source": [
    "# 1. Message: \n",
    "* Write a function called display_message() that prints one sentence telling everyone what you are learning about in this chapter. \n",
    "* Call the function, and make sure the message displays correctly.\n"
   ]
  },
  {
   "cell_type": "code",
   "execution_count": 212,
   "metadata": {},
   "outputs": [
    {
     "name": "stdout",
     "output_type": "stream",
     "text": [
      "In this chapter we are learning about:\n",
      "Fucntions\n",
      "How to make fucntions\n",
      "How to use it  \n"
     ]
    }
   ],
   "source": [
    "def display_message()->None:\n",
    "    print(\"In this chapter we are learning about:\\nFucntions\\nHow to make fucntions\\nHow to use it  \")\n",
    "\n",
    "display_message()    \n"
   ]
  },
  {
   "cell_type": "markdown",
   "metadata": {},
   "source": [
    "# 2. Favorite Book: \n",
    "* Write a function called favorite_book() that accepts one parameter, title. \n",
    "* The function should print a message, such as One of my favorite books is Alice in Wonderland. \n",
    "* Call the function, making sure to include a book title as an argument in the function call."
   ]
  },
  {
   "cell_type": "code",
   "execution_count": 214,
   "metadata": {},
   "outputs": [
    {
     "name": "stdout",
     "output_type": "stream",
     "text": [
      "One of my favourite books is: Crash course Python 3rd edition \n"
     ]
    }
   ],
   "source": [
    "def favourite_books(title : str)->None:\n",
    "    print(f\"One of my favourite books is: {title}\")\n",
    "\n",
    "favourite_books(\"Crash course Python 3rd edition \")    "
   ]
  },
  {
   "cell_type": "markdown",
   "metadata": {},
   "source": [
    "# 3. T-Shirt:\n",
    "* Write a function called make_shirt() that accepts a size and the text of a message that should be printed on the shirt. \n",
    "* The function should print a sentence summarizing the size of the shirt and the message printed on it.\n",
    "* Call the function once using positional arguments to make a shirt. Call the function a second time using keyword arguments."
   ]
  },
  {
   "cell_type": "code",
   "execution_count": 215,
   "metadata": {},
   "outputs": [
    {
     "name": "stdout",
     "output_type": "stream",
     "text": [
      "A medium-sized shirt will be printed with the message: 'Python Rocks!'.\n",
      "A large-sized shirt will be printed with the message: 'I Love Coding!'.\n"
     ]
    }
   ],
   "source": [
    "def make_shirt(size : list[int], message : list[int])->None:\n",
    "    \"\"\"Prints a sentence summarizing the size and message on a shirt.\"\"\"\n",
    "    print(f\"A {size}-sized shirt will be printed with the message: '{message}'.\")\n",
    "\n",
    "# Call the function with positional arguments\n",
    "make_shirt(\"medium\", \"Python Rocks!\")\n",
    "\n",
    "# Call the function with keyword arguments\n",
    "make_shirt(size=\"large\", message=\"I Love Coding!\")\n",
    "\n"
   ]
  },
  {
   "cell_type": "markdown",
   "metadata": {},
   "source": [
    "# 4. Large Shirts: \n",
    "* Modify the make_shirt() function so that shirts are large by default with a message that reads I love Python. \n",
    "* Make a large shirt and a medium shirt with the default message, and a shirt of any size with a different message."
   ]
  },
  {
   "cell_type": "code",
   "execution_count": 218,
   "metadata": {},
   "outputs": [
    {
     "name": "stdout",
     "output_type": "stream",
     "text": [
      "A large-sized shirt will be printed with the message: 'I love Python'.\n",
      "A medium-sized shirt will be printed with the message: 'I love Python'.\n",
      "A small-sized shirt will be printed with the message: 'Keep Coding!'.\n"
     ]
    }
   ],
   "source": [
    "def make_shirt(size : list[str] =\"large\", message : list[str] =\"I love Python\"):\n",
    "    \"\"\"Prints a sentence summarizing the size and message on a shirt.\"\"\"\n",
    "    print(f\"A {size}-sized shirt will be printed with the message: '{message}'.\")\n",
    "\n",
    "# Make a large shirt with the default message\n",
    "make_shirt()\n",
    "\n",
    "# Make a medium shirt with the default message\n",
    "make_shirt(size=\"medium\")\n",
    "\n",
    "# Make a shirt of any size with a different message\n",
    "make_shirt(size=\"small\", message=\"Keep Coding!\")\n"
   ]
  },
  {
   "cell_type": "markdown",
   "metadata": {},
   "source": [
    "# 5. Cities: \n",
    "* Write a function called describe_city() that accepts the name of a city and its country. \n",
    "* The function should print a simple sentence, such as Reykjavik is in Iceland.\n",
    "* Give the parameter for the country a default value. Call your function for three different cities, at least one of which is not in the default country."
   ]
  },
  {
   "cell_type": "code",
   "execution_count": 221,
   "metadata": {},
   "outputs": [
    {
     "name": "stdout",
     "output_type": "stream",
     "text": [
      " Karachi is in Pakistan\n",
      " Newyork is in America\n",
      " Dubai is in United Arabs Emirates\n"
     ]
    }
   ],
   "source": [
    "def describe_city(city_names : str , country : str = \"pakistan\")->None:\n",
    "    print(f\" {city_names.title()} is in {country.title()}\")\n",
    "\n",
    "# Call the function for three different cities\n",
    "describe_city(\"karachi\") # The country defaults to 'pakistan'\n",
    "describe_city(\"NewYork\",\"America\")\n",
    "describe_city(\"Dubai\",\"United arabs emirates\")"
   ]
  },
  {
   "cell_type": "markdown",
   "metadata": {},
   "source": [
    "# 6. City Names: \n",
    "* Write a function called city_country() that takes in the name of a city and its country. \n",
    "* The function should return a string formatted like this: \"Santiago, Chile\"\n",
    "* Call your function with at least three city-country pairs, and print the values that are returned."
   ]
  },
  {
   "cell_type": "code",
   "execution_count": 224,
   "metadata": {},
   "outputs": [
    {
     "name": "stdout",
     "output_type": "stream",
     "text": [
      "Karachi, Pakistan\n",
      "India, Mumbai\n"
     ]
    }
   ],
   "source": [
    "def city_country(name : str, country : str)->None:\n",
    "    full_name = (f\"{name}, {country}\")\n",
    "    return full_name.title()\n",
    "\n",
    "both = city_country(\"karachi\",\"pakistan\")\n",
    "both2 = city_country(\"India\",\"Mumbai\")\n",
    "\n",
    "print(both)\n",
    "print(both2)"
   ]
  },
  {
   "cell_type": "markdown",
   "metadata": {},
   "source": [
    "# 7. Album:\n",
    "* Write a function called make_album() that builds a dictionary describing a music\n",
    "album.\n",
    "* The function should take in an artist name and an album title, and it should return a dictionary containing these two pieces of information. \n",
    "* Use the function to make three dictionaries representing different albums. \n",
    "* Print each return value to show that the dictionaries are storing the album information correctly.\n",
    "* Use None to add an optional parameter to make_album() that allows you to store the number of songs on an album.\n",
    "*  If the calling line includes a value for the number of songs, add that value to the album’s dictionary.\n",
    "*  Make at least one new function call that includes the number of songs on an album."
   ]
  },
  {
   "cell_type": "code",
   "execution_count": 181,
   "metadata": {},
   "outputs": [
    {
     "name": "stdout",
     "output_type": "stream",
     "text": [
      "{'Artist': 'Akcent', 'Title': 'fara lacimi', 'Num_songs': 6}\n",
      "{'Artist': 'Linkin Park', 'Title': 'Hybrid Theory', 'Num_songs': 12}\n",
      "{'Artist': 'Ed Sheeran', 'Title': '(Divide)', 'Num_songs': 16}\n"
     ]
    }
   ],
   "source": [
    "def make_album(name : str, album_title : str, nums_songs=None)->None:\n",
    "    info = {\"Artist\": name,\"Title\": album_title}\n",
    "    if nums_songs:\n",
    "        info['Num_songs'] = nums_songs\n",
    "    return info\n",
    "\n",
    "# Make three dictionaries representing different albums\n",
    "album1 = make_album(\"Akcent\",\"fara lacimi\",nums_songs= 6)\n",
    "album2 = make_album('Linkin Park', 'Hybrid Theory', 12)\n",
    "album3 = make_album('Ed Sheeran', '(Divide)', 16)\n",
    "print(album1)\n",
    "print(album2)\n",
    "print(album3)"
   ]
  },
  {
   "cell_type": "markdown",
   "metadata": {},
   "source": [
    "# 8. User Albums: \n",
    "* Start with your program from above code. Write a while loop that allows users to enter an album’s artist and title. \n",
    "* Once you have that information, call make_album() with the user’s input and print the dictionary that’s created. \n",
    "* Be sure to include a quit value in the while loop."
   ]
  },
  {
   "cell_type": "code",
   "execution_count": 183,
   "metadata": {},
   "outputs": [
    {
     "name": "stdout",
     "output_type": "stream",
     "text": [
      "{'Artist': 'akcent', 'Title': 'fara lacimi'}\n",
      "{'Artist': 'divine', 'Title': 'galli gang', 'Songs': 6}\n"
     ]
    }
   ],
   "source": [
    "def make_album(name : str, album_title : str, nums_songs=None)->None:\n",
    "    info = {\"Artist\": name,\"Title\": album_title}\n",
    "    if nums_songs:\n",
    "        info['Songs'] = nums_songs\n",
    "    return info\n",
    "\n",
    "while True:\n",
    "    # Get user input for artist and title\n",
    "    artist_input = input(\"Enter the artist's name (or 'quit' to exit): \")\n",
    "    \n",
    "    if artist_input.lower() == 'quit':\n",
    "        break  # Exit the loop if the user enters 'quit'\n",
    "\n",
    "    title_input = input(\"Enter the album title: \")\n",
    "    if title_input.lower() == 'quit':\n",
    "        break\n",
    "\n",
    "    # Get user input for number of songs (optional)\n",
    "    num_songs_input = input(\"Enter the number of songs (press Enter for none): \")\n",
    "    if num_songs_input == 'quit':\n",
    "        break\n",
    "    if num_songs_input.strip():  # Check if input is not empty\n",
    "        num_songs = int(num_songs_input)\n",
    "\n",
    "    else:\n",
    "        num_songs = None\n",
    "\n",
    "    # Call make_album with user input and print the result\n",
    "    user_album = make_album(artist_input, title_input, num_songs)\n",
    "    print(user_album)"
   ]
  },
  {
   "cell_type": "markdown",
   "metadata": {},
   "source": [
    "# 9. Messages:\n",
    "* Make a list containing a series of short text messages. Pass the list to a function called show_messages(), which prints each text message."
   ]
  },
  {
   "cell_type": "code",
   "execution_count": 3,
   "metadata": {},
   "outputs": [
    {
     "name": "stdout",
     "output_type": "stream",
     "text": [
      "Hello, how are you?\n",
      "Remember to buy groceries.\n",
      "Python is a great programming language.\n",
      "Have a wonderful day!\n",
      "Don't forget to exercise.\n"
     ]
    }
   ],
   "source": [
    "def show_messages(text_messages : list[str])->None:\n",
    "    \"\"\"Print each text message in the list.\"\"\"\n",
    "    for message in text_messages:\n",
    "        print(message)\n",
    "\n",
    "# List of short text messages\n",
    "text_messages : list[str] = [\n",
    "    \"Hello, how are you?\",\n",
    "    \"Remember to buy groceries.\",\n",
    "    \"Python is a great programming language.\",\n",
    "    \"Have a wonderful day!\",\n",
    "    \"Don't forget to exercise.\"\n",
    "]\n",
    "\n",
    "# Call the function to display the messages\n",
    "show_messages(text_messages)\n"
   ]
  },
  {
   "cell_type": "markdown",
   "metadata": {},
   "source": [
    "# 10. Sending Messages: \n",
    "* Start with a copy of your program from the above code. \n",
    "* Write a function called send_messages() that prints each text message and moves each message to a\n",
    "new list called sent_messages as it’s printed. \n",
    "* After calling the function, print both of your lists to make sure the messages were moved correctly."
   ]
  },
  {
   "cell_type": "code",
   "execution_count": 5,
   "metadata": {},
   "outputs": [
    {
     "name": "stdout",
     "output_type": "stream",
     "text": [
      "Sending message: Hello, how are you?\n",
      "Sending message: Remember to buy groceries.\n",
      "Sending message: Python is a great programming language.\n",
      "Sending message: Have a wonderful day!\n",
      "Sending message: Don't forget to exercise.\n",
      "Original messages:\n",
      "\n",
      "Sent messages:\n",
      "Hello, how are you?\n",
      "Remember to buy groceries.\n",
      "Python is a great programming language.\n",
      "Have a wonderful day!\n",
      "Don't forget to exercise.\n"
     ]
    }
   ],
   "source": [
    "def show_messages(text_messages):\n",
    "    \"\"\"Print each text message in the list.\"\"\"\n",
    "    for message in text_messages:\n",
    "        print(message)\n",
    "\n",
    "def send_messages(text_messages, sent_messages):\n",
    "    \"\"\"Print each text message, move it to sent_messages, and print sent_messages.\"\"\"\n",
    "    while text_messages:\n",
    "        current_message = text_messages.pop(0)\n",
    "        print(f\"Sending message: {current_message}\")\n",
    "        sent_messages.append(current_message)\n",
    "\n",
    "# List of short text messages\n",
    "text_messages = [\n",
    "    \"Hello, how are you?\",\n",
    "    \"Remember to buy groceries.\",\n",
    "    \"Python is a great programming language.\",\n",
    "    \"Have a wonderful day!\",\n",
    "    \"Don't forget to exercise.\"\n",
    "]\n",
    "\n",
    "# List to store sent messages\n",
    "sent_messages = []\n",
    "\n",
    "# Call the send_messages function to send and move messages\n",
    "send_messages(text_messages, sent_messages)\n",
    "\n",
    "# Display both lists to check the results\n",
    "print(\"Original messages:\")\n",
    "show_messages(text_messages)\n",
    "\n",
    "print(\"\\nSent messages:\")\n",
    "show_messages(sent_messages)\n"
   ]
  },
  {
   "cell_type": "markdown",
   "metadata": {},
   "source": [
    "# 11. Archived Messages:\n",
    "* Start with your work from the above code. Call the function send_messages() with a copy of the list of messages. \n",
    "* After calling the function, print both of your lists to show that the original list has retained its messages."
   ]
  },
  {
   "cell_type": "code",
   "execution_count": 6,
   "metadata": {},
   "outputs": [
    {
     "name": "stdout",
     "output_type": "stream",
     "text": [
      "Sending message: Hello, how are you?\n",
      "Sending message: Remember to buy groceries.\n",
      "Sending message: Python is a great programming language.\n",
      "Sending message: Have a wonderful day!\n",
      "Sending message: Don't forget to exercise.\n",
      "Original messages:\n",
      "Hello, how are you?\n",
      "Remember to buy groceries.\n",
      "Python is a great programming language.\n",
      "Have a wonderful day!\n",
      "Don't forget to exercise.\n",
      "\n",
      "Sent messages:\n",
      "Hello, how are you?\n",
      "Remember to buy groceries.\n",
      "Python is a great programming language.\n",
      "Have a wonderful day!\n",
      "Don't forget to exercise.\n"
     ]
    }
   ],
   "source": [
    "def show_messages(text_messages):\n",
    "    \"\"\"Print each text message in the list.\"\"\"\n",
    "    for message in text_messages:\n",
    "        print(message)\n",
    "\n",
    "def send_messages(text_messages, sent_messages):\n",
    "    \"\"\"Print each text message, move it to sent_messages, and print sent_messages.\"\"\"\n",
    "    while text_messages:\n",
    "        current_message = text_messages.pop(0)\n",
    "        print(f\"Sending message: {current_message}\")\n",
    "        sent_messages.append(current_message)\n",
    "\n",
    "# List of short text messages\n",
    "text_messages = [\n",
    "    \"Hello, how are you?\",\n",
    "    \"Remember to buy groceries.\",\n",
    "    \"Python is a great programming language.\",\n",
    "    \"Have a wonderful day!\",\n",
    "    \"Don't forget to exercise.\"\n",
    "]\n",
    "\n",
    "# List to store sent messages\n",
    "sent_messages = []\n",
    "\n",
    "# Call the send_messages function with a copy of the original messages\n",
    "send_messages(text_messages[:], sent_messages)\n",
    "\n",
    "# Display both lists to check the results\n",
    "print(\"Original messages:\")\n",
    "show_messages(text_messages)\n",
    "\n",
    "print(\"\\nSent messages:\")\n",
    "show_messages(sent_messages)\n"
   ]
  },
  {
   "cell_type": "markdown",
   "metadata": {},
   "source": [
    "# 12. Sandwiches: \n",
    "* Write a function that accepts a list of items a person wants on a sandwich.\n",
    "* The function should have one parameter that collects as many items as the function call provides, and it should print a summary of the sandwich that’s being ordered. \n",
    "* Call the function three times, using a different number of arguments each time."
   ]
  },
  {
   "cell_type": "code",
   "execution_count": 244,
   "metadata": {},
   "outputs": [
    {
     "name": "stdout",
     "output_type": "stream",
     "text": [
      "\n",
      "Making a sandwich with the following ingredients:\n",
      "- Ham\n",
      "- Cheese\n",
      "- Lettuce\n",
      "- Tomato\n",
      "\n",
      "Making a sandwich with the following ingredients:\n",
      "- Turkey\n",
      "- Swiss Cheese\n",
      "- Mayonnaise\n",
      "\n",
      "Making a sandwich with the following ingredients:\n",
      "- Peanut Butter\n",
      "- Jelly\n"
     ]
    }
   ],
   "source": [
    "def make_sandwich(*ingredients : list[str])->None:\n",
    "    \"\"\"Print a summary of the sandwich ingredients.\"\"\"\n",
    "    print(\"\\nMaking a sandwich with the following ingredients:\")\n",
    "    for ingredient in ingredients:\n",
    "        print(f\"- {ingredient}\")\n",
    "\n",
    "# Call the function with different numbers of arguments\n",
    "make_sandwich(\"Ham\", \"Cheese\", \"Lettuce\", \"Tomato\")\n",
    "make_sandwich(\"Turkey\", \"Swiss Cheese\", \"Mayonnaise\")\n",
    "make_sandwich(\"Peanut Butter\", \"Jelly\")\n"
   ]
  },
  {
   "cell_type": "markdown",
   "metadata": {},
   "source": [
    "# 13. User Profile: \n",
    "* Start with a copy of user_profile.py from the above code. \n",
    "* Build a profile of yourself by calling build_profile(), using your first and last names and three other key-value\n",
    "pairs that describe you.\n"
   ]
  },
  {
   "cell_type": "code",
   "execution_count": 248,
   "metadata": {},
   "outputs": [
    {
     "name": "stdout",
     "output_type": "stream",
     "text": [
      "{'first_name': 'John', 'last_name': 'Doe', 'age': 25, 'occupation': 'Software Developer', 'location': 'Cityville'}\n"
     ]
    }
   ],
   "source": [
    "from typing import Dict,List\n",
    "def build_profile(first_name : list[str], last_name : list[str], **additional_info : Dict[str,str])->Dict[str,str]:\n",
    "    \"\"\"Build a user profile with first and last names, along with additional information.\"\"\"\n",
    "    profile = {'first_name': first_name, 'last_name': last_name}\n",
    "    profile.update(additional_info)\n",
    "    return profile\n",
    "\n",
    "# Create a user profile\n",
    "my_profile = build_profile(\n",
    "    first_name='John',\n",
    "    last_name='Doe',\n",
    "    age=25,\n",
    "    occupation='Software Developer',\n",
    "    location='Cityville'\n",
    ")\n",
    "\n",
    "# Print the user profile\n",
    "print(my_profile)\n"
   ]
  },
  {
   "cell_type": "markdown",
   "metadata": {},
   "source": [
    "# 14. Cars: \n",
    "* Write a function that stores information about a car in a dictionary. \n",
    "* The function should always receive a manufacturer and a model name. \n",
    "* It should then accept an arbitrary number of keyword arguments.\n",
    "*  Call the function with the required information and two other name-value pairs, such as a color or an optional feature\n",
    "*  Your function should work for a call like this one:\n",
    "car = make_car('subaru', 'outback', color='blue', tow_package=True)\n",
    "Print the dictionary that’s returned to make sure all the information was stored correctly."
   ]
  },
  {
   "cell_type": "code",
   "execution_count": 251,
   "metadata": {},
   "outputs": [
    {
     "name": "stdout",
     "output_type": "stream",
     "text": [
      "{'color': 'blue', 'tow_package': True, 'Manufacturer': 'subaru', 'Model_name': 'outback'}\n"
     ]
    }
   ],
   "source": [
    "def make_cars(manufacturer : list[str], model_name : list[str], **optional_features : Dict[str,str])->Dict[str,str]:\n",
    "        optional_features['Manufacturer'] = manufacturer\n",
    "        optional_features ['Model_name'] = model_name\n",
    "\n",
    "        return optional_features\n",
    "\n",
    "car = make_cars('subaru', 'outback', color='blue', tow_package=True)\n",
    "print(car)"
   ]
  },
  {
   "cell_type": "code",
   "execution_count": 1,
   "metadata": {},
   "outputs": [
    {
     "name": "stdout",
     "output_type": "stream",
     "text": [
      "{'manufacturer': 'subaru', 'model': 'outback', 'color': 'blue', 'tow_package': True}\n"
     ]
    }
   ],
   "source": [
    "def make_car(manufacturer : list[str], model : list[str], **car_info : dict[str,str])->dict[str,str]:\n",
    "    \"\"\"Create a dictionary representing a car.\"\"\"\n",
    "    car = {'manufacturer': manufacturer, 'model': model}\n",
    "    car.update(car_info)\n",
    "    return car\n",
    "\n",
    "# Call the function with required and additional information\n",
    "car = make_car('subaru', 'outback', color='blue', tow_package=True)\n",
    "\n",
    "# Print the dictionary representing the car\n",
    "print(car)\n"
   ]
  },
  {
   "cell_type": "code",
   "execution_count": 6,
   "metadata": {},
   "outputs": [
    {
     "name": "stdout",
     "output_type": "stream",
     "text": [
      "Second-highest value is 3 and Second-lowest value is 11.\n"
     ]
    }
   ],
   "source": [
    "a :  int = [3,4,5,6,7,8,9,11,12]\n",
    "\n",
    "highest = a[0]\n",
    "second_highest = a[0]\n",
    "\n",
    "lowest = a[0]\n",
    "second_lowest = a[0]\n",
    "\n",
    "\n",
    "for num in a:\n",
    "    if num > highest:\n",
    "        second_highest = highest\n",
    "        highest = num\n",
    "    elif num > second_highest and  num != highest:\n",
    "        second_highest = num \n",
    "\n",
    "    if num < lowest:\n",
    "        second_lowest = lowest\n",
    "        lowest = num\n",
    "    elif num < second_lowest and num != lowest:\n",
    "        second_lowest = num  \n",
    "\n",
    "print(f\"Second-highest value is {second_lowest} and Second-lowest value is {second_highest}.\")              \n",
    "\n"
   ]
  },
  {
   "cell_type": "code",
   "execution_count": 8,
   "metadata": {},
   "outputs": [
    {
     "name": "stdout",
     "output_type": "stream",
     "text": [
      "Second-highest value: 503 and Second-lowest value: 105\n"
     ]
    }
   ],
   "source": [
    "# without hardcore coding\n",
    "# without builtin fucntions\n",
    "# The program gets out the value of the second-highest number and second-lowest number\n",
    "\n",
    "a = [105, 110, 320, 101, 503, 203, 505, 101]\n",
    "\n",
    "\n",
    "\n",
    "highest = a[0]\n",
    "second_highest = a[0]\n",
    "lowest = a[0]\n",
    "second_lowest = a[0]\n",
    "\n",
    "for num in a:\n",
    "    if num > highest:\n",
    "        second_highest = highest\n",
    "        highest = num\n",
    "    elif num > second_highest and num != highest:\n",
    "        second_highest = num\n",
    "\n",
    "    if num < lowest:\n",
    "        second_lowest = lowest\n",
    "        lowest = num\n",
    "    elif num < second_lowest and num != lowest:\n",
    "        second_lowest = num\n",
    "\n",
    "print(f\"Second-highest value: {second_highest} and Second-lowest value: {second_lowest}\")\n",
    "\n",
    "            \n"
   ]
  },
  {
   "cell_type": "code",
   "execution_count": null,
   "metadata": {},
   "outputs": [],
   "source": []
  }
 ],
 "metadata": {
  "kernelspec": {
   "display_name": "python13",
   "language": "python",
   "name": "python3"
  },
  "language_info": {
   "codemirror_mode": {
    "name": "ipython",
    "version": 3
   },
   "file_extension": ".py",
   "mimetype": "text/x-python",
   "name": "python",
   "nbconvert_exporter": "python",
   "pygments_lexer": "ipython3",
   "version": "undefined.undefined.undefined"
  }
 },
 "nbformat": 4,
 "nbformat_minor": 2
}
