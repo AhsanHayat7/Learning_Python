{
 "cells": [
  {
   "cell_type": "markdown",
   "metadata": {},
   "source": [
    "# Methods of Dictionary\n"
   ]
  },
  {
   "cell_type": "code",
   "execution_count": 5,
   "metadata": {},
   "outputs": [
    {
     "name": "stdout",
     "output_type": "stream",
     "text": [
      "Before {'King': 'Lion', 'Sea King': 'Whale', 'Sky King': 'Eagle'}\n",
      "After {}\n",
      "['clear', 'copy', 'fromkeys', 'get', 'items', 'keys', 'pop', 'popitem', 'setdefault', 'update', 'values']\n",
      "{}\n"
     ]
    }
   ],
   "source": [
    "from typing import Dict, Union,Optional\n",
    "import pprint\n",
    "\n",
    "Key = Union[int,float,str] # Creat custom data type\n",
    "Value = Union[str,str,list,dict,tuple,set]\n",
    "\n",
    "data : Dict[Key, Value]  = {\n",
    "                        \"King\":\"Lion\",\n",
    "                        \"Sea King\":\"Whale\",\n",
    "                        \"Sky King\":\"Eagle\" \n",
    "                        }\n",
    "\n",
    "\n",
    "print(\"Before\", data)\n",
    "\n",
    "data.clear()  # clear methods remove all data  but not from object\n",
    "\n",
    "print(\"After\", data)\n",
    "\n",
    "\n",
    "\n",
    "methods : list[str] = [m for m in dir(data) if \"__\" not in m]\n",
    "print(methods)\n"
   ]
  },
  {
   "cell_type": "code",
   "execution_count": 6,
   "metadata": {},
   "outputs": [
    {
     "name": "stdout",
     "output_type": "stream",
     "text": [
      "Before {'King': 'Lion', 'Sea King': 'Whale', 'Sky King': 'Eagle'}\n"
     ]
    },
    {
     "ename": "NameError",
     "evalue": "name 'data' is not defined",
     "output_type": "error",
     "traceback": [
      "\u001b[1;31m---------------------------------------------------------------------------\u001b[0m",
      "\u001b[1;31mNameError\u001b[0m                                 Traceback (most recent call last)",
      "Cell \u001b[1;32mIn[6], line 18\u001b[0m\n\u001b[0;32m     14\u001b[0m \u001b[38;5;28mprint\u001b[39m(\u001b[38;5;124m\"\u001b[39m\u001b[38;5;124mBefore\u001b[39m\u001b[38;5;124m\"\u001b[39m, data)\n\u001b[0;32m     16\u001b[0m \u001b[38;5;28;01mdel\u001b[39;00m data \u001b[38;5;66;03m# clear methods remove all data  but not from object\u001b[39;00m\n\u001b[1;32m---> 18\u001b[0m \u001b[38;5;28mprint\u001b[39m(\u001b[38;5;124m\"\u001b[39m\u001b[38;5;124mAfter\u001b[39m\u001b[38;5;124m\"\u001b[39m, \u001b[43mdata\u001b[49m)\n\u001b[0;32m     22\u001b[0m methods : \u001b[38;5;28mlist\u001b[39m[\u001b[38;5;28mstr\u001b[39m] \u001b[38;5;241m=\u001b[39m [m \u001b[38;5;28;01mfor\u001b[39;00m m \u001b[38;5;129;01min\u001b[39;00m \u001b[38;5;28mdir\u001b[39m(data) \u001b[38;5;28;01mif\u001b[39;00m \u001b[38;5;124m\"\u001b[39m\u001b[38;5;124m__\u001b[39m\u001b[38;5;124m\"\u001b[39m \u001b[38;5;129;01mnot\u001b[39;00m \u001b[38;5;129;01min\u001b[39;00m m]\n\u001b[0;32m     23\u001b[0m \u001b[38;5;28mprint\u001b[39m(methods)\n",
      "\u001b[1;31mNameError\u001b[0m: name 'data' is not defined"
     ]
    }
   ],
   "source": [
    "from typing import Dict, Union,Optional\n",
    "import pprint\n",
    "\n",
    "Key = Union[int,float,str] # Creat custom data type\n",
    "Value = Union[str,str,list,dict,tuple,set]\n",
    "\n",
    "data : Dict[Key, Value]  = {\n",
    "                        \"King\":\"Lion\",\n",
    "                        \"Sea King\":\"Whale\",\n",
    "                        \"Sky King\":\"Eagle\" \n",
    "                        }\n",
    "\n",
    "\n",
    "print(\"Before\", data)\n",
    "\n",
    "del data # delete methods remove all data from object\n",
    "\n",
    "print(\"After\", data)\n",
    "\n",
    "\n",
    "\n",
    "methods : list[str] = [m for m in dir(data) if \"__\" not in m]\n",
    "print(methods)\n"
   ]
  },
  {
   "cell_type": "code",
   "execution_count": 12,
   "metadata": {},
   "outputs": [
    {
     "name": "stdout",
     "output_type": "stream",
     "text": [
      "Before {'King': 'Lion', 'Sea King': 'Whale', 'Sky King': 'Eagle'}\n",
      "Eagle\n",
      "After {'King': 'Lion', 'Sea King': 'Whale'}\n",
      "['clear', 'copy', 'fromkeys', 'get', 'items', 'keys', 'pop', 'popitem', 'setdefault', 'update', 'values']\n"
     ]
    }
   ],
   "source": [
    "\n",
    "data : Dict[str, str]  = {\n",
    "                        \"King\":\"Lion\",\n",
    "                        \"Sea King\":\"Whale\",\n",
    "                        \"Sky King\":\"Eagle\" \n",
    "                        }\n",
    "\n",
    "\n",
    "print(\"Before\", data)\n",
    "\n",
    "# data.pop(\"King\")# clear methods remove all data  but not from object\n",
    "a : str = data.pop('Sky King')\n",
    "print(a)\n",
    "print(\"After\", data)\n",
    "\n",
    "\n",
    "\n",
    "methods : list[str] = [m for m in dir(data) if \"__\" not in m]\n",
    "print(methods)\n"
   ]
  },
  {
   "cell_type": "code",
   "execution_count": 16,
   "metadata": {},
   "outputs": [
    {
     "name": "stdout",
     "output_type": "stream",
     "text": [
      "Before {'King': 'Lion', 'Sea King': 'Whale', 'Sky King': 'Eagle'}\n",
      "('Sky King', 'Eagle')\n",
      "After {'King': 'Lion', 'Sea King': 'Whale'}\n"
     ]
    }
   ],
   "source": [
    "from typing import Dict, Tuple\n",
    "\n",
    "data: Dict[str, str] = {\n",
    "    \"King\": \"Lion\",\n",
    "    \"Sea King\": \"Whale\",\n",
    "    \"Sky King\": \"Eagle\"\n",
    "}\n",
    "\n",
    "print(\"Before\", data)\n",
    "\n",
    "b: Tuple[str, str] = data.popitem()\n",
    "print(b)\n",
    "print(\"After\", data)\n",
    "\n"
   ]
  },
  {
   "cell_type": "code",
   "execution_count": 17,
   "metadata": {},
   "outputs": [
    {
     "name": "stdout",
     "output_type": "stream",
     "text": [
      "Before {'King': 'Lion', 'Sea King': 'Whale', 'Sky King': 'Eagle'}\n",
      "NA\n",
      "After {'King': 'Lion', 'Sea King': 'Whale', 'Sky King': 'Eagle'}\n"
     ]
    }
   ],
   "source": [
    "from typing import Dict, Tuple\n",
    "\n",
    "data: Dict[str, str] = {\n",
    "    \"King\": \"Lion\",\n",
    "    \"Sea King\": \"Whale\",\n",
    "    \"Sky King\": \"Eagle\"\n",
    "}\n",
    "\n",
    "print(\"Before\", data)\n",
    "\n",
    "b: str = data.get(\"Pakisatn\",\"NA\") # go for the key paksitan and look for the value in pakistan which is NA if \n",
    "print(b)                             # no error when key is not present\n",
    "print(\"After\", data)\n",
    "\n"
   ]
  },
  {
   "cell_type": "code",
   "execution_count": 18,
   "metadata": {},
   "outputs": [
    {
     "name": "stdout",
     "output_type": "stream",
     "text": [
      "Before {'King': 'Lion', 'Sea King': 'Whale', 'Sky King': 'Eagle'}\n",
      "Empty value\n",
      "After {'King': 'Lion', 'Sea King': 'Whale', 'Sky King': 'Eagle', 'Paksitan': 'Empty value'}\n"
     ]
    }
   ],
   "source": [
    "from typing import Dict, Tuple\n",
    "\n",
    "data: Dict[str, str] = {\n",
    "    \"King\": \"Lion\",\n",
    "    \"Sea King\": \"Whale\",\n",
    "    \"Sky King\": \"Eagle\"\n",
    "}\n",
    "\n",
    "print(\"Before\", data)\n",
    "\n",
    "b: str = data.setdefault(\"Paksitan\",\"Empty value\") # Add the keys and values in the dict\n",
    "print(b)                                           # save in object of the dict\n",
    "print(\"After\", data)\n",
    "\n"
   ]
  },
  {
   "cell_type": "code",
   "execution_count": 21,
   "metadata": {},
   "outputs": [
    {
     "data": {
      "text/plain": [
       "{'King': 'Tiger',\n",
       " 'Sea King': 'Whale',\n",
       " 'Sky King': 'Eagle',\n",
       " 'Ocean King': 'Whale',\n",
       " 'High Mountains King': 'Eagle'}"
      ]
     },
     "execution_count": 21,
     "metadata": {},
     "output_type": "execute_result"
    }
   ],
   "source": [
    "Key = Union[int,float,str] # Creat custom data type\n",
    "Value = Union[str,str,list,dict,tuple,set]\n",
    "\n",
    "data : Dict[Key, Value]  = {\n",
    "                        \"King\":\"Lion\",\n",
    "                        \"Sea King\":\"Whale\",\n",
    "                        \"Sky King\":\"Eagle\" \n",
    "                        }\n",
    "\n",
    "data1 : Dict[Key, Value]  = {\n",
    "                        \"King\":\"Tiger\",\n",
    "                        \"Ocean King\":\"Whale\",\n",
    "                        \"High Mountains King\":\"Eagle\" \n",
    "                        }\n",
    "\n",
    "data.update(data1)  # Update the dict with the values and keys of the other dict.\n",
    "\n",
    "data"
   ]
  },
  {
   "cell_type": "code",
   "execution_count": 23,
   "metadata": {},
   "outputs": [
    {
     "data": {
      "text/html": [
       "<div>\n",
       "<style scoped>\n",
       "    .dataframe tbody tr th:only-of-type {\n",
       "        vertical-align: middle;\n",
       "    }\n",
       "\n",
       "    .dataframe tbody tr th {\n",
       "        vertical-align: top;\n",
       "    }\n",
       "\n",
       "    .dataframe thead th {\n",
       "        text-align: right;\n",
       "    }\n",
       "</style>\n",
       "<table border=\"1\" class=\"dataframe\">\n",
       "  <thead>\n",
       "    <tr style=\"text-align: right;\">\n",
       "      <th></th>\n",
       "      <th>roll no</th>\n",
       "      <th>Name</th>\n",
       "      <th>Education</th>\n",
       "    </tr>\n",
       "  </thead>\n",
       "  <tbody>\n",
       "    <tr>\n",
       "      <th>0</th>\n",
       "      <td>1</td>\n",
       "      <td>Ahsan</td>\n",
       "      <td>Bachelors</td>\n",
       "    </tr>\n",
       "    <tr>\n",
       "      <th>1</th>\n",
       "      <td>2</td>\n",
       "      <td>Hayat Mohammad</td>\n",
       "      <td>Master</td>\n",
       "    </tr>\n",
       "    <tr>\n",
       "      <th>2</th>\n",
       "      <td>3</td>\n",
       "      <td>Ahsan Hayat</td>\n",
       "      <td>Analyst</td>\n",
       "    </tr>\n",
       "  </tbody>\n",
       "</table>\n",
       "</div>"
      ],
      "text/plain": [
       "   roll no            Name  Education\n",
       "0        1           Ahsan  Bachelors\n",
       "1        2  Hayat Mohammad     Master\n",
       "2        3     Ahsan Hayat    Analyst"
      ]
     },
     "execution_count": 23,
     "metadata": {},
     "output_type": "execute_result"
    }
   ],
   "source": [
    "import pandas as pd\n",
    "from typing import Any\n",
    "\n",
    "students_data : Dict[str,list[Any]] = {\n",
    "    \"roll no\": [1,2,3,],\n",
    "    \"Name\" : [\"Ahsan\",\"Hayat Mohammad\",\"Ahsan Hayat\"],\n",
    "    \"Education\" : [\"Bachelors\",\"Master\",\"Analyst\"]\n",
    "\n",
    "}\n",
    "\n",
    "df : pd.DataFrame = pd.DataFrame(students_data)\n",
    "df"
   ]
  },
  {
   "cell_type": "code",
   "execution_count": 24,
   "metadata": {},
   "outputs": [
    {
     "name": "stdout",
     "output_type": "stream",
     "text": [
      "Original position: 0\n",
      "New position: 2\n"
     ]
    }
   ],
   "source": [
    "alien_0 = {'x_position': 0, 'y_position': 25, 'speed':\n",
    "'medium'}\n",
    "print(f\"Original position: {alien_0['x_position']}\")\n",
    "# Move the alien to the right.\n",
    "# Determine how far to move the alien based on its current speed.\n",
    "\n",
    "alien_0['speed'] = 'fast'\n",
    "\n",
    "if alien_0['speed'] == 'slow':\n",
    "    x_increment = 1\n",
    "elif alien_0['speed'] == 'medium':\n",
    "    x_increment = 2\n",
    "else:\n",
    "    # This must be a fast alien.\n",
    "    x_increment = 3\n",
    "# The new position is the old position plus the increment.\n",
    "\n",
    "alien_0['x_position'] = alien_0['x_position'] + x_increment\n",
    "print(f\"New position: {alien_0['x_position']}\")\n"
   ]
  },
  {
   "cell_type": "code",
   "execution_count": 25,
   "metadata": {},
   "outputs": [
    {
     "name": "stdout",
     "output_type": "stream",
     "text": [
      "Original position: 0\n",
      "New position: 3\n"
     ]
    }
   ],
   "source": [
    "alien_0 = {'x_position': 0, 'y_position': 25, 'speed':\n",
    "'medium'}\n",
    "print(f\"Original position: {alien_0['x_position']}\")\n",
    "# Move the alien to the right.\n",
    "# Determine how far to move the alien based on its current speed.\n",
    "\n",
    "alien_0['speed'] = 'fast'   # update speed\n",
    "\n",
    "if alien_0['speed'] == 'slow':\n",
    "    x_increment = 1\n",
    "elif alien_0['speed'] == 'medium':\n",
    "    x_increment = 2\n",
    "else:\n",
    "    # This must be a fast alien.\n",
    "    x_increment = 3\n",
    "# The new position is the old position plus the increment.\n",
    "\n",
    "alien_0['x_position'] = alien_0['x_position'] + x_increment\n",
    "print(f\"New position: {alien_0['x_position']}\")\n"
   ]
  },
  {
   "cell_type": "code",
   "execution_count": 26,
   "metadata": {},
   "outputs": [
    {
     "name": "stdout",
     "output_type": "stream",
     "text": [
      "{'King': 'Lion', 'Sea King': 'Whale', 'Sky King': 'Eagle'}\n",
      "<class 'dict'>\n"
     ]
    }
   ],
   "source": [
    "Key = Union[int,float,str] # Creat custom data type\n",
    "Value = Union[str,str,list,dict,tuple,set]\n",
    "\n",
    "data : Dict[Key, Value]  = {\n",
    "                        \"King\":\"Lion\",\n",
    "                        \"Sea King\":\"Whale\",\n",
    "                        \"Sky King\":\"Eagle\" \n",
    "                        }\n",
    "print(data)\n",
    "print(type(data))"
   ]
  },
  {
   "cell_type": "code",
   "execution_count": 32,
   "metadata": {},
   "outputs": [
    {
     "name": "stdout",
     "output_type": "stream",
     "text": [
      "{\n",
      "   \"King\": \"Lion\",\n",
      "   \"Sea King\": \"Whale\",\n",
      "   \"Sky King\": \"Eagle\"\n",
      "}\n",
      "<class 'str'>\n"
     ]
    }
   ],
   "source": [
    "import json\n",
    "\n",
    "d  = json.dumps(data, indent=3)   # convert into json format \n",
    "print(d)                          # transfer data from one computer to another computer json format is use\n",
    "print(type(d))"
   ]
  },
  {
   "cell_type": "code",
   "execution_count": null,
   "metadata": {},
   "outputs": [],
   "source": []
  }
 ],
 "metadata": {
  "kernelspec": {
   "display_name": "python13",
   "language": "python",
   "name": "python3"
  },
  "language_info": {
   "codemirror_mode": {
    "name": "ipython",
    "version": 3
   },
   "file_extension": ".py",
   "mimetype": "text/x-python",
   "name": "python",
   "nbconvert_exporter": "python",
   "pygments_lexer": "ipython3",
   "version": "3.12.0"
  }
 },
 "nbformat": 4,
 "nbformat_minor": 2
}
