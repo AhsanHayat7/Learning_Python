{
 "cells": [
  {
   "cell_type": "markdown",
   "metadata": {},
   "source": [
    "# if-else-elif\n",
    "```\n",
    "if logic:\n",
    "    True_block\n",
    "else:\n",
    "     False_block    \n",
    "```     \n",
    "\n",
    "# Comprehensive if-else:\n",
    "\n",
    "True_block if logic else False_block\n",
    "\n",
    "* if\n",
    "* if- else\n",
    "* if-elif-else"
   ]
  },
  {
   "cell_type": "code",
   "execution_count": 2,
   "metadata": {},
   "outputs": [
    {
     "name": "stdout",
     "output_type": "stream",
     "text": [
      "Pakistan Zindabad\n"
     ]
    }
   ],
   "source": [
    "if True:\n",
    "    print(\"Pakistan Zindabad\")\n",
    "else:\n",
    "    print(\"Hello world\")    "
   ]
  },
  {
   "cell_type": "code",
   "execution_count": 3,
   "metadata": {},
   "outputs": [
    {
     "name": "stdout",
     "output_type": "stream",
     "text": [
      "Hello world\n"
     ]
    }
   ],
   "source": [
    "if False:\n",
    "    print(\"Pakistan Zindabad\")\n",
    "else:\n",
    "    print(\"Hello world\")    "
   ]
  },
  {
   "cell_type": "code",
   "execution_count": 4,
   "metadata": {},
   "outputs": [
    {
     "name": "stdout",
     "output_type": "stream",
     "text": [
      "Pakistan Zindabad\n"
     ]
    }
   ],
   "source": [
    "#         True block        # logic      # False block\n",
    "print(\"Pakistan Zindabad\") if True else print(\"Hello world\")"
   ]
  },
  {
   "cell_type": "code",
   "execution_count": 5,
   "metadata": {},
   "outputs": [
    {
     "name": "stdout",
     "output_type": "stream",
     "text": [
      "Hello world\n"
     ]
    }
   ],
   "source": [
    "print(\"Pakistan Zindabad\") if False else print(\"Hello world\")"
   ]
  },
  {
   "cell_type": "markdown",
   "metadata": {},
   "source": [
    "# Comparison operator\n",
    "* ==\n",
    "* `>= \n",
    "  `\n",
    "* <=\n",
    "* !=\n",
    "\n",
    "# Logic operator\n",
    "* and\n",
    "* or\n",
    "* not"
   ]
  },
  {
   "cell_type": "code",
   "execution_count": 6,
   "metadata": {},
   "outputs": [
    {
     "name": "stdout",
     "output_type": "stream",
     "text": [
      "True Pakistan block \n",
      "True1\n",
      "True2\n"
     ]
    }
   ],
   "source": [
    "if True:\n",
    "    print(\"True Pakistan block \")\n",
    "\n",
    "print(\"True1\")\n",
    "print(\"True2\")"
   ]
  },
  {
   "cell_type": "code",
   "execution_count": 7,
   "metadata": {},
   "outputs": [
    {
     "name": "stdout",
     "output_type": "stream",
     "text": [
      "True1\n",
      "True2\n"
     ]
    }
   ],
   "source": [
    "if False:\n",
    "    print(\"True Pakistan block \")\n",
    "\n",
    "print(\"True1\")\n",
    "print(\"True2\")"
   ]
  },
  {
   "cell_type": "code",
   "execution_count": 8,
   "metadata": {},
   "outputs": [
    {
     "name": "stdout",
     "output_type": "stream",
     "text": [
      "True_block\n"
     ]
    }
   ],
   "source": [
    "if True:\n",
    "    print(\"True_block\")\n",
    "elif False:\n",
    "    print|(\"elif logic1\") \n",
    "elif False:\n",
    "    print(\"elif logic2\")\n",
    "elif False:\n",
    "    print(\"elif logi3\")\n",
    "else:\n",
    "    print(\"final else block\")               "
   ]
  },
  {
   "cell_type": "code",
   "execution_count": 14,
   "metadata": {},
   "outputs": [
    {
     "name": "stdout",
     "output_type": "stream",
     "text": [
      "elif logic1\n"
     ]
    }
   ],
   "source": [
    "if  False:\n",
    "    print(\"True_block\")\n",
    "elif True:\n",
    "     print(\"elif logic1\") \n",
    "elif False:\n",
    "    print(\"elif logic2\")\n",
    "elif False:\n",
    "    print(\"elif logi3\")\n",
    "else:\n",
    "    print(\"final else block\")               "
   ]
  },
  {
   "cell_type": "code",
   "execution_count": 15,
   "metadata": {},
   "outputs": [
    {
     "name": "stdout",
     "output_type": "stream",
     "text": [
      "elif logic2\n"
     ]
    }
   ],
   "source": [
    "if False:\n",
    "    print(\"True_block\")\n",
    "elif False:\n",
    "    print(\"elif logic1\") \n",
    "elif True:\n",
    "    print(\"elif logic2\")\n",
    "elif False:\n",
    "    print(\"elif logi3\")\n",
    "else:\n",
    "    print(\"final else block\")               "
   ]
  },
  {
   "cell_type": "code",
   "execution_count": 16,
   "metadata": {},
   "outputs": [
    {
     "name": "stdout",
     "output_type": "stream",
     "text": [
      "elif logi3\n"
     ]
    }
   ],
   "source": [
    "if False:\n",
    "    print(\"True_block\")\n",
    "elif False:\n",
    "    print(\"elif logic1\") \n",
    "elif False:\n",
    "    print(\"elif logic2\")\n",
    "elif True:\n",
    "    print(\"elif logi3\")\n",
    "else:\n",
    "    print(\"final else block\")  "
   ]
  },
  {
   "cell_type": "code",
   "execution_count": 17,
   "metadata": {},
   "outputs": [
    {
     "name": "stdout",
     "output_type": "stream",
     "text": [
      "final else block\n"
     ]
    }
   ],
   "source": [
    "if False:\n",
    "    print(\"True_block\")\n",
    "elif False:\n",
    "    print|(\"elif logic1\") \n",
    "elif False:\n",
    "    print(\"elif logic2\")\n",
    "elif False:\n",
    "    print(\"elif logi3\")\n",
    "else:\n",
    "    print(\"final else block\")  "
   ]
  },
  {
   "cell_type": "code",
   "execution_count": 19,
   "metadata": {},
   "outputs": [
    {
     "name": "stdout",
     "output_type": "stream",
     "text": [
      "elif logic2\n",
      "Pakistan Zindabad\n"
     ]
    }
   ],
   "source": [
    "# Chain1 run only one block\n",
    "if False:\n",
    "    print(\"True_block\")\n",
    "elif False:\n",
    "    print|(\"elif logic1\") \n",
    "elif True:\n",
    "    print(\"elif logic2\")\n",
    "elif True:\n",
    "    print(\"elif logi3\")\n",
    "else:\n",
    "    print(\"final else block\") \n",
    "\n",
    "print(\"Pakistan Zindabad\")"
   ]
  },
  {
   "cell_type": "code",
   "execution_count": 20,
   "metadata": {},
   "outputs": [
    {
     "name": "stdout",
     "output_type": "stream",
     "text": [
      "elif logic2\n",
      "final else block\n",
      "Pakistan\n"
     ]
    }
   ],
   "source": [
    "# Chain1 run only one block\n",
    "if False:\n",
    "    print(\"True_block\")\n",
    "elif False:\n",
    "    print|(\"elif logic1\") \n",
    "elif True:\n",
    "    print(\"elif logic2\")\n",
    "elif True:\n",
    "    print(\"elif logi3\")\n",
    "else:\n",
    "    print(\"final else block\") \n",
    "\n",
    " # Chain2 only run one block   \n",
    "\n",
    "if False:\n",
    "    print(\"True_block\")\n",
    "elif False:\n",
    "    print|(\"elif logic1\") \n",
    "elif False:\n",
    "    print(\"elif logic2\")\n",
    "elif False:\n",
    "    print(\"elif logi3\")\n",
    "else:\n",
    "    print(\"final else block\")\n",
    "\n",
    "print(\"Pakistan\")"
   ]
  },
  {
   "cell_type": "markdown",
   "metadata": {},
   "source": [
    "# Grading Rule\n",
    "\n",
    "* This Python script calculates the grade based on the given percentage."
   ]
  },
  {
   "cell_type": "code",
   "execution_count": 44,
   "metadata": {},
   "outputs": [
    {
     "name": "stdout",
     "output_type": "stream",
     "text": [
      "Dear student your percentage is 88.2 now your calculated grade is:\t A+\n"
     ]
    }
   ],
   "source": [
    "from typing import Union\n",
    "\n",
    "per : Union[int,float] = 88.2\n",
    "\n",
    "grade: Union[str,None] = None\n",
    "if per >= 80:\n",
    "    grade = \"A+\"\n",
    "elif per >= 70:\n",
    "    grade = \"A\"\n",
    "elif per >= 60:\n",
    "    grade = \"B\"\n",
    "elif per >= 50:\n",
    "    grade = \"C\" \n",
    "elif per >= 40:\n",
    "    grade = \"D\"\n",
    "elif per >= 33:\n",
    "    grade = \"E\" \n",
    "\n",
    "else:\n",
    "    grade = \"Fail\"\n",
    "\n",
    "\n",
    "print(f\"Dear student your percentage is {per} now your calculated grade is:\\t {grade}\")"
   ]
  },
  {
   "cell_type": "code",
   "execution_count": 26,
   "metadata": {},
   "outputs": [
    {
     "name": "stdout",
     "output_type": "stream",
     "text": [
      "<class 'str'>\n",
      "23\n"
     ]
    }
   ],
   "source": [
    "a = (input(\"Enter your percentage:\\t\"))\n",
    "print(type(a))\n",
    "\n",
    "print(a)\n"
   ]
  },
  {
   "cell_type": "code",
   "execution_count": 27,
   "metadata": {},
   "outputs": [
    {
     "name": "stdout",
     "output_type": "stream",
     "text": [
      "<class 'int'>\n",
      "55\n"
     ]
    }
   ],
   "source": [
    "a = int(input(\"Enter your percentage:\\t\"))\n",
    "print(type(a))\n",
    "\n",
    "print(a)\n"
   ]
  },
  {
   "cell_type": "code",
   "execution_count": 45,
   "metadata": {},
   "outputs": [
    {
     "name": "stdout",
     "output_type": "stream",
     "text": [
      "Dear student your percentage is 52.5553, now your calculated grade is:\t C\n"
     ]
    }
   ],
   "source": [
    "from typing import Union\n",
    "\n",
    "per : Union[int,float] = float(input(\"Enter your percentage\"))\n",
    "\n",
    "grade: Union[str,None] = None\n",
    "if per >= 80:\n",
    "    grade = \"A+\"\n",
    "elif per >= 70:\n",
    "    grade = \"A\"\n",
    "elif per >= 60:\n",
    "    grade = \"B\"\n",
    "elif per >= 50:\n",
    "    grade = \"C\" \n",
    "elif per >= 40:\n",
    "    grade = \"D\"\n",
    "elif per >= 33:\n",
    "    grade = \"E\" \n",
    "\n",
    "else:\n",
    "    grade = \"Fail\"\n",
    "\n",
    "\n",
    "print(f\"Dear student your percentage is {per}, now your calculated grade is:\\t {grade}\")"
   ]
  },
  {
   "cell_type": "code",
   "execution_count": 46,
   "metadata": {},
   "outputs": [
    {
     "name": "stdout",
     "output_type": "stream",
     "text": [
      "Dear student your percentage is 22, now your calculated grade is:\t Fail\n"
     ]
    }
   ],
   "source": [
    "from typing import Union\n",
    "\n",
    "per : Union[int,float] = int(input(\"Enter your percentage\"))\n",
    "\n",
    "grade: Union[str,None] = None\n",
    "if per >= 80:\n",
    "    grade = \"A+\"\n",
    "elif per >= 70:\n",
    "    grade = \"A\"\n",
    "elif per >= 60:\n",
    "    grade = \"B\"\n",
    "elif per >= 50:\n",
    "    grade = \"C\" \n",
    "elif per >= 40:\n",
    "    grade = \"D\"\n",
    "elif per >= 33:\n",
    "    grade = \"E\" \n",
    "\n",
    "else:\n",
    "    grade = \"Fail\"\n",
    "\n",
    "\n",
    "print(f\"Dear student your percentage is {per}, now your calculated grade is:\\t {grade}\")"
   ]
  },
  {
   "cell_type": "code",
   "execution_count": 32,
   "metadata": {},
   "outputs": [
    {
     "name": "stdout",
     "output_type": "stream",
     "text": [
      "Dear student your percentage is 67, now your calculated grade is:\t B\n"
     ]
    }
   ],
   "source": [
    "# you can use pipe | operator as a alternative of Union\n",
    "from typing import Optional\n",
    "\n",
    "per : int | float = int(input(\"Enter your percentage\"))\n",
    "\n",
    "grade: Optional[str] = None\n",
    "if per >= 80:\n",
    "    grade = \"A+\"\n",
    "elif per >= 70:\n",
    "    grade = \"A\"\n",
    "elif per >= 60:\n",
    "    grade = \"B\"\n",
    "elif per >= 50:\n",
    "    grade = \"C\" \n",
    "elif per >= 40:\n",
    "    grade = \"D\"\n",
    "elif per >= 33:\n",
    "    grade = \"E\" \n",
    "\n",
    "else:\n",
    "    grade = \"Fail\"\n",
    "\n",
    "\n",
    "print(f\"Dear student your percentage is {per}, now your calculated grade is:\\t {grade}\")"
   ]
  },
  {
   "cell_type": "markdown",
   "metadata": {},
   "source": [
    "## Logical Error"
   ]
  },
  {
   "cell_type": "code",
   "execution_count": 34,
   "metadata": {},
   "outputs": [
    {
     "name": "stdout",
     "output_type": "stream",
     "text": [
      "Dear student your percentage is 99, now your calculated grade is:\t Fail\n"
     ]
    }
   ],
   "source": [
    "# Error\n",
    "\n",
    "per : Union[int,float] = int(input(\"Enter your percentage\"))\n",
    "\n",
    "grade: Union[str,None] = None\n",
    "if per >= 0:\n",
    "    grade = \"Fail\"\n",
    "elif per >= 33:\n",
    "    grade = \"E\"\n",
    "elif per >= 40:\n",
    "    grade = \"D\"\n",
    "elif per >= 50:\n",
    "    grade = \"C\" \n",
    "elif per >= 60:\n",
    "    grade = \"B\"\n",
    "elif per >= 70:\n",
    "    grade = \"B\" \n",
    "\n",
    "else:\n",
    "    grade = \"Pass\"\n",
    "\n",
    "\n",
    "print(f\"Dear student your percentage is {per}, now your calculated grade is:\\t {grade}\")"
   ]
  },
  {
   "cell_type": "code",
   "execution_count": 38,
   "metadata": {},
   "outputs": [
    {
     "name": "stdout",
     "output_type": "stream",
     "text": [
      "Dear student your percentage is 25, now your calculated grade is:\t Fail\n"
     ]
    }
   ],
   "source": [
    "# Set he logic correctly \n",
    "\n",
    "per : Union[int,float] = int(input(\"Enter your percentage\"))\n",
    "\n",
    "grade: Union[str,None] = None\n",
    "if (per >= 0) and (per < 33):\n",
    "    grade = \"Fail\"\n",
    "elif (per >= 33) and (per < 40):\n",
    "    grade = \"E\"\n",
    "elif (per >= 40) and (per < 50):\n",
    "    grade = \"D\"\n",
    "elif (per >= 50) and (per < 60):\n",
    "    grade = \"C\" \n",
    "elif (per >= 60) and (per < 70):\n",
    "    grade = \"B\"\n",
    "elif (per >= 70) and (per < 80):\n",
    "    grade = \"A\" \n",
    "elif (per > 80) and (per <= 100):\n",
    "    grade = \"A+\"\n",
    "\n",
    "\n",
    "print(f\"Dear student your percentage is {per}, now your calculated grade is:\\t {grade}\")"
   ]
  },
  {
   "cell_type": "markdown",
   "metadata": {},
   "source": [
    "# Stduent Percentages"
   ]
  },
  {
   "cell_type": "code",
   "execution_count": 140,
   "metadata": {},
   "outputs": [
    {
     "name": "stdout",
     "output_type": "stream",
     "text": [
      "[70, 33, 90.02, 65.6, 44.5]\n",
      "['A', 'E', 'A+', 'B', 'D']\n"
     ]
    }
   ],
   "source": [
    "pertype = Union[int,float] \n",
    "\n",
    "percentages : list[pertype] = [70, 33, 90.02, 65.6, 44.5]\n",
    "\n",
    "grades : list[str] = []\n",
    "\n",
    "for per in percentages:\n",
    "    grade : str = \"\"\n",
    "    if (per >= 0) and (per < 33):\n",
    "     grade = \"Fail\"\n",
    "    elif (per >= 33) and (per < 40):\n",
    "      grade = \"E\"\n",
    "    elif (per >= 40) and (per < 50):\n",
    "      grade = \"D\"\n",
    "    elif (per >= 50) and (per < 60):\n",
    "      grade = \"C\" \n",
    "    elif (per >= 60) and (per < 70):\n",
    "      grade = \"B\"\n",
    "    elif (per >= 70) and (per < 80):\n",
    "      grade = \"A\" \n",
    "    elif (per > 80) and (per <= 100):\n",
    "      grade = \"A+\" \n",
    "\n",
    "    grades.append(grade)  \n",
    "print(percentages) \n",
    "print(grades)  "
   ]
  },
  {
   "cell_type": "markdown",
   "metadata": {},
   "source": [
    "* The zip function takes multiple iterable arguments and returns an iterator that produces tuples containing elements from the input iterables.\n",
    "* This Python expression utilizes the `zip` function to combine three lists: `percentages`, `grades`, and a list generated from the `range` function based on the length of `percentages`."
   ]
  },
  {
   "cell_type": "code",
   "execution_count": 141,
   "metadata": {},
   "outputs": [
    {
     "data": {
      "text/plain": [
       "<zip at 0x1356f3d8d40>"
      ]
     },
     "execution_count": 141,
     "metadata": {},
     "output_type": "execute_result"
    }
   ],
   "source": [
    "zip(percentages,grades) # generator fucntion iteration perform --> list,"
   ]
  },
  {
   "cell_type": "code",
   "execution_count": 51,
   "metadata": {},
   "outputs": [
    {
     "data": {
      "text/plain": [
       "[(70, 'A', 0), (33, 'E', 1), (90.02, 'A+', 2), (65.6, 'B', 3), (44.5, 'D', 4)]"
      ]
     },
     "execution_count": 51,
     "metadata": {},
     "output_type": "execute_result"
    }
   ],
   "source": [
    "list(zip(percentages, grades, list(range(len(percentages)))))"
   ]
  },
  {
   "cell_type": "code",
   "execution_count": 142,
   "metadata": {},
   "outputs": [
    {
     "data": {
      "text/plain": [
       "[(70, 'A'), (33, 'E'), (90.02, 'A+'), (65.6, 'B'), (44.5, 'D')]"
      ]
     },
     "execution_count": 142,
     "metadata": {},
     "output_type": "execute_result"
    }
   ],
   "source": [
    "list(zip(percentages, grades))"
   ]
  },
  {
   "cell_type": "code",
   "execution_count": 57,
   "metadata": {},
   "outputs": [
    {
     "data": {
      "text/plain": [
       "[0, 1, 2, 3, 4]"
      ]
     },
     "execution_count": 57,
     "metadata": {},
     "output_type": "execute_result"
    }
   ],
   "source": [
    "roll_no : list[int] = list(range(len(percentages)))\n",
    "roll_no"
   ]
  },
  {
   "cell_type": "code",
   "execution_count": 143,
   "metadata": {},
   "outputs": [
    {
     "data": {
      "text/plain": [
       "[0, 1, 2, 3, 4]"
      ]
     },
     "execution_count": 143,
     "metadata": {},
     "output_type": "execute_result"
    }
   ],
   "source": [
    "list(range(len(percentages)))"
   ]
  },
  {
   "cell_type": "code",
   "execution_count": 62,
   "metadata": {},
   "outputs": [
    {
     "data": {
      "text/plain": [
       "[(0, 70, 'A'), (1, 33, 'E'), (2, 90.02, 'A+'), (3, 65.6, 'B'), (4, 44.5, 'D')]"
      ]
     },
     "execution_count": 62,
     "metadata": {},
     "output_type": "execute_result"
    }
   ],
   "source": [
    "list(zip(roll_no,percentages, grades))"
   ]
  },
  {
   "cell_type": "code",
   "execution_count": 65,
   "metadata": {},
   "outputs": [
    {
     "data": {
      "text/plain": [
       "[(0, 70, 'A'), (1, 33, 'E'), (2, 90.02, 'A+'), (3, 65.6, 'B'), (4, 44.5, 'D')]"
      ]
     },
     "execution_count": 65,
     "metadata": {},
     "output_type": "execute_result"
    }
   ],
   "source": [
    "data_base = list(zip(roll_no,percentages, grades))\n",
    "data_base"
   ]
  },
  {
   "cell_type": "code",
   "execution_count": 66,
   "metadata": {},
   "outputs": [
    {
     "data": {
      "text/plain": [
       "[(0, 70, 'A'), (1, 33, 'E'), (2, 90.02, 'A+'), (3, 65.6, 'B'), (4, 44.5, 'D')]"
      ]
     },
     "execution_count": 66,
     "metadata": {},
     "output_type": "execute_result"
    }
   ],
   "source": [
    "sorted(data_base)"
   ]
  },
  {
   "cell_type": "code",
   "execution_count": 71,
   "metadata": {},
   "outputs": [
    {
     "data": {
      "text/plain": [
       "[(1, 33, 'E'), (4, 44.5, 'D'), (3, 65.6, 'B'), (0, 70, 'A'), (2, 90.02, 'A+')]"
      ]
     },
     "execution_count": 71,
     "metadata": {},
     "output_type": "execute_result"
    }
   ],
   "source": [
    "sorted(data_base, key=lambda x:x[1])"
   ]
  },
  {
   "cell_type": "code",
   "execution_count": 72,
   "metadata": {},
   "outputs": [
    {
     "data": {
      "text/plain": [
       "[(2, 90.02, 'A+'), (0, 70, 'A'), (3, 65.6, 'B'), (4, 44.5, 'D'), (1, 33, 'E')]"
      ]
     },
     "execution_count": 72,
     "metadata": {},
     "output_type": "execute_result"
    }
   ],
   "source": [
    "sorted(data_base, key=lambda x:x[1], reverse=True)"
   ]
  },
  {
   "cell_type": "markdown",
   "metadata": {},
   "source": [
    "* In Python, the `if`, `else`, and `elif` (else if) statements are used for conditional execution. They allow you to control the flow of your program based on certain conditions.\n",
    "* The `else` statement is used to execute a block of code if the preceding if statement evaluates to false.\n",
    "* The `elif` statement, short for \"else if,\" allows you to check multiple conditions in a chain. It is used when you have more than two possible outcomes."
   ]
  },
  {
   "cell_type": "code",
   "execution_count": 88,
   "metadata": {},
   "outputs": [
    {
     "name": "stdout",
     "output_type": "stream",
     "text": [
      "Audi\n",
      "BMW\n",
      "Subaru\n",
      "Toyota\n"
     ]
    }
   ],
   "source": [
    "cars : list[str] = ['audi', 'bmw', 'subaru', 'toyota']\n",
    "for car in cars:\n",
    "    if car == 'bmw':\n",
    "       print(car.upper())\n",
    "    else:\n",
    "       print(car.title())\n"
   ]
  },
  {
   "cell_type": "code",
   "execution_count": 86,
   "metadata": {},
   "outputs": [
    {
     "data": {
      "text/plain": [
       "['Audi', 'BMW', 'Subaru', 'Toyota']"
      ]
     },
     "execution_count": 86,
     "metadata": {},
     "output_type": "execute_result"
    }
   ],
   "source": [
    "cars : list[str] = ['audi', 'bmw', 'subaru', 'toyota']\n",
    "[car.upper()   if car == 'bmw' else car.title() for car in cars]"
   ]
  },
  {
   "cell_type": "code",
   "execution_count": 90,
   "metadata": {},
   "outputs": [
    {
     "name": "stdout",
     "output_type": "stream",
     "text": [
      "toyota\n"
     ]
    },
    {
     "data": {
      "text/plain": [
       "False"
      ]
     },
     "execution_count": 90,
     "metadata": {},
     "output_type": "execute_result"
    }
   ],
   "source": [
    "print(car)\n",
    "car == 'bmw'"
   ]
  },
  {
   "cell_type": "code",
   "execution_count": 95,
   "metadata": {},
   "outputs": [
    {
     "data": {
      "text/plain": [
       "True"
      ]
     },
     "execution_count": 95,
     "metadata": {},
     "output_type": "execute_result"
    }
   ],
   "source": [
    "car = 'Audi'\n",
    "car.lower() == 'audi'\n"
   ]
  },
  {
   "cell_type": "code",
   "execution_count": 96,
   "metadata": {},
   "outputs": [
    {
     "name": "stdout",
     "output_type": "stream",
     "text": [
      "AUDI\n",
      "BMW\n",
      "mehran\n",
      "SUBARU\n",
      "TOYOTA\n"
     ]
    }
   ],
   "source": [
    "cars : list[str] = ['audi', 'bmw', \"Mehran\",'subaru', 'toyota']\n",
    "for car in cars: # in = extract element from iterated types \n",
    "    if car != 'Mehran':\n",
    "       print(car.upper())\n",
    "    else:\n",
    "       print(car.lower())\n"
   ]
  },
  {
   "cell_type": "code",
   "execution_count": 97,
   "metadata": {},
   "outputs": [
    {
     "name": "stdout",
     "output_type": "stream",
     "text": [
      "That is not the correct answer. Please try again!\n"
     ]
    }
   ],
   "source": [
    "answer = 17\n",
    "if answer != 42:\n",
    "    print(\"That is not the correct answer. Please try again!\")"
   ]
  },
  {
   "cell_type": "code",
   "execution_count": 98,
   "metadata": {},
   "outputs": [
    {
     "data": {
      "text/plain": [
       "False"
      ]
     },
     "execution_count": 98,
     "metadata": {},
     "output_type": "execute_result"
    }
   ],
   "source": [
    "cars = ['audi', 'bmw', \"Mehran\",'subaru', 'toyota']\n",
    "\n",
    "\"mazda\" in cars"
   ]
  },
  {
   "cell_type": "code",
   "execution_count": 99,
   "metadata": {},
   "outputs": [
    {
     "data": {
      "text/plain": [
       "True"
      ]
     },
     "execution_count": 99,
     "metadata": {},
     "output_type": "execute_result"
    }
   ],
   "source": [
    "cars = ['audi', 'bmw', \"Mehran\",'subaru', 'toyota']\n",
    "\n",
    "\"bmw\" in cars"
   ]
  },
  {
   "cell_type": "code",
   "execution_count": 100,
   "metadata": {},
   "outputs": [
    {
     "name": "stdout",
     "output_type": "stream",
     "text": [
      "Marie, you can post a response if you wish.\n"
     ]
    }
   ],
   "source": [
    "banned_users : list[str] = ['andrew', 'carolina', 'david']\n",
    "user = 'marie'\n",
    "if user not in banned_users:\n",
    "    print(f\"{user.title()}, you can post a response if you wish.\")"
   ]
  },
  {
   "cell_type": "code",
   "execution_count": 102,
   "metadata": {},
   "outputs": [
    {
     "name": "stdout",
     "output_type": "stream",
     "text": [
      "True\n",
      "Marie, you can post a response if you wish.\n"
     ]
    }
   ],
   "source": [
    "banned_users : list[str] = ['andrew', 'carolina', 'david']\n",
    "user = 'marie'\n",
    "print(user not in banned_users)\n",
    "if user not in banned_users:\n",
    "    print(f\"{user.title()}, you can post a response if you wish.\")"
   ]
  },
  {
   "cell_type": "code",
   "execution_count": 103,
   "metadata": {},
   "outputs": [
    {
     "name": "stdout",
     "output_type": "stream",
     "text": [
      "Sorry, you are too young to vote.\n",
      "Please register to vote as soon as you turn 18!\n"
     ]
    }
   ],
   "source": [
    "age = 17\n",
    "if age >= 18:\n",
    "    print(\"You are old enough to vote!\")\n",
    "    print(\"Have you registered to vote yet?\")\n",
    "else:\n",
    "    print(\"Sorry, you are too young to vote.\")\n",
    "    print(\"Please register to vote as soon as you turn 18!\")"
   ]
  },
  {
   "cell_type": "code",
   "execution_count": 104,
   "metadata": {},
   "outputs": [
    {
     "name": "stdout",
     "output_type": "stream",
     "text": [
      "Your admission cost is $25.\n"
     ]
    }
   ],
   "source": [
    "age = 12\n",
    "if age < 4:\n",
    "    print(\"Your admission cost is $0.\")\n",
    "elif age < 18:\n",
    "    print(\"Your admission cost is $25.\")\n",
    "else:\n",
    "    print(\"Your admission cost is $40.\")\n"
   ]
  },
  {
   "cell_type": "code",
   "execution_count": 106,
   "metadata": {},
   "outputs": [
    {
     "name": "stdout",
     "output_type": "stream",
     "text": [
      "Adding mushrooms.\n",
      "Adding extra cheese.\n",
      "\n",
      "Finished making your pizza!\n"
     ]
    }
   ],
   "source": [
    "requested_toppings : list[str] = ['mushrooms', 'extra cheese']\n",
    "if 'mushrooms' in requested_toppings:\n",
    "    print(\"Adding mushrooms.\")\n",
    "if 'pepperoni' in requested_toppings:\n",
    "    print(\"Adding pepperoni.\")\n",
    "if 'extra cheese' in requested_toppings:\n",
    "    print(\"Adding extra cheese.\")\n",
    "print(\"\\nFinished making your pizza!\")    "
   ]
  },
  {
   "cell_type": "code",
   "execution_count": 107,
   "metadata": {},
   "outputs": [
    {
     "name": "stdout",
     "output_type": "stream",
     "text": [
      "Adding mushrooms.\n",
      "Sorry, we are out of green peppers rightnow.\n",
      "Adding extracheese.\n",
      "\n",
      "Finished making your pizza!\n"
     ]
    }
   ],
   "source": [
    "requested_toppings : list[str] = ['mushrooms', 'green peppers', 'extracheese']\n",
    "for requested_topping in requested_toppings:\n",
    "    if requested_topping == 'green peppers':\n",
    "        print(\"Sorry, we are out of green peppers rightnow.\")\n",
    "    else:\n",
    "       print(f\"Adding {requested_topping}.\")\n",
    "print(\"\\nFinished making your pizza!\")\n"
   ]
  },
  {
   "cell_type": "code",
   "execution_count": 109,
   "metadata": {},
   "outputs": [
    {
     "name": "stdout",
     "output_type": "stream",
     "text": [
      "Adding mushrooms.\n",
      "Sorry, we don't have french fries.\n",
      "Adding extracheese.\n",
      "\n",
      "Finished making your pizza!\n"
     ]
    }
   ],
   "source": [
    "available_toppings : list[str] = ['mushrooms', 'olives', 'green peppers','pepperoni', 'pineapple', 'extracheese']\n",
    "requested_toppings : list[str] = ['mushrooms', 'french fries', 'extracheese']\n",
    "for requested_topping in requested_toppings:\n",
    "    if requested_topping in available_toppings:\n",
    "        print(f\"Adding {requested_topping}.\")\n",
    "    else:\n",
    "        print(f\"Sorry, we don't have {requested_topping}.\")\n",
    "print(\"\\nFinished making your pizza!\")\n"
   ]
  },
  {
   "cell_type": "code",
   "execution_count": 127,
   "metadata": {},
   "outputs": [
    {
     "name": "stdout",
     "output_type": "stream",
     "text": [
      "Sent opt on registered number\n",
      "Welcome to Python World\n"
     ]
    }
   ],
   "source": [
    "user_name : str = input(\"Enter user id: \\t\")\n",
    "user_password : str = input(\"Enter password:\\t\")\n",
    "\n",
    "if user_name == 'admin' and user_password == \"admin\":\n",
    "    print(\"Sent opt on registered number\")\n",
    "    otp : str = input(\"Please enter otp\")\n",
    "    if otp == \"123\":\n",
    "        print(\"Welcome to Python World\")\n",
    "else:\n",
    "    print(\"Invalid user name or password\")\n"
   ]
  },
  {
   "cell_type": "code",
   "execution_count": 114,
   "metadata": {},
   "outputs": [],
   "source": [
    "Year : str = input(\"Enter your number\")\n",
    "\n",
    "Language: str =  input(\"What is your coding language:\")\n",
    "\n",
    "if Year == \"2003\" and Language == \"Python\":\n",
    "    print(\"Your an Expert in python code\")\n",
    "    if Language == \"J\":\n",
    "        print(\"Focus on Python\")\n",
    "    else:\n",
    "        print(\"Start learning python\")        \n",
    "\n",
    "\n",
    "\n",
    "\n"
   ]
  },
  {
   "cell_type": "code",
   "execution_count": 133,
   "metadata": {},
   "outputs": [
    {
     "name": "stdout",
     "output_type": "stream",
     "text": [
      "You're an Expert in Python code\n"
     ]
    }
   ],
   "source": [
    "Year = input(\"Enter your number\")\n",
    "Language = str(input(\"What is your coding language:\"))\n",
    "\n",
    "if Year == \"2003\" and Language == \"Python\":\n",
    "    print(\"You're an Expert in Python code\")\n",
    "    python : str = input(\"Enter python\")\n",
    "    if Language == \"p\":\n",
    "        print(\"Focus on Python\")\n",
    "else:\n",
    "     print(\"Start learning Python\")\n"
   ]
  },
  {
   "cell_type": "code",
   "execution_count": 135,
   "metadata": {},
   "outputs": [
    {
     "name": "stdout",
     "output_type": "stream",
     "text": [
      "You're an Expert in Python code\n",
      "Start learning Python\n"
     ]
    }
   ],
   "source": [
    "Year = input(\"Enter your number\")\n",
    "Language = input(\"What is your coding language:\")\n",
    "\n",
    "if Year == \"2003\" and Language == \"Python\":\n",
    "    print(\"You're an Expert in Python code\")\n",
    "    if Language == \"Javascript\":\n",
    "        print(\"Focus on Python\")\n",
    "    else:\n",
    "        print(\"Start learning Python\")\n"
   ]
  },
  {
   "cell_type": "code",
   "execution_count": 139,
   "metadata": {},
   "outputs": [
    {
     "name": "stdout",
     "output_type": "stream",
     "text": [
      "You're an Begineer in Python code\n",
      "Focus on Python\n"
     ]
    }
   ],
   "source": [
    "Year : list[str] = (input(\"Enter your number\"))\n",
    "Language : list[str] = str(input(\"What is your coding language:\"))\n",
    "\n",
    "if Year == \"2023\" and Language == \"Python\":\n",
    "    print(\"You're an Begineer in Python code\")\n",
    "    python : str = str(input(\"Enter langauge\"))\n",
    "    if python == \"P\":\n",
    "        print(\"Focus on Python\")\n",
    "else:\n",
    "   print(\"Start learning Python\")\n"
   ]
  },
  {
   "cell_type": "markdown",
   "metadata": {},
   "source": [
    "## Question and Answers"
   ]
  },
  {
   "cell_type": "markdown",
   "metadata": {},
   "source": [
    "## 1.  Conditional Tests:\n",
    "* Write a series of conditional tests. Print a statement describing each test and your prediction for the results of each test\n",
    "* Look closely at your results, and make sure you understand why each line evaluates to True or False.\n",
    "* Create at least 10 tests. Have at least 5 tests evaluate to True and another 5 tests evaluate to False.\n",
    "\n",
    "* You don’t have to limit the number of tests you create to 10. If you want to try more comparisons, write more tests and add them to conditional_tests.py. \n",
    "* Have at least one True and one False result for each of the following:\n",
    "* Tests for equality and inequality with strings\n",
    "* Tests using the lower() method\n",
    "* Numerical tests involving equality and inequality, greater than and less than, greater than or equal to, and less than or equal to\n",
    "* Tests using the and keyword and the or keyword\n",
    "* Test whether an item is in a list\n",
    "* Test whether an item is not in a list  "
   ]
  },
  {
   "cell_type": "code",
   "execution_count": 13,
   "metadata": {},
   "outputs": [
    {
     "name": "stdout",
     "output_type": "stream",
     "text": [
      "Is car == 'subaru'? I predict True.\n",
      "True\n",
      "\n",
      "Is car == 'audi'? I predict False.\n",
      "False\n",
      "\n",
      "Is car == 'mazda'? I predict True.\n",
      "True\n",
      "\n",
      "Is car == 'mazda'? I predict False.\n",
      "False\n",
      "\n",
      "Is car == 'sudan'? I prdeict true\n",
      "True\n",
      "\n",
      "Is car == 'nissan'? I prdeict False\n",
      "False\n",
      "\n",
      "Is car == 'Bmw'? I prdeict true\n",
      "True\n",
      "\n",
      "Is car == 'corolla'? I prdeict False\n",
      "False\n",
      "\n",
      "Is car == 'Land Crusier'? I prdeict true\n",
      "True\n",
      "\n",
      "Is car == 'corolla'? I prdeict False\n",
      "False\n"
     ]
    }
   ],
   "source": [
    "car = 'subaru'\n",
    "print(\"Is car == 'subaru'? I predict True.\")\n",
    "print(car == 'subaru')\n",
    "print(\"\\nIs car == 'audi'? I predict False.\")\n",
    "print(car == 'audi')\n",
    "\n",
    "car = 'mazda'\n",
    "print(\"\\nIs car == 'mazda'? I predict True.\")\n",
    "print(car == 'mazda')\n",
    "print(\"\\nIs car == 'mazda'? I predict False.\")\n",
    "print(car == 'audi')\n",
    "\n",
    "car : str = \"sudan\"\n",
    "print(\"\\nIs car == 'sudan'? I prdeict true\" )\n",
    "print(car == \"sudan\")\n",
    "\n",
    "print(\"\\nIs car == 'nissan'? I prdeict False\" )\n",
    "print(car == \"nissan\")\n",
    "\n",
    "\n",
    "car : str = \"Bmw\"\n",
    "print(\"\\nIs car == 'Bmw'? I prdeict true\" )\n",
    "print(car == \"Bmw\")\n",
    "\n",
    "print(\"\\nIs car == 'corolla'? I prdeict False\" )\n",
    "print(car == \"corolla\")\n",
    "\n",
    "car : str = \"Land Crusier\"\n",
    "print(\"\\nIs car == 'Land Crusier'? I prdeict true\" )\n",
    "print(car == \"Land Crusier\")\n",
    "\n",
    "print(\"\\nIs car == 'corolla'? I prdeict False\" )\n",
    "print(car == \"corolla\")"
   ]
  },
  {
   "cell_type": "code",
   "execution_count": 66,
   "metadata": {},
   "outputs": [
    {
     "name": "stdout",
     "output_type": "stream",
     "text": [
      "True\n",
      "False\n",
      "True\n",
      "False\n",
      "True\n",
      "False\n",
      "True\n",
      "False\n",
      "True\n",
      "False\n",
      "True\n",
      "False\n",
      "True\n",
      "False\n"
     ]
    }
   ],
   "source": [
    "\n",
    "name : str = \"Mawaz\"\n",
    "name2 : str = \"mawaz\"\n",
    "name3 : str = \"Ahsan\"\n",
    "name4 : str = \"Mawaz\"\n",
    "\n",
    "\n",
    "# True: Case-sensitive equality test\n",
    "print(name == name4)\n",
    "\n",
    "# False: Case-sensitive inequality test\n",
    "print(name != name4)\n",
    "\n",
    "# True: Case-insensitive equality test using lower()\n",
    "print(name.lower() == name2.lower())\n",
    "\n",
    "# False: Case-insensitive inequality test using lower()\n",
    "print(name.lower() != name4.lower())\n",
    "\n",
    "\n",
    "\n",
    "\n",
    "# Numerical tests\n",
    "num1 = 10\n",
    "num2 = 20\n",
    "num3 = 10\n",
    "\n",
    "# True: Numerical equality test\n",
    "print(num1 == num3)\n",
    "\n",
    "# False: Numerical inequality test\n",
    "print(num1 != num3)\n",
    "\n",
    "# True: Greater than test\n",
    "print(num2 > num1)\n",
    "\n",
    "# False: Less than test\n",
    "print(num1 < num3)\n",
    "\n",
    "# True: Greater than or equal to test\n",
    "print(num2 >= num1)\n",
    "\n",
    "# False: Greator than or equal to test\n",
    "print(num1 >= num2)\n",
    "\n",
    "# Test whether an item is not in a list\n",
    "\n",
    "names : list[str] = [\"ahsan\",\"wasif\",\"adnan\",\"mawaz\"]\n",
    "\n",
    "# True: Item is in the list\n",
    "print('ahsan' in names)\n",
    "\n",
    "# False: Item is not in the list\n",
    "print('ahmed' in names)\n",
    "\n",
    "# True: Item is not in the list\n",
    "print('waqas' not in names)\n",
    "\n",
    "# False: Item is in the list\n",
    "print('ahmed' in names)"
   ]
  },
  {
   "cell_type": "markdown",
   "metadata": {},
   "source": [
    "## 2. Alien Colors :\n",
    "*  Choose a color for an alien as you did in above code, and write an if else chain.\n",
    "* If the alien’s color is green, print a statement that the player just earned 5 points for shooting the alien.\n",
    "* If the alien’s color isn’t green, print a statement that the player just earned 10 points.\n",
    "* Write one version of this program that runs the if block and another that runs the else block.\n",
    "* Turn your if-else chain from above code into an if-elif-else chain.\n",
    "* If the alien is green, print a message that the player earned 5 points.\n",
    "* If the alien is yellow, print a message that the player earned 10 points.\n",
    "* If the alien is red, print a message that the player earned 15 points.\n",
    "* Write three versions of this program, making sure each message is printed for the appropriate color alien."
   ]
  },
  {
   "cell_type": "code",
   "execution_count": 74,
   "metadata": {},
   "outputs": [
    {
     "name": "stdout",
     "output_type": "stream",
     "text": [
      "Congratulations! You just earned 5 points for shooting down a green alien.\n",
      "Congratulations! You just earned 10 points for shooting down a red alien\n",
      "Congratulations! You just earned 10 points for shooting down a yellow alien\n"
     ]
    }
   ],
   "source": [
    "# Alien Color (Passing Version)\n",
    "alien_color_pass : list[str] = ['green','red','yellow']\n",
    "for alien_color_passs in alien_color_pass:\n",
    "         if alien_color_passs == 'green':\n",
    "                print(f\"Congratulations! You just earned 5 points for shooting down a {alien_color_passs} alien.\")\n",
    "\n",
    "\n",
    "         else:\n",
    "           print(f\"Congratulations! You just earned 10 points for shooting down a {alien_color_passs} alien\")    \n"
   ]
  },
  {
   "cell_type": "code",
   "execution_count": 130,
   "metadata": {},
   "outputs": [
    {
     "name": "stdout",
     "output_type": "stream",
     "text": [
      "Congratulations! You just earned 5 points for shooting down a green alien.\n",
      "Congratulations! You just earned 10 points for shooting down a red alien\n",
      "Congratulations! You just earned 15 points for shooting down a yellow alien\n"
     ]
    }
   ],
   "source": [
    "\n",
    "# Alien Color (Passing Version)\n",
    "alien_color_pass : list[str] = ['green','red','yellow']\n",
    "\n",
    "for alien_color_passs in alien_color_pass:\n",
    "   if alien_color_passs == 'green':\n",
    "         print(\"Congratulations! You just earned 5 points for shooting down a green alien.\")\n",
    "\n",
    "   elif alien_color_passs == 'red':\n",
    "         print(\"Congratulations! You just earned 10 points for shooting down a red alien\")\n",
    "\n",
    "   else:\n",
    "         print(\"Congratulations! You just earned 15 points for shooting down a yellow alien\")\n",
    "\n",
    "\n"
   ]
  },
  {
   "cell_type": "markdown",
   "metadata": {},
   "source": [
    "## 3. Stages of Life:\n",
    "* Write an if-elif-else chain that determines a person’s stage of life. Set a value for the variable age, and then:\n",
    "* If the person is less than 2 years old, print a message that the person is a baby.\n",
    "* If the person is at least 2 years old but less than 4, print a message that the person is a toddler.\n",
    "* If the person is at least 4 years old but less than 13, print a message that the person is a kid.\n",
    "* If the person is at least 13 years old but less than 20, print a message that the person is a teenager.\n",
    "* If the person is at least 20 years old but less than 65, print a message that the person is an adult.\n",
    "* If the person is age 65 or older, print a message that the person is an elder.\n",
    "* Favorite Fruit: Make a list of your favorite fruits, and then write a series of independent if statements that check for certain fruits in your list.\n",
    "* Make a list of your three favorite fruits and call it favorite_fruits.\n",
    "* Write five if statements. Each should check whether a certain kind of fruit is in your list. If the\n",
    "* fruit is in your list, the if block should print a statement, such as You really like bananas!\n"
   ]
  },
  {
   "cell_type": "code",
   "execution_count": 88,
   "metadata": {},
   "outputs": [
    {
     "name": "stdout",
     "output_type": "stream",
     "text": [
      "The person is an adult.\n",
      "You really like Apple!\n",
      "You really like Banana!\n",
      "You really like Watermelon!\n"
     ]
    }
   ],
   "source": [
    "# Stages of Life\n",
    "age = 25\n",
    "\n",
    "if age < 2:\n",
    "    print(\"The person is a baby.\")\n",
    "elif age < 4:\n",
    "    print(\"The person is a toddler. \")\n",
    "elif age < 13:\n",
    "    print(\"The person is a kid.\")\n",
    "elif age < 20:\n",
    "    print(\"The person ia teenager.\")\n",
    "elif age < 65:\n",
    "    print(\"The person is an adult.\")            \n",
    "else:\n",
    "    (\"The person is elder found.\")\n",
    "\n",
    "# Favorite Fruits\n",
    "favourite_fruits : list[str] = [\"Apple\",\"Banana\",\"Watermelon\"]\n",
    "for fruit in favourite_fruits:\n",
    "    if fruit == 'Apple':\n",
    "        print(\"You really like Apple!\") \n",
    "    elif fruit == \"Banana\":\n",
    "        print(\"You really like Banana!\")\n",
    "    else:\n",
    "        print(\"You really like Watermelon!\")    \n"
   ]
  },
  {
   "cell_type": "markdown",
   "metadata": {},
   "source": [
    "# 4. Hello Admin: \n",
    "* Make a list of five or more usernames, including the name 'admin'.\n",
    "* Imagine you are writing code that will print a greeting to each user after they log in to a website. \n",
    "* Loop through the list, and print a greeting to each user.\n",
    "* If the username is 'admin', print a special greeting, such as Hello admin, would you like to see a status report?\n",
    "* Otherwise, print a generic greeting, such as Hello Jaden, thank you for logging in again."
   ]
  },
  {
   "cell_type": "code",
   "execution_count": 94,
   "metadata": {},
   "outputs": [
    {
     "name": "stdout",
     "output_type": "stream",
     "text": [
      "Hello Ahsan, thankyou for logging in again.\n",
      "Hello Mawaz, thankyou for logging in again.\n",
      "Hello Raheem, thankyou for logging in again.\n",
      "Hello Admin,would you like to see a status report?\n"
     ]
    }
   ],
   "source": [
    "# list of usernames\n",
    "user_names : list[str] = [\"Ahsan\",\"Mawaz\",\"Raheem\",\"Admin\"] #you can add usernames here\n",
    "\n",
    "# Loop through the list and print greetings\n",
    "for user in user_names:\n",
    "    if user == \"Ahsan\":\n",
    "        print(f\"Hello {user}, thankyou for logging in again.\")\n",
    "    elif user == \"Mawaz\":\n",
    "        print(f\"Hello {user}, thankyou for logging in again.\")\n",
    "    elif user == \"Admin\":\n",
    "        print(f\"Hello {user},would you like to see a status report?\")  \n",
    "    else:\n",
    "        print(f\"Hello {user}, thankyou for logging in again.\")            "
   ]
  },
  {
   "cell_type": "markdown",
   "metadata": {},
   "source": [
    "# 5. No Users: \n",
    "* Add an if test to hello_admin.py to make sure the list of users is not empty.\n",
    "* If the list is empty, print the message We need to find some users!\n",
    "* Remove all of the usernames from your list, and make sure the correct message is printed."
   ]
  },
  {
   "cell_type": "code",
   "execution_count": 98,
   "metadata": {},
   "outputs": [
    {
     "name": "stdout",
     "output_type": "stream",
     "text": [
      "We need to find some users!\n"
     ]
    }
   ],
   "source": [
    "# list of usernames\n",
    "user_names : list[str] = [] # You can add usernames here\n",
    "\n",
    "# Check if the list is not empty\n",
    "if user_names:\n",
    "     # Loop through the list and print greetings\n",
    "    for user in user_names:\n",
    "        if user == \"Ahsan\":\n",
    "            print(f\"Hello {user}, thankyou for logging in again.\")\n",
    "        elif user == \"Mawaz\":\n",
    "            print(f\"Hello {user}, thankyou for logging in again.\")\n",
    "        elif user == \"Admin\":\n",
    "            print(f\"Hello {user},would you like to see a status report?\")  \n",
    "        elif user == \"Admin\":\n",
    "            print(f\"Hello {user}, thankyou for logging in again.\") \n",
    "else:\n",
    "    print(\"We need to find some users!\")                       "
   ]
  },
  {
   "cell_type": "markdown",
   "metadata": {},
   "source": [
    "# 6 Checking Usernames:\n",
    "* Do the following to create a program that simulates how websites ensure that everyone has a unique username.\n",
    "* Make a list of five or more usernames called current_users.\n",
    "* Make another list of five usernames called new_users. Make sure one or two of the new usernames are also in the current_users list.\n",
    "* Loop through the new_users list to see if each new username has already been used. If it has,\n",
    "* print a message that the person will need to enter a new username. If a username has not been used, print a message saying that the username is available.\n",
    "* Make sure your comparison is case insensitive. If 'John' has been used, 'JOHN' should not be accepted. (To do this, you’ll need to make a copy of current_users containing the lowercase versions of all existing users.)"
   ]
  },
  {
   "cell_type": "code",
   "execution_count": 213,
   "metadata": {},
   "outputs": [
    {
     "name": "stdout",
     "output_type": "stream",
     "text": [
      "The username 'Mawaz' is available.\n",
      "Sorry, the username 'waqas' is already taken. Please enter a new username.\n",
      "The username 'Ahmed' is available.\n",
      "Sorry, the username 'Ahsan' is already taken. Please enter a new username.\n",
      "Sorry, the username 'Raheem' is already taken. Please enter a new username.\n"
     ]
    }
   ],
   "source": [
    "# List of current users\n",
    "current_users =  [\"Ahsan\",\"WAQas\",\"Daniyal\",\"Raheem\",\"Adnan\"]\n",
    "\n",
    "# List of new users\n",
    "new_users = [\"Mawaz\",\"waqas\",\"Ahmed\",\"Ahsan\",\"Raheem\"]\n",
    "\n",
    "# Create a copy of current_users with lowercase usernames\n",
    "lowercase_current_users = [user.lower() for user in current_users]\n",
    "\n",
    "# Loop through new_users to check for uniqueness\n",
    "for new_user in new_users:\n",
    "    # Check if the lowercase version of the new username is in lowercase_current_users\n",
    "    if new_user.lower() in lowercase_current_users:\n",
    "        print(f\"Sorry, the username '{new_user}' is already taken. Please enter a new username.\")\n",
    "    else:\n",
    "        print(f\"The username '{new_user}' is available.\")\n",
    "\n",
    "# Note: The comparison is case-insensitive due to the use of lowercase versions.\n"
   ]
  },
  {
   "cell_type": "markdown",
   "metadata": {},
   "source": [
    "# 7.Ordinal Numbers:\n",
    "* Ordinal numbers indicate their position in a list, such as 1st or 2nd.\n",
    "* Most ordinal numbers end in th, except 1, 2, and 3.\n",
    "* Store the numbers 1 through 9 in a list.\n",
    "* Loop through the list.\n",
    "Use an if-elif-else chain inside the loop to print the proper ordinal ending for each number.\n",
    "Your output should read \"1st 2nd 3rd 4th 5th 6th 7th 8th 9th\", and each result should be\n",
    "on a separate line"
   ]
  },
  {
   "cell_type": "code",
   "execution_count": 132,
   "metadata": {},
   "outputs": [
    {
     "name": "stdout",
     "output_type": "stream",
     "text": [
      "1st\n",
      "2nd\n",
      "3rd\n",
      "4th\n",
      "5th\n",
      "6th\n",
      "7th\n",
      "8th\n",
      "9th\n"
     ]
    }
   ],
   "source": [
    "numbers : list[int] = [1,2,3,4,5,6,7,8,9]\n",
    "\n",
    "for n in numbers:\n",
    "    if n == 1:\n",
    "        print(\"1st\")\n",
    "    elif n == 2:\n",
    "        print(\"2nd\")\n",
    "    elif n == 3:\n",
    "        print(\"3rd\")\n",
    "    elif n == 4:\n",
    "        print(\"4th\")\n",
    "    elif n== 5:\n",
    "        print(\"5th\")\n",
    "    elif n== 6:\n",
    "        print(\"6th\")\n",
    "    elif n== 7:\n",
    "        print(\"7th\")   \n",
    "    elif n== 8:\n",
    "        print(\"8th\")   \n",
    "    else:\n",
    "        print(\"9th\")                                    \n"
   ]
  },
  {
   "cell_type": "markdown",
   "metadata": {},
   "source": [
    "# 8.Your Ideas: \n",
    "* At this point, you’re a more capable programmer than you were when you started this book. \n",
    "* Now that you have a better sense of how real-world situations are modeled in programs, you might be thinking of some problems you could solve with your own programs.\n",
    "* Record any new ideas you have about problems you might want to solve as your programming  skills continue to improve. Consider games you might want to write, datasets you might want to explore, and web applications you’d like to create."
   ]
  },
  {
   "cell_type": "code",
   "execution_count": 169,
   "metadata": {},
   "outputs": [
    {
     "name": "stdout",
     "output_type": "stream",
     "text": [
      "The Titanic is famous for its symbol: SHIP\n",
      "The King Kong is famous for its symbol: MONKEY\n",
      "The Marvels is famous for its symbol: SUPERMAN\n",
      "This movie, Harry Potter, has no symbol.\n"
     ]
    }
   ],
   "source": [
    "Movies: list[str] = [\"Titanic\", \"King Kong\", \"Marvels\", \"Harry Potter\"]\n",
    "symbols: dict[str, str] = {\"Titanic\": \"SHIP\", \"King Kong\": \"MONKEY\", \"Marvels\": \"SUPERMAN\"}\n",
    "\n",
    "for movie in Movies:\n",
    "    # Check if the movie is in the dictionary of symbols\n",
    "    if movie in symbols:\n",
    "        # Access the symbol for the movie from the dictionary\n",
    "        symbol = symbols[movie]\n",
    "        print(f\"The {movie} is famous for its symbol: {symbol}\")\n",
    "    else:\n",
    "        print(f\"This movie, {movie}, has no symbol.\")\n"
   ]
  },
  {
   "cell_type": "code",
   "execution_count": null,
   "metadata": {},
   "outputs": [],
   "source": []
  }
 ],
 "metadata": {
  "kernelspec": {
   "display_name": "python13",
   "language": "python",
   "name": "python3"
  },
  "language_info": {
   "codemirror_mode": {
    "name": "ipython",
    "version": 3
   },
   "file_extension": ".py",
   "mimetype": "text/x-python",
   "name": "python",
   "nbconvert_exporter": "python",
   "pygments_lexer": "ipython3",
   "version": "3.12.0"
  }
 },
 "nbformat": 4,
 "nbformat_minor": 2
}
