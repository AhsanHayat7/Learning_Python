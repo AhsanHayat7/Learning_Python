{
 "cells": [
  {
   "cell_type": "code",
   "execution_count": 2,
   "metadata": {},
   "outputs": [
    {
     "name": "stdout",
     "output_type": "stream",
     "text": [
      "Ahsan Hayat\n"
     ]
    }
   ],
   "source": [
    "name: str = \"Ahsan Hayat\"\n",
    "print(name)\n"
   ]
  },
  {
   "cell_type": "markdown",
   "metadata": {},
   "source": [
    "# String Data types in Python"
   ]
  },
  {
   "cell_type": "code",
   "execution_count": 3,
   "metadata": {},
   "outputs": [
    {
     "name": "stdout",
     "output_type": "stream",
     "text": [
      "<class 'str'>\n",
      "Ahsan Hayat\n"
     ]
    }
   ],
   "source": [
    "# boundries\n",
    "# 'string text',\"string text\",'''string text''',\"\"\"string text\"\"\"\n",
    "# string text ,type script\n",
    "name: str = \"Ahsan Hayat\"\n",
    "print(type(name))\n",
    "print(name)"
   ]
  },
  {
   "cell_type": "code",
   "execution_count": 8,
   "metadata": {},
   "outputs": [
    {
     "name": "stdout",
     "output_type": "stream",
     "text": [
      "Python student card\n",
      "Id card python \n"
     ]
    }
   ],
   "source": [
    "message : str =  \"Python student card\\nId card python \"\n",
    "print(message)"
   ]
  },
  {
   "cell_type": "code",
   "execution_count": 9,
   "metadata": {},
   "outputs": [
    {
     "name": "stdout",
     "output_type": "stream",
     "text": [
      "Python 'student' card\n",
      "Id card python \n"
     ]
    }
   ],
   "source": [
    "message : str =  \"Python 'student' card\\nId card python \"\n",
    "print(message)"
   ]
  },
  {
   "cell_type": "code",
   "execution_count": 13,
   "metadata": {},
   "outputs": [
    {
     "name": "stdout",
     "output_type": "stream",
     "text": [
      "Python student card\n",
      " Father's name\n"
     ]
    }
   ],
   "source": [
    "# convert any special character into simple character, place \\ before character\n",
    "message : str =  'Python student card\\n Father\\'s name'\n",
    "print(message)"
   ]
  },
  {
   "cell_type": "code",
   "execution_count": 14,
   "metadata": {},
   "outputs": [
    {
     "data": {
      "text/plain": [
       "'abc'"
      ]
     },
     "execution_count": 14,
     "metadata": {},
     "output_type": "execute_result"
    }
   ],
   "source": [
    "\"a\" + \"b\" + \"c\""
   ]
  },
  {
   "cell_type": "markdown",
   "metadata": {},
   "source": [
    "# Concatenate String by using + sign "
   ]
  },
  {
   "cell_type": "code",
   "execution_count": 70,
   "metadata": {},
   "outputs": [
    {
     "name": "stdout",
     "output_type": "stream",
     "text": [
      "Python developer card:\n",
      "Student name:Ahsan Hayat\n",
      "father name: Hayat Mohammad\n",
      "Age: 25\n"
     ]
    }
   ],
   "source": [
    "name : str = \"Ahsan Hayat\"\n",
    "father_name : str = \"Hayat Mohammad\"\n",
    "education : str = \"Bs in Financial Mathematics\"\n",
    "age : int = 25\n",
    "\n",
    "card : str = \"Python developer card:\\nStudent name:\" + name +\"\\nfather name: \" + father_name + \"\\nAge: \" + str(age)\n",
    "print(card)"
   ]
  },
  {
   "cell_type": "code",
   "execution_count": 19,
   "metadata": {},
   "outputs": [
    {
     "name": "stdout",
     "output_type": "stream",
     "text": [
      "17\n"
     ]
    }
   ],
   "source": [
    "print(7+8+2)"
   ]
  },
  {
   "cell_type": "markdown",
   "metadata": {},
   "source": [
    "#  \"\\\" Line continue "
   ]
  },
  {
   "cell_type": "code",
   "execution_count": 21,
   "metadata": {},
   "outputs": [
    {
     "name": "stdout",
     "output_type": "stream",
     "text": [
      "17\n"
     ]
    }
   ],
   "source": [
    "print(7+\\\n",
    "      8+\\\n",
    "      2)"
   ]
  },
  {
   "cell_type": "code",
   "execution_count": 39,
   "metadata": {},
   "outputs": [
    {
     "name": "stdout",
     "output_type": "stream",
     "text": [
      "Python developer card\n",
      "Student name: Ahsan Hayat\n",
      "Age:25\n",
      "education: Bs in Financial Mathematics\n"
     ]
    }
   ],
   "source": [
    "# boundries\n",
    "# 'string text',\"string text\",'''string text''',\"\"\"string text\"\"\"\n",
    "# string text ,type script\n",
    "name : str = \"Ahsan Hayat\"\n",
    "father_name : str = \"Hayat Mohammad\"\n",
    "education : str = \"Bs in Financial Mathematics\"\n",
    "age : int = 25\n",
    "\n",
    "card : str = \"Python developer card\\nStudent name: \" + name + \\\n",
    "\"\\nAge:\" + str(age) + \"\\n\" + \\\n",
    "\"education: \" + education\n",
    "print(card)"
   ]
  },
  {
   "cell_type": "markdown",
   "metadata": {},
   "source": [
    "# Define Multiline string \"\"\" \"\"\" ''' '''"
   ]
  },
  {
   "cell_type": "code",
   "execution_count": 30,
   "metadata": {},
   "outputs": [
    {
     "name": "stdout",
     "output_type": "stream",
     "text": [
      " \n",
      "python developer\n",
      "father name:\n",
      "education:\n",
      "age:\n",
      "\n"
     ]
    }
   ],
   "source": [
    "name : str = \"Ahsan Hayat\"\n",
    "father_name : str = \"Hayat Mohammad\"\n",
    "education : str = \"Bs in Financial Mathematics\"\n",
    "age : int = 25\n",
    "\n",
    "card : str = \"\"\" \n",
    "python developer\n",
    "father name:\n",
    "education:\n",
    "age:\n",
    "\"\"\"\n",
    "print(card)"
   ]
  },
  {
   "cell_type": "markdown",
   "metadata": {},
   "source": [
    "# f-string"
   ]
  },
  {
   "cell_type": "code",
   "execution_count": 33,
   "metadata": {},
   "outputs": [
    {
     "name": "stdout",
     "output_type": "stream",
     "text": [
      " \n",
      "student name :Ahsan Hayat\n",
      "father name: Hayat Mohammad\n",
      "education:   Bs in Financial Mathematics\n",
      "age: 25\n",
      "Total : 28\n",
      "\n"
     ]
    }
   ],
   "source": [
    "name : str = \"Ahsan Hayat\"\n",
    "father_name : str = \"Hayat Mohammad\"\n",
    "education : str = \"Bs in Financial Mathematics\"\n",
    "age : int = 25\n",
    "\n",
    "card : str = f\"\"\" \n",
    "student name :{name}\n",
    "father name: {father_name}\n",
    "education:   {education}\n",
    "age: {age}\n",
    "Total : {9+7+5+7}\n",
    "\"\"\"\n",
    "print(card)"
   ]
  },
  {
   "cell_type": "markdown",
   "metadata": {},
   "source": [
    "# f-string and jinga style"
   ]
  },
  {
   "cell_type": "code",
   "execution_count": 34,
   "metadata": {},
   "outputs": [
    {
     "data": {
      "text/plain": [
       "'\\nData Scientist Ahsan Hayat\\n'"
      ]
     },
     "execution_count": 34,
     "metadata": {},
     "output_type": "execute_result"
    }
   ],
   "source": [
    "f\"\"\"\n",
    "Data Scientist {name}\n",
    "\"\"\""
   ]
  },
  {
   "cell_type": "code",
   "execution_count": null,
   "metadata": {},
   "outputs": [],
   "source": [
    "# jinga style\n",
    "\"\"\"\n",
    "Data Scientist {{name}}\n",
    "\"\"\" "
   ]
  },
  {
   "cell_type": "code",
   "execution_count": 36,
   "metadata": {},
   "outputs": [
    {
     "name": "stdout",
     "output_type": "stream",
     "text": [
      " \n",
      "University Card:\n",
      "student name : Ahsan Hayat\n",
      "father name: Hayat Mohammad\n",
      "education: Bs in Financial Mathematics  \n",
      "age: 25\n",
      "\n"
     ]
    }
   ],
   "source": [
    "name : str = \"Ahsan Hayat\"\n",
    "father_name : str = \"Hayat Mohammad\"\n",
    "education : str = \"Bs in Financial Mathematics\"\n",
    "age : int = 25\n",
    "\n",
    "card : str = f\"\"\" \n",
    "University Card:\n",
    "student name : %s\n",
    "father name: %s\n",
    "education: %s  \n",
    "age: %d\n",
    "\"\"\" % (name,father_name,education,age)\n",
    "print(card)"
   ]
  },
  {
   "cell_type": "code",
   "execution_count": 42,
   "metadata": {},
   "outputs": [
    {
     "data": {
      "text/plain": [
       "['capitalize',\n",
       " 'casefold',\n",
       " 'center',\n",
       " 'count',\n",
       " 'encode',\n",
       " 'endswith',\n",
       " 'expandtabs',\n",
       " 'find',\n",
       " 'format',\n",
       " 'format_map',\n",
       " 'index',\n",
       " 'isalnum',\n",
       " 'isalpha',\n",
       " 'isascii',\n",
       " 'isdecimal',\n",
       " 'isdigit',\n",
       " 'isidentifier',\n",
       " 'islower',\n",
       " 'isnumeric',\n",
       " 'isprintable',\n",
       " 'isspace',\n",
       " 'istitle',\n",
       " 'isupper',\n",
       " 'join',\n",
       " 'ljust',\n",
       " 'lower',\n",
       " 'lstrip',\n",
       " 'maketrans',\n",
       " 'partition',\n",
       " 'removeprefix',\n",
       " 'removesuffix',\n",
       " 'replace',\n",
       " 'rfind',\n",
       " 'rindex',\n",
       " 'rjust',\n",
       " 'rpartition',\n",
       " 'rsplit',\n",
       " 'rstrip',\n",
       " 'split',\n",
       " 'splitlines',\n",
       " 'startswith',\n",
       " 'strip',\n",
       " 'swapcase',\n",
       " 'title',\n",
       " 'translate',\n",
       " 'upper',\n",
       " 'zfill']"
      ]
     },
     "execution_count": 42,
     "metadata": {},
     "output_type": "execute_result"
    }
   ],
   "source": [
    "[i for i in dir(name) if\"__\" not in i]"
   ]
  },
  {
   "cell_type": "markdown",
   "metadata": {},
   "source": [
    "###  Make the first word in the sentence capital\n",
    "###   Make the whole sentence in small letter\n"
   ]
  },
  {
   "cell_type": "code",
   "execution_count": 44,
   "metadata": {},
   "outputs": [
    {
     "name": "stdout",
     "output_type": "stream",
     "text": [
      "Ahsan hayat\n",
      "ahsan hayat\n"
     ]
    }
   ],
   "source": [
    "name : str = \"AHsaN hAYat\"\n",
    "print(name.capitalize())\n",
    "print(name.lower())"
   ]
  },
  {
   "cell_type": "code",
   "execution_count": 51,
   "metadata": {},
   "outputs": [
    {
     "data": {
      "text/plain": [
       "'The value of Pakistan a = 2 and b = 9'"
      ]
     },
     "execution_count": 51,
     "metadata": {},
     "output_type": "execute_result"
    }
   ],
   "source": [
    "a = 2\n",
    "b = 9\n",
    "# place holder\n",
    "\"The value of Pakistan a = {} and b = {}\".format(a,b)"
   ]
  },
  {
   "cell_type": "markdown",
   "metadata": {},
   "source": [
    "### We are initailizing the string on the basis of index"
   ]
  },
  {
   "cell_type": "code",
   "execution_count": 67,
   "metadata": {},
   "outputs": [
    {
     "name": "stdout",
     "output_type": "stream",
     "text": [
      " \n",
      "University card:\n",
      "student name: Hayat Mohammad\n",
      "father name: Ahsan Hayat\n",
      "education: 25\n",
      "age: Bs in Financial Mathematics\n",
      "\n"
     ]
    }
   ],
   "source": [
    "name : str = \"Ahsan Hayat\"\n",
    "father_name : str = \"Hayat Mohammad\"\n",
    "education : str = \"Bs in Financial Mathematics\"\n",
    "age : int = 25\n",
    "\n",
    "card : str = \"\"\" \n",
    "University card:\n",
    "student name: {}\n",
    "father name: {}\n",
    "education: {}\n",
    "age: {}\n",
    "\"\"\".format(father_name,name,age,education)\n",
    "        #   0      1     2   3    4  \n",
    "\n",
    "print(card)\n"
   ]
  },
  {
   "cell_type": "markdown",
   "metadata": {},
   "source": [
    "### Match the right string with the correct indexing"
   ]
  },
  {
   "cell_type": "code",
   "execution_count": 66,
   "metadata": {},
   "outputs": [
    {
     "name": "stdout",
     "output_type": "stream",
     "text": [
      " \n",
      "University card:\n",
      "student name: Ahsan Hayat\n",
      "father name: Hayat Mohammad\n",
      "education: Bs in Financial Mathematics\n",
      "age: 25\n",
      "\n"
     ]
    }
   ],
   "source": [
    "name : str = \"Ahsan Hayat\"\n",
    "father_name : str = \"Hayat Mohammad\"\n",
    "education : str = \"Bs in Financial Mathematics\"\n",
    "age : int = 25\n",
    "\n",
    "card : str = \"\"\" \n",
    "University card:\n",
    "student name: {1}\n",
    "father name: {0}\n",
    "education: {3}\n",
    "age: {2}\n",
    "\"\"\".format(father_name,name,age,education)\n",
    "\n",
    "print(card)\n"
   ]
  },
  {
   "cell_type": "markdown",
   "metadata": {},
   "source": [
    "### We can also initailize string  with alphabatic words by using .format()"
   ]
  },
  {
   "cell_type": "code",
   "execution_count": 65,
   "metadata": {},
   "outputs": [
    {
     "name": "stdout",
     "output_type": "stream",
     "text": [
      " \n",
      "University card:\n",
      "student name: Ahsan Hayat\n",
      "father name: Hayat Mohammad\n",
      "education: Bs in Financial Mathematics\n",
      "age: 25\n",
      "\n"
     ]
    }
   ],
   "source": [
    "name : str = \"Ahsan Hayat\"\n",
    "father_name : str = \"Hayat Mohammad\"\n",
    "education : str = \"Bs in Financial Mathematics\"\n",
    "age : int = 25\n",
    "\n",
    "card : str = \"\"\" \n",
    "University card:\n",
    "student name: {a}\n",
    "father name: {b}\n",
    "education: {c}\n",
    "age: {d}\n",
    "\"\"\".format(a = name,b = father_name, c = education, d = age)\n",
    "\n",
    "print(card)"
   ]
  },
  {
   "cell_type": "markdown",
   "metadata": {},
   "source": [
    "# Recommanded below two f-string"
   ]
  },
  {
   "cell_type": "code",
   "execution_count": 64,
   "metadata": {},
   "outputs": [
    {
     "name": "stdout",
     "output_type": "stream",
     "text": [
      " \n",
      "University Card:\n",
      "student name: Ahsan Hayat\n",
      "father name: Hayat Mohammad\n",
      "education: Bs in Financial Mathematics\n",
      "age: 25\n",
      "\n"
     ]
    }
   ],
   "source": [
    "name : str = \"Ahsan Hayat\"\n",
    "father_name : str = \"Hayat Mohammad\"\n",
    "education : str = \"Bs in Financial Mathematics\"\n",
    "age : int = 25\n",
    "\n",
    "card : str = f\"\"\" \n",
    "University Card:\n",
    "student name: {name}\n",
    "father name: {father_name}\n",
    "education: {education}\n",
    "age: {age}\n",
    "\"\"\"\n",
    "print(card)"
   ]
  },
  {
   "cell_type": "code",
   "execution_count": 70,
   "metadata": {},
   "outputs": [
    {
     "name": "stdout",
     "output_type": "stream",
     "text": [
      "My name is Ahsan Hayat\n",
      "12\n"
     ]
    }
   ],
   "source": [
    "student_code : str = f\"\"\"\n",
    "print(\"My name is Ahsan Hayat\")\n",
    "a:int = 5\n",
    "b:int = 7\n",
    "print(a+b)\n",
    "\"\"\"\n",
    "exec(student_code)"
   ]
  },
  {
   "cell_type": "markdown",
   "metadata": {},
   "source": [
    "# Explore String methods and attributes\n",
    "\n",
    "pre define global functions we have use\n",
    "\n",
    "* print\n",
    "* Type\n",
    "* dir\n",
    "* id\n",
    "* len"
   ]
  },
  {
   "cell_type": "code",
   "execution_count": 81,
   "metadata": {},
   "outputs": [
    {
     "name": "stdout",
     "output_type": "stream",
     "text": [
      "['capitalize', 'casefold', 'center', 'count', 'encode', 'endswith', 'expandtabs', 'find', 'format', 'format_map', 'index', 'isalnum', 'isalpha', 'isascii', 'isdecimal', 'isdigit', 'isidentifier', 'islower', 'isnumeric', 'isprintable', 'isspace', 'istitle', 'isupper', 'join', 'ljust', 'lower', 'lstrip', 'maketrans', 'partition', 'removeprefix', 'removesuffix', 'replace', 'rfind', 'rindex', 'rjust', 'rpartition', 'rsplit', 'rstrip', 'split', 'splitlines', 'startswith', 'strip', 'swapcase', 'title', 'translate', 'upper', 'zfill']\n",
      "47\n"
     ]
    }
   ],
   "source": [
    "a : list[str] = [i for i in dir(name) if\"__\" not in i]\n",
    "print (a)\n",
    "print(len(a))"
   ]
  },
  {
   "cell_type": "code",
   "execution_count": 74,
   "metadata": {},
   "outputs": [
    {
     "name": "stdout",
     "output_type": "stream",
     "text": [
      "Ahsan hayat\n"
     ]
    }
   ],
   "source": [
    "name : str = \"ahsan hayat\"\n",
    "\n",
    "# avaliable.method()\n",
    "print(name.capitalize())\n",
    "\n"
   ]
  },
  {
   "cell_type": "code",
   "execution_count": 75,
   "metadata": {},
   "outputs": [
    {
     "name": "stdout",
     "output_type": "stream",
     "text": [
      "ahsan hayat\n"
     ]
    }
   ],
   "source": [
    "name : str = \"AHSAN HAYAT\"\n",
    "\n",
    "# avaliable.method()\n",
    "print(name.casefold())"
   ]
  },
  {
   "cell_type": "code",
   "execution_count": 82,
   "metadata": {},
   "outputs": [
    {
     "name": "stdout",
     "output_type": "stream",
     "text": [
      " ahsan hayat\n"
     ]
    }
   ],
   "source": [
    "name : str = \" ahsan hayat\"\n",
    "\n",
    "# avaliable.method()\n",
    "print(name.lower())"
   ]
  },
  {
   "cell_type": "markdown",
   "metadata": {},
   "source": [
    "### Remove spaces from the left side"
   ]
  },
  {
   "cell_type": "code",
   "execution_count": 83,
   "metadata": {},
   "outputs": [
    {
     "name": "stdout",
     "output_type": "stream",
     "text": [
      "ahsan hayat     \n"
     ]
    }
   ],
   "source": [
    "name : str = \"     ahsan hayat     \"\n",
    "\n",
    "# avaliable.method()\n",
    "print(name.lstrip())"
   ]
  },
  {
   "cell_type": "markdown",
   "metadata": {},
   "source": [
    "### Remove spaces from right side"
   ]
  },
  {
   "cell_type": "code",
   "execution_count": 84,
   "metadata": {},
   "outputs": [
    {
     "name": "stdout",
     "output_type": "stream",
     "text": [
      "     ahsan hayat\n"
     ]
    }
   ],
   "source": [
    "\n",
    "print(name.rstrip())"
   ]
  },
  {
   "cell_type": "markdown",
   "metadata": {},
   "source": [
    "### Removes spaces both from right and left side"
   ]
  },
  {
   "cell_type": "code",
   "execution_count": 88,
   "metadata": {},
   "outputs": [
    {
     "name": "stdout",
     "output_type": "stream",
     "text": [
      "ahsan hayat\n"
     ]
    }
   ],
   "source": [
    "name : str = \"            ahsan hayat      \"\n",
    "\n",
    "# avaliable.method()\n",
    "print(name.strip())"
   ]
  },
  {
   "cell_type": "markdown",
   "metadata": {},
   "source": [
    "### We use regular expression to remove double spaces and so on with single sapce"
   ]
  },
  {
   "cell_type": "code",
   "execution_count": 103,
   "metadata": {},
   "outputs": [
    {
     "data": {
      "text/plain": [
       "'       ahsan    hayat     '"
      ]
     },
     "metadata": {},
     "output_type": "display_data"
    },
    {
     "data": {
      "text/plain": [
       "' ahsan hayat '"
      ]
     },
     "metadata": {},
     "output_type": "display_data"
    }
   ],
   "source": [
    "import re\n",
    "\n",
    "name : str = \"       ahsan    hayat     \"\n",
    "display(name)\n",
    "\n",
    "name1 : str = re.sub(' {2,100}',    ' '    ,   name)\n",
    "                    #pattern  #replacement   # variable\n",
    "display(name1)"
   ]
  },
  {
   "cell_type": "markdown",
   "metadata": {},
   "source": [
    "# we use .strip() to removes single in the code "
   ]
  },
  {
   "cell_type": "code",
   "execution_count": 102,
   "metadata": {},
   "outputs": [
    {
     "data": {
      "text/plain": [
       "'       ahsan    hayat     '"
      ]
     },
     "metadata": {},
     "output_type": "display_data"
    },
    {
     "data": {
      "text/plain": [
       "'ahsan hayat'"
      ]
     },
     "metadata": {},
     "output_type": "display_data"
    }
   ],
   "source": [
    "\n",
    "name : str = \"       ahsan    hayat     \"\n",
    "display(name)\n",
    "\n",
    "name1 : str = re.sub(' {2,100}',' ', name).strip()\n",
    "display(name1)"
   ]
  },
  {
   "cell_type": "code",
   "execution_count": 1,
   "metadata": {},
   "outputs": [],
   "source": [
    "# \\b : to remove back spaces in the output\n",
    "# \\t : to make  tab spaces in the output\n",
    "# \\n : to change line in the output "
   ]
  },
  {
   "cell_type": "code",
   "execution_count": 105,
   "metadata": {},
   "outputs": [
    {
     "name": "stdout",
     "output_type": "stream",
     "text": [
      "Pythonlove to code\n"
     ]
    }
   ],
   "source": [
    "print(\"Python:\\blove to code\")"
   ]
  },
  {
   "cell_type": "code",
   "execution_count": 106,
   "metadata": {},
   "outputs": [
    {
     "name": "stdout",
     "output_type": "stream",
     "text": [
      "Python: \tlove to \tcode\n"
     ]
    }
   ],
   "source": [
    "print(\"Python: \\tlove to \\tcode\")"
   ]
  },
  {
   "cell_type": "code",
   "execution_count": 107,
   "metadata": {},
   "outputs": [
    {
     "name": "stdout",
     "output_type": "stream",
     "text": [
      "Python:\n",
      "love \n",
      "to \n",
      "code\n"
     ]
    }
   ],
   "source": [
    "print(\"Python:\\nlove \\nto \\ncode\")"
   ]
  },
  {
   "cell_type": "markdown",
   "metadata": {},
   "source": [
    "### To remove preffix from the word of sentence"
   ]
  },
  {
   "cell_type": "code",
   "execution_count": 111,
   "metadata": {},
   "outputs": [
    {
     "data": {
      "text/plain": [
       "'//chat.openai.com/'"
      ]
     },
     "execution_count": 111,
     "metadata": {},
     "output_type": "execute_result"
    }
   ],
   "source": [
    "url : str = \"https://chat.openai.com/\"\n",
    "url.removeprefix('https:')"
   ]
  },
  {
   "cell_type": "code",
   "execution_count": 1,
   "metadata": {},
   "outputs": [
    {
     "name": "stdout",
     "output_type": "stream",
     "text": [
      "AHSAN HAYAT\n",
      "ahsan hayat\n"
     ]
    }
   ],
   "source": [
    "name = \"Ahsan Hayat\"\n",
    "print(name.upper())\n",
    "print(name.lower())"
   ]
  },
  {
   "cell_type": "markdown",
   "metadata": {},
   "source": [
    "### Make title words"
   ]
  },
  {
   "cell_type": "code",
   "execution_count": 4,
   "metadata": {},
   "outputs": [
    {
     "name": "stdout",
     "output_type": "stream",
     "text": [
      "ahsan hayat\n",
      "Hello, Ahsan Hayat!\n"
     ]
    }
   ],
   "source": [
    "first_name = \"ahsan\"\n",
    "last_name = \"hayat\"\n",
    "full_name = f\"{first_name} {last_name}\"\n",
    "print(full_name)\n",
    "print(f\"Hello, {full_name.title()}!\")\n"
   ]
  },
  {
   "cell_type": "markdown",
   "metadata": {},
   "source": [
    "### Set the words to the string by using .format()"
   ]
  },
  {
   "cell_type": "code",
   "execution_count": 6,
   "metadata": {},
   "outputs": [
    {
     "name": "stdout",
     "output_type": "stream",
     "text": [
      "ahsan hayat\n"
     ]
    }
   ],
   "source": [
    "first_name = \"ahsan\"\n",
    "last_name = \"hayat\"\n",
    "full_name = \"{} {}\".format(first_name, last_name)\n",
    "print(full_name)"
   ]
  },
  {
   "cell_type": "code",
   "execution_count": 62,
   "metadata": {},
   "outputs": [
    {
     "name": "stdout",
     "output_type": "stream",
     "text": [
      "Hello Ahsan would you like to learn some python today? \n"
     ]
    }
   ],
   "source": [
    "#personal message\n",
    "\n",
    "name : str = \"Ahsan\"\n",
    "\n",
    "message : str = f\"Hello {name} would you like to learn some python today? \"\n",
    "print(message)"
   ]
  },
  {
   "cell_type": "code",
   "execution_count": 16,
   "metadata": {},
   "outputs": [
    {
     "name": "stdout",
     "output_type": "stream",
     "text": [
      "Uppercase: AHSAN HAYAT\n",
      "Lowercase : ahsan hayat\n",
      "Title case : Ahsan Hayat\n"
     ]
    }
   ],
   "source": [
    "name : str = \"Ahsan hayat\"\n",
    "print(f\"Uppercase: {name.upper()}\")\n",
    "print(f\"Lowercase : {name.lower()}\")\n",
    "print(f\"Title case : {name.title()}\")"
   ]
  },
  {
   "cell_type": "markdown",
   "metadata": {},
   "source": [
    "### To set the name of aurthur and sentence with f-string  and quotation marks "
   ]
  },
  {
   "cell_type": "code",
   "execution_count": 2,
   "metadata": {},
   "outputs": [
    {
     "name": "stdout",
     "output_type": "stream",
     "text": [
      "Albert Einstein once said, \"A person who never made a mistake never tried anything new.\" \n"
     ]
    }
   ],
   "source": [
    "authur_name : str = \"Albert Einstein\"\n",
    "print(f\"\"\"{authur_name} once said, \"A person who never made a \\ \n",
    "mistake never tried anything new.\" \"\"\")"
   ]
  },
  {
   "cell_type": "markdown",
   "metadata": {},
   "source": [
    "### "
   ]
  },
  {
   "cell_type": "markdown",
   "metadata": {},
   "source": [
    "##### Placeholder expressions that get replaced by the values stored in the variables authur_name and quote respectively."
   ]
  },
  {
   "cell_type": "code",
   "execution_count": 24,
   "metadata": {},
   "outputs": [
    {
     "name": "stdout",
     "output_type": "stream",
     "text": [
      "Albert Einstein once said, \"A person who never made a mistake never tried anything new.\" \n"
     ]
    }
   ],
   "source": [
    "authur_name : str = \"Albert Einstein\"\n",
    "quote : str = \"A person who never made a mistake never tried anything new.\"\n",
    "\n",
    "print(f\"{authur_name} once said, \\\"{quote}\\\" \")\n"
   ]
  },
  {
   "cell_type": "code",
   "execution_count": 27,
   "metadata": {},
   "outputs": [
    {
     "name": "stdout",
     "output_type": "stream",
     "text": [
      "Albert Einstein once said,\"A person who never made a mistake never tried anything new.\"\n"
     ]
    }
   ],
   "source": [
    "famous_person : str = \"Albert Einstein\"\n",
    "quote : str = \"A person who never made a mistake never tried anything new.\"\n",
    "message : str  = (f\"{famous_person} once said,\\\"{message}\\\"\")\n",
    "print(message)"
   ]
  },
  {
   "cell_type": "code",
   "execution_count": 39,
   "metadata": {},
   "outputs": [
    {
     "name": "stdout",
     "output_type": "stream",
     "text": [
      "Everyone:Hello Mawaz\tshah \n",
      "Welcome to the Python world\n"
     ]
    }
   ],
   "source": [
    "text_with_whitespcaes : str = \"Everyone: \\bHello Mawaz\\tshah \\nWelcome to the Python world\"\n",
    "print(text_with_whitespcaes)"
   ]
  },
  {
   "cell_type": "code",
   "execution_count": 42,
   "metadata": {},
   "outputs": [
    {
     "name": "stdout",
     "output_type": "stream",
     "text": [
      "Person's Name :\tAhsan \n",
      "Hayat\n"
     ]
    }
   ],
   "source": [
    "person_name : str =  \"\\tAhsan \\nHayat\"\n",
    "print(f\"Person's Name :{person_name}\")"
   ]
  },
  {
   "cell_type": "code",
   "execution_count": 43,
   "metadata": {},
   "outputs": [
    {
     "name": "stdout",
     "output_type": "stream",
     "text": [
      "Ahsan Hayat   \n"
     ]
    }
   ],
   "source": [
    "person_name : str =  \"   Ahsan Hayat   \"\n",
    "print(person_name.lstrip())"
   ]
  },
  {
   "cell_type": "code",
   "execution_count": 44,
   "metadata": {},
   "outputs": [
    {
     "name": "stdout",
     "output_type": "stream",
     "text": [
      "   Ahsan Hayat\n"
     ]
    }
   ],
   "source": [
    "print(person_name.rstrip())\n"
   ]
  },
  {
   "cell_type": "code",
   "execution_count": 45,
   "metadata": {},
   "outputs": [
    {
     "name": "stdout",
     "output_type": "stream",
     "text": [
      "Ahsan Hayat\n"
     ]
    }
   ],
   "source": [
    "print(person_name.strip())"
   ]
  },
  {
   "cell_type": "markdown",
   "metadata": {},
   "source": [
    "## Basic Maths Operations"
   ]
  },
  {
   "cell_type": "code",
   "execution_count": 50,
   "metadata": {},
   "outputs": [
    {
     "data": {
      "text/plain": [
       "5"
      ]
     },
     "execution_count": 50,
     "metadata": {},
     "output_type": "execute_result"
    }
   ],
   "source": [
    "2 + 3 "
   ]
  },
  {
   "cell_type": "code",
   "execution_count": 51,
   "metadata": {},
   "outputs": [
    {
     "data": {
      "text/plain": [
       "1"
      ]
     },
     "execution_count": 51,
     "metadata": {},
     "output_type": "execute_result"
    }
   ],
   "source": [
    "3 - 2"
   ]
  },
  {
   "cell_type": "code",
   "execution_count": 53,
   "metadata": {},
   "outputs": [
    {
     "data": {
      "text/plain": [
       "1.5"
      ]
     },
     "execution_count": 53,
     "metadata": {},
     "output_type": "execute_result"
    }
   ],
   "source": [
    "3 / 2"
   ]
  },
  {
   "cell_type": "code",
   "execution_count": 4,
   "metadata": {},
   "outputs": [
    {
     "data": {
      "text/plain": [
       "2"
      ]
     },
     "execution_count": 4,
     "metadata": {},
     "output_type": "execute_result"
    }
   ],
   "source": [
    "10 % 4"
   ]
  },
  {
   "cell_type": "code",
   "execution_count": 54,
   "metadata": {},
   "outputs": [
    {
     "data": {
      "text/plain": [
       "9"
      ]
     },
     "execution_count": 54,
     "metadata": {},
     "output_type": "execute_result"
    }
   ],
   "source": [
    "3 ** 2"
   ]
  },
  {
   "cell_type": "code",
   "execution_count": 52,
   "metadata": {},
   "outputs": [
    {
     "data": {
      "text/plain": [
       "6"
      ]
     },
     "execution_count": 52,
     "metadata": {},
     "output_type": "execute_result"
    }
   ],
   "source": [
    "2 * 3"
   ]
  },
  {
   "cell_type": "code",
   "execution_count": 55,
   "metadata": {},
   "outputs": [
    {
     "data": {
      "text/plain": [
       "27"
      ]
     },
     "execution_count": 55,
     "metadata": {},
     "output_type": "execute_result"
    }
   ],
   "source": [
    "3 ** 3"
   ]
  },
  {
   "cell_type": "code",
   "execution_count": 56,
   "metadata": {},
   "outputs": [
    {
     "data": {
      "text/plain": [
       "1000000"
      ]
     },
     "execution_count": 56,
     "metadata": {},
     "output_type": "execute_result"
    }
   ],
   "source": [
    "10 ** 6"
   ]
  },
  {
   "cell_type": "code",
   "execution_count": 58,
   "metadata": {},
   "outputs": [
    {
     "data": {
      "text/plain": [
       "14"
      ]
     },
     "execution_count": 58,
     "metadata": {},
     "output_type": "execute_result"
    }
   ],
   "source": [
    "2 + 3*4"
   ]
  },
  {
   "cell_type": "code",
   "execution_count": 59,
   "metadata": {},
   "outputs": [
    {
     "data": {
      "text/plain": [
       "20"
      ]
     },
     "execution_count": 59,
     "metadata": {},
     "output_type": "execute_result"
    }
   ],
   "source": [
    "(2 + 3) * 4"
   ]
  },
  {
   "cell_type": "markdown",
   "metadata": {},
   "source": [
    "### The Zen of python is a collection of guiding principles of coding"
   ]
  },
  {
   "cell_type": "code",
   "execution_count": 60,
   "metadata": {},
   "outputs": [
    {
     "name": "stdout",
     "output_type": "stream",
     "text": [
      "The Zen of Python, by Tim Peters\n",
      "\n",
      "Beautiful is better than ugly.\n",
      "Explicit is better than implicit.\n",
      "Simple is better than complex.\n",
      "Complex is better than complicated.\n",
      "Flat is better than nested.\n",
      "Sparse is better than dense.\n",
      "Readability counts.\n",
      "Special cases aren't special enough to break the rules.\n",
      "Although practicality beats purity.\n",
      "Errors should never pass silently.\n",
      "Unless explicitly silenced.\n",
      "In the face of ambiguity, refuse the temptation to guess.\n",
      "There should be one-- and preferably only one --obvious way to do it.\n",
      "Although that way may not be obvious at first unless you're Dutch.\n",
      "Now is better than never.\n",
      "Although never is often better than *right* now.\n",
      "If the implementation is hard to explain, it's a bad idea.\n",
      "If the implementation is easy to explain, it may be a good idea.\n",
      "Namespaces are one honking great idea -- let's do more of those!\n"
     ]
    }
   ],
   "source": [
    "import this"
   ]
  },
  {
   "cell_type": "markdown",
   "metadata": {},
   "source": [
    "# Questions and Answers\n"
   ]
  },
  {
   "cell_type": "markdown",
   "metadata": {},
   "source": [
    "### String Indexing through integers"
   ]
  },
  {
   "cell_type": "code",
   "execution_count": 17,
   "metadata": {},
   "outputs": [
    {
     "name": "stdout",
     "output_type": "stream",
     "text": [
      "S h\n",
      "a n\n",
      "enanigan\n",
      "Shenan\n",
      "Shenanigan\n",
      "Seaia\n",
      "Snin\n",
      "Saa\n",
      "Shenanigantype\n",
      "ShenanWabbite\n"
     ]
    }
   ],
   "source": [
    "name : str =\"Shenanigan\"\n",
    "print(name[0], name[1])\n",
    "print(name[4], name[5])\n",
    "print(name[2:10])\n",
    "print(name[0:6])\n",
    "print(name)\n",
    "# start with 0 index to 10 (but not including 10 index) Selecting every second character within that range \n",
    "print(name[0:10:2])\n",
    "# start with 0 index to 10 (but not including 10 index) Selecting every third character within that range \n",
    "print(name[0:10:3])\n",
    "# start with 0 index to 10 (but not including 10 index) Selecting every fourth character within that range \n",
    "print(name[0:10:4])\n",
    "print(name+\"type\")\n",
    "print(name[0:6]+\"Wabbite\")"
   ]
  },
  {
   "cell_type": "code",
   "execution_count": 19,
   "metadata": {},
   "outputs": [
    {
     "name": "stdout",
     "output_type": "stream",
     "text": [
      "Visit Ykanetkar.Com\n"
     ]
    }
   ],
   "source": [
    "website : str = \"Visit ykanetkar.com\"\n",
    "print(website.title())"
   ]
  },
  {
   "cell_type": "markdown",
   "metadata": {},
   "source": [
    "#### Converting them to uppercase if they appear in lowercase within the text, and then replacing them with their uppercase counterparts."
   ]
  },
  {
   "cell_type": "code",
   "execution_count": 5,
   "metadata": {},
   "outputs": [
    {
     "name": "stdout",
     "output_type": "stream",
     "text": [
      "Light travels faster than SOUND. This is why some people appear bright until you hear them speak.\n"
     ]
    }
   ],
   "source": [
    "text = '''Light travels faster than sound. This is why some people appear \\\n",
    "bright until you hear them speak.'''\n",
    "\n",
    "# Define words to be capitalized\n",
    "words_to_capitalize = ['Light', 'Sound']\n",
    "\n",
    "# Capitalize specified words in the text\n",
    "for word in words_to_capitalize:\n",
    "    text = text.replace(word.lower(), word.upper())\n",
    "\n",
    "print(text)\n",
    "\n"
   ]
  },
  {
   "cell_type": "code",
   "execution_count": 30,
   "metadata": {},
   "outputs": [
    {
     "name": "stdout",
     "output_type": "stream",
     "text": [
      "s =  HumptyDumpty\n",
      "True\n",
      "False\n",
      "True\n",
      "False\n",
      "False\n",
      "True\n",
      "False\n"
     ]
    }
   ],
   "source": [
    "s = 'HumptyDumpty'\n",
    "print('s = ', s)\n",
    "print(s.isalpha( )) #  contain aplhabatic words : True or false\n",
    "print(s.isdigit( )) #  contain numeric words  : True or false\n",
    "print(s.isalnum( )) # both numeric and aplhabatic words : True or false\n",
    "print(s.islower( )) # contain smaller words or not :True or false\n",
    "print(s.isupper( )) # contain upper words or not : True or false\n",
    "print(s.startswith('Hump')) # True or false\n",
    "print(s.endswith('Dump')) # True or false"
   ]
  },
  {
   "cell_type": "markdown",
   "metadata": {},
   "source": [
    "# Split the each words separately "
   ]
  },
  {
   "cell_type": "code",
   "execution_count": 31,
   "metadata": {},
   "outputs": [
    {
     "name": "stdout",
     "output_type": "stream",
     "text": [
      "['The', 'difference', 'between', 'stupidity', 'and', 'genius', 'is', 'that', 'genius', 'has', 'its', 'limits']\n"
     ]
    }
   ],
   "source": [
    "quote : str = 'The difference between stupidity and genius is that genius has its limits'\n",
    "print(quote.split())"
   ]
  },
  {
   "cell_type": "code",
   "execution_count": 49,
   "metadata": {},
   "outputs": [
    {
     "name": "stdout",
     "output_type": "stream",
     "text": [
      "TraPoete\n"
     ]
    }
   ],
   "source": [
    "word :str =  'ThreadProperties' \n",
    "print(word[0:15:2])"
   ]
  },
  {
   "cell_type": "code",
   "execution_count": 50,
   "metadata": {},
   "outputs": [
    {
     "name": "stdout",
     "output_type": "stream",
     "text": [
      "Flanked\n"
     ]
    }
   ],
   "source": [
    "word : str = ' Flanked      '\n",
    "print(word.strip())"
   ]
  },
  {
   "cell_type": "code",
   "execution_count": 51,
   "metadata": {},
   "outputs": [
    {
     "name": "stdout",
     "output_type": "stream",
     "text": [
      "2175756187760 2175756187760 2175756187760\n"
     ]
    }
   ],
   "source": [
    "s1 = s2 = s3 = \"Hello\"          # when you use the id() function to get the memory address of these variables.\n",
    "print(id(s1), id(s2), id(s3))   # you'll see that they all have the same id because they're pointing to the exact same memory location\n",
    "                                # where the string object \"Hello\" is stored due to string interning."
   ]
  },
  {
   "cell_type": "code",
   "execution_count": 54,
   "metadata": {},
   "outputs": [
    {
     "name": "stdout",
     "output_type": "stream",
     "text": [
      "A\n"
     ]
    }
   ],
   "source": [
    "msg = 'Aeroplane'\n",
    "ch = msg[-0]  # print the 0 index 'A'\n",
    "print(ch)\n"
   ]
  },
  {
   "cell_type": "markdown",
   "metadata": {},
   "source": [
    "### Separate the words with separator the separater is \"f\""
   ]
  },
  {
   "cell_type": "code",
   "execution_count": 62,
   "metadata": {},
   "outputs": [
    {
     "name": "stdout",
     "output_type": "stream",
     "text": [
      "('Keep yoursel', 'f', ' warm')\n"
     ]
    }
   ],
   "source": [
    "msg = 'Keep yourself warm'\n",
    "print(msg.partition('f'))"
   ]
  },
  {
   "cell_type": "code",
   "execution_count": null,
   "metadata": {},
   "outputs": [],
   "source": []
  }
 ],
 "metadata": {
  "kernelspec": {
   "display_name": "Python 3",
   "language": "python",
   "name": "python3"
  },
  "language_info": {
   "codemirror_mode": {
    "name": "ipython",
    "version": 3
   },
   "file_extension": ".py",
   "mimetype": "text/x-python",
   "name": "python",
   "nbconvert_exporter": "python",
   "pygments_lexer": "ipython3",
   "version": "3.11.2"
  }
 },
 "nbformat": 4,
 "nbformat_minor": 2
}
