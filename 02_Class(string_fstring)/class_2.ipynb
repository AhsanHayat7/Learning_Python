{
 "cells": [
  {
   "cell_type": "code",
   "execution_count": 2,
   "metadata": {},
   "outputs": [
    {
     "name": "stdout",
     "output_type": "stream",
     "text": [
      "Ahsan Hayat\n"
     ]
    }
   ],
   "source": [
    "name: str = \"Ahsan Hayat\"\n",
    "print(name)\n"
   ]
  },
  {
   "cell_type": "markdown",
   "metadata": {},
   "source": [
    "# String Data types in Python"
   ]
  },
  {
   "cell_type": "code",
   "execution_count": 3,
   "metadata": {},
   "outputs": [
    {
     "name": "stdout",
     "output_type": "stream",
     "text": [
      "<class 'str'>\n",
      "Ahsan Hayat\n"
     ]
    }
   ],
   "source": [
    "# boundries\n",
    "# 'string text',\"string text\",'''string text''',\"\"\"string text\"\"\"\n",
    "# string text ,type script\n",
    "name: str = \"Ahsan Hayat\"\n",
    "print(type(name))\n",
    "print(name)"
   ]
  },
  {
   "cell_type": "code",
   "execution_count": 8,
   "metadata": {},
   "outputs": [
    {
     "name": "stdout",
     "output_type": "stream",
     "text": [
      "Python student card\n",
      "Id card python \n"
     ]
    }
   ],
   "source": [
    "message : str =  \"Python student card\\nId card python \"\n",
    "print(message)"
   ]
  },
  {
   "cell_type": "code",
   "execution_count": 9,
   "metadata": {},
   "outputs": [
    {
     "name": "stdout",
     "output_type": "stream",
     "text": [
      "Python 'student' card\n",
      "Id card python \n"
     ]
    }
   ],
   "source": [
    "message : str =  \"Python 'student' card\\nId card python \"\n",
    "print(message)"
   ]
  },
  {
   "cell_type": "code",
   "execution_count": 13,
   "metadata": {},
   "outputs": [
    {
     "name": "stdout",
     "output_type": "stream",
     "text": [
      "Python student card\n",
      " Father's name\n"
     ]
    }
   ],
   "source": [
    "# convert any special character into simple character, place \\ before character\n",
    "message : str =  'Python student card\\n Father\\'s name'\n",
    "print(message)"
   ]
  },
  {
   "cell_type": "code",
   "execution_count": 14,
   "metadata": {},
   "outputs": [
    {
     "data": {
      "text/plain": [
       "'abc'"
      ]
     },
     "execution_count": 14,
     "metadata": {},
     "output_type": "execute_result"
    }
   ],
   "source": [
    "\"a\" + \"b\" + \"c\""
   ]
  },
  {
   "cell_type": "code",
   "execution_count": 37,
   "metadata": {},
   "outputs": [
    {
     "name": "stdout",
     "output_type": "stream",
     "text": [
      "Python developer card\n",
      " Student name:Ahsan Hayat\n",
      "Age:25\n"
     ]
    }
   ],
   "source": [
    "card : str = \"Python developer card\\n Student name:\" + name + \"\\nAge:\" + str(age)\n",
    "print(card)"
   ]
  },
  {
   "cell_type": "code",
   "execution_count": 19,
   "metadata": {},
   "outputs": [
    {
     "name": "stdout",
     "output_type": "stream",
     "text": [
      "17\n"
     ]
    }
   ],
   "source": [
    "print(7+8+2)"
   ]
  },
  {
   "cell_type": "markdown",
   "metadata": {},
   "source": [
    "#  \"\\\" Line continue "
   ]
  },
  {
   "cell_type": "code",
   "execution_count": 21,
   "metadata": {},
   "outputs": [
    {
     "name": "stdout",
     "output_type": "stream",
     "text": [
      "17\n"
     ]
    }
   ],
   "source": [
    "print(7+\\\n",
    "      8+\\\n",
    "      2)"
   ]
  },
  {
   "cell_type": "code",
   "execution_count": 39,
   "metadata": {},
   "outputs": [
    {
     "name": "stdout",
     "output_type": "stream",
     "text": [
      "Python developer card\n",
      "Student name: Ahsan Hayat\n",
      "Age:25\n",
      "education: Bs in Financial Mathematics\n"
     ]
    }
   ],
   "source": [
    "# boundries\n",
    "# 'string text',\"string text\",'''string text''',\"\"\"string text\"\"\"\n",
    "# string text ,type script\n",
    "name : str = \"Ahsan Hayat\"\n",
    "father_name : str = \"Hayat Mohammad\"\n",
    "education : str = \"Bs in Financial Mathematics\"\n",
    "age : int = 25\n",
    "\n",
    "card : str = \"Python developer card\\nStudent name: \" + name + \\\n",
    "\"\\nAge:\" + str(age) + \"\\n\" + \\\n",
    "\"education: \" + education\n",
    "print(card)"
   ]
  },
  {
   "cell_type": "markdown",
   "metadata": {},
   "source": [
    "# Define Multiline string \"\"\" \"\"\" ''' '''"
   ]
  },
  {
   "cell_type": "code",
   "execution_count": 30,
   "metadata": {},
   "outputs": [
    {
     "name": "stdout",
     "output_type": "stream",
     "text": [
      " \n",
      "python developer\n",
      "father name:\n",
      "education:\n",
      "age:\n",
      "\n"
     ]
    }
   ],
   "source": [
    "name : str = \"Ahsan Hayat\"\n",
    "father_name : str = \"Hayat Mohammad\"\n",
    "education : str = \"Bs in Financial Mathematics\"\n",
    "age : int = 25\n",
    "\n",
    "card : str = \"\"\" \n",
    "python developer\n",
    "father name:\n",
    "education:\n",
    "age:\n",
    "\"\"\"\n",
    "print(card)"
   ]
  },
  {
   "cell_type": "markdown",
   "metadata": {},
   "source": [
    "# f-string"
   ]
  },
  {
   "cell_type": "code",
   "execution_count": 33,
   "metadata": {},
   "outputs": [
    {
     "name": "stdout",
     "output_type": "stream",
     "text": [
      " \n",
      "student name :Ahsan Hayat\n",
      "father name: Hayat Mohammad\n",
      "education:   Bs in Financial Mathematics\n",
      "age: 25\n",
      "Total : 28\n",
      "\n"
     ]
    }
   ],
   "source": [
    "name : str = \"Ahsan Hayat\"\n",
    "father_name : str = \"Hayat Mohammad\"\n",
    "education : str = \"Bs in Financial Mathematics\"\n",
    "age : int = 25\n",
    "\n",
    "card : str = f\"\"\" \n",
    "student name :{name}\n",
    "father name: {father_name}\n",
    "education:   {education}\n",
    "age: {age}\n",
    "Total : {9+7+5+7}\n",
    "\"\"\"\n",
    "print(card)"
   ]
  },
  {
   "cell_type": "markdown",
   "metadata": {},
   "source": [
    "# f-string and jinga style"
   ]
  },
  {
   "cell_type": "code",
   "execution_count": 34,
   "metadata": {},
   "outputs": [
    {
     "data": {
      "text/plain": [
       "'\\nData Scientist Ahsan Hayat\\n'"
      ]
     },
     "execution_count": 34,
     "metadata": {},
     "output_type": "execute_result"
    }
   ],
   "source": [
    "f\"\"\"\n",
    "Data Scientist {name}\n",
    "\"\"\""
   ]
  },
  {
   "cell_type": "code",
   "execution_count": null,
   "metadata": {},
   "outputs": [],
   "source": [
    "# jinga style\n",
    "\"\"\"\n",
    "Data Scientist {{name}}\n",
    "\"\"\" "
   ]
  },
  {
   "cell_type": "code",
   "execution_count": 36,
   "metadata": {},
   "outputs": [
    {
     "name": "stdout",
     "output_type": "stream",
     "text": [
      " \n",
      "University Card:\n",
      "student name : Ahsan Hayat\n",
      "father name: Hayat Mohammad\n",
      "education: Bs in Financial Mathematics  \n",
      "age: 25\n",
      "\n"
     ]
    }
   ],
   "source": [
    "name : str = \"Ahsan Hayat\"\n",
    "father_name : str = \"Hayat Mohammad\"\n",
    "education : str = \"Bs in Financial Mathematics\"\n",
    "age : int = 25\n",
    "\n",
    "card : str = f\"\"\" \n",
    "University Card:\n",
    "student name : %s\n",
    "father name: %s\n",
    "education: %s  \n",
    "age: %d\n",
    "\"\"\" % (name,father_name,education,age)\n",
    "print(card)"
   ]
  },
  {
   "cell_type": "code",
   "execution_count": 42,
   "metadata": {},
   "outputs": [
    {
     "data": {
      "text/plain": [
       "['capitalize',\n",
       " 'casefold',\n",
       " 'center',\n",
       " 'count',\n",
       " 'encode',\n",
       " 'endswith',\n",
       " 'expandtabs',\n",
       " 'find',\n",
       " 'format',\n",
       " 'format_map',\n",
       " 'index',\n",
       " 'isalnum',\n",
       " 'isalpha',\n",
       " 'isascii',\n",
       " 'isdecimal',\n",
       " 'isdigit',\n",
       " 'isidentifier',\n",
       " 'islower',\n",
       " 'isnumeric',\n",
       " 'isprintable',\n",
       " 'isspace',\n",
       " 'istitle',\n",
       " 'isupper',\n",
       " 'join',\n",
       " 'ljust',\n",
       " 'lower',\n",
       " 'lstrip',\n",
       " 'maketrans',\n",
       " 'partition',\n",
       " 'removeprefix',\n",
       " 'removesuffix',\n",
       " 'replace',\n",
       " 'rfind',\n",
       " 'rindex',\n",
       " 'rjust',\n",
       " 'rpartition',\n",
       " 'rsplit',\n",
       " 'rstrip',\n",
       " 'split',\n",
       " 'splitlines',\n",
       " 'startswith',\n",
       " 'strip',\n",
       " 'swapcase',\n",
       " 'title',\n",
       " 'translate',\n",
       " 'upper',\n",
       " 'zfill']"
      ]
     },
     "execution_count": 42,
     "metadata": {},
     "output_type": "execute_result"
    }
   ],
   "source": [
    "[i for i in dir(name) if\"__\" not in i]"
   ]
  },
  {
   "cell_type": "code",
   "execution_count": 44,
   "metadata": {},
   "outputs": [
    {
     "name": "stdout",
     "output_type": "stream",
     "text": [
      "Ahsan hayat\n",
      "ahsan hayat\n"
     ]
    }
   ],
   "source": [
    "name : str = \"AHsaN hAYat\"\n",
    "print(name.capitalize())\n",
    "print(name.lower())"
   ]
  },
  {
   "cell_type": "code",
   "execution_count": 51,
   "metadata": {},
   "outputs": [
    {
     "data": {
      "text/plain": [
       "'The value of Pakistan a = 2 and b = 9'"
      ]
     },
     "execution_count": 51,
     "metadata": {},
     "output_type": "execute_result"
    }
   ],
   "source": [
    "a = 2\n",
    "b = 9\n",
    "# place holder\n",
    "\"The value of Pakistan a = {} and b = {}\".format(a,b)"
   ]
  },
  {
   "cell_type": "code",
   "execution_count": 67,
   "metadata": {},
   "outputs": [
    {
     "name": "stdout",
     "output_type": "stream",
     "text": [
      " \n",
      "University card:\n",
      "student name: Hayat Mohammad\n",
      "father name: Ahsan Hayat\n",
      "education: 25\n",
      "age: Bs in Financial Mathematics\n",
      "\n"
     ]
    }
   ],
   "source": [
    "name : str = \"Ahsan Hayat\"\n",
    "father_name : str = \"Hayat Mohammad\"\n",
    "education : str = \"Bs in Financial Mathematics\"\n",
    "age : int = 25\n",
    "\n",
    "card : str = \"\"\" \n",
    "University card:\n",
    "student name: {}\n",
    "father name: {}\n",
    "education: {}\n",
    "age: {}\n",
    "\"\"\".format(father_name,name,age,education)\n",
    "        #   0      1     2   3    4  \n",
    "\n",
    "print(card)\n"
   ]
  },
  {
   "cell_type": "code",
   "execution_count": 66,
   "metadata": {},
   "outputs": [
    {
     "name": "stdout",
     "output_type": "stream",
     "text": [
      " \n",
      "University card:\n",
      "student name: Ahsan Hayat\n",
      "father name: Hayat Mohammad\n",
      "education: Bs in Financial Mathematics\n",
      "age: 25\n",
      "\n"
     ]
    }
   ],
   "source": [
    "name : str = \"Ahsan Hayat\"\n",
    "father_name : str = \"Hayat Mohammad\"\n",
    "education : str = \"Bs in Financial Mathematics\"\n",
    "age : int = 25\n",
    "\n",
    "card : str = \"\"\" \n",
    "University card:\n",
    "student name: {1}\n",
    "father name: {0}\n",
    "education: {3}\n",
    "age: {2}\n",
    "\"\"\".format(father_name,name,age,education)\n",
    "\n",
    "print(card)\n"
   ]
  },
  {
   "cell_type": "code",
   "execution_count": 65,
   "metadata": {},
   "outputs": [
    {
     "name": "stdout",
     "output_type": "stream",
     "text": [
      " \n",
      "University card:\n",
      "student name: Ahsan Hayat\n",
      "father name: Hayat Mohammad\n",
      "education: Bs in Financial Mathematics\n",
      "age: 25\n",
      "\n"
     ]
    }
   ],
   "source": [
    "name : str = \"Ahsan Hayat\"\n",
    "father_name : str = \"Hayat Mohammad\"\n",
    "education : str = \"Bs in Financial Mathematics\"\n",
    "age : int = 25\n",
    "\n",
    "card : str = \"\"\" \n",
    "University card:\n",
    "student name: {a}\n",
    "father name: {b}\n",
    "education: {c}\n",
    "age: {d}\n",
    "\"\"\".format(a = name,b = father_name, c = education, d = age)\n",
    "\n",
    "print(card)"
   ]
  },
  {
   "cell_type": "markdown",
   "metadata": {},
   "source": [
    "# Recommanded below two f-string"
   ]
  },
  {
   "cell_type": "code",
   "execution_count": 64,
   "metadata": {},
   "outputs": [
    {
     "name": "stdout",
     "output_type": "stream",
     "text": [
      " \n",
      "University Card:\n",
      "student name: Ahsan Hayat\n",
      "father name: Hayat Mohammad\n",
      "education: Bs in Financial Mathematics\n",
      "age: 25\n",
      "\n"
     ]
    }
   ],
   "source": [
    "name : str = \"Ahsan Hayat\"\n",
    "father_name : str = \"Hayat Mohammad\"\n",
    "education : str = \"Bs in Financial Mathematics\"\n",
    "age : int = 25\n",
    "\n",
    "card : str = f\"\"\" \n",
    "University Card:\n",
    "student name: {name}\n",
    "father name: {father_name}\n",
    "education: {education}\n",
    "age: {age}\n",
    "\"\"\"\n",
    "print(card)"
   ]
  },
  {
   "cell_type": "code",
   "execution_count": 70,
   "metadata": {},
   "outputs": [
    {
     "name": "stdout",
     "output_type": "stream",
     "text": [
      "My name is Ahsan Hayat\n",
      "12\n"
     ]
    }
   ],
   "source": [
    "student_code : str = f\"\"\"\n",
    "print(\"My name is Ahsan Hayat\")\n",
    "a:int = 5\n",
    "b:int = 7\n",
    "print(a+b)\n",
    "\"\"\"\n",
    "exec(student_code)"
   ]
  },
  {
   "cell_type": "markdown",
   "metadata": {},
   "source": [
    "# Explore String methods and attributes\n",
    "\n",
    "pre define global functions we have use\n",
    "\n",
    "* print\n",
    "* Type\n",
    "* dir\n",
    "* id\n",
    "* len"
   ]
  },
  {
   "cell_type": "code",
   "execution_count": 81,
   "metadata": {},
   "outputs": [
    {
     "name": "stdout",
     "output_type": "stream",
     "text": [
      "['capitalize', 'casefold', 'center', 'count', 'encode', 'endswith', 'expandtabs', 'find', 'format', 'format_map', 'index', 'isalnum', 'isalpha', 'isascii', 'isdecimal', 'isdigit', 'isidentifier', 'islower', 'isnumeric', 'isprintable', 'isspace', 'istitle', 'isupper', 'join', 'ljust', 'lower', 'lstrip', 'maketrans', 'partition', 'removeprefix', 'removesuffix', 'replace', 'rfind', 'rindex', 'rjust', 'rpartition', 'rsplit', 'rstrip', 'split', 'splitlines', 'startswith', 'strip', 'swapcase', 'title', 'translate', 'upper', 'zfill']\n",
      "47\n"
     ]
    }
   ],
   "source": [
    "a : list[str] = [i for i in dir(name) if\"__\" not in i]\n",
    "print (a)\n",
    "print(len(a))"
   ]
  },
  {
   "cell_type": "code",
   "execution_count": 74,
   "metadata": {},
   "outputs": [
    {
     "name": "stdout",
     "output_type": "stream",
     "text": [
      "Ahsan hayat\n"
     ]
    }
   ],
   "source": [
    "name : str = \"ahsan hayat\"\n",
    "\n",
    "# avaliable.method()\n",
    "print(name.capitalize())\n",
    "\n"
   ]
  },
  {
   "cell_type": "code",
   "execution_count": 75,
   "metadata": {},
   "outputs": [
    {
     "name": "stdout",
     "output_type": "stream",
     "text": [
      "ahsan hayat\n"
     ]
    }
   ],
   "source": [
    "name : str = \"AHSAN HAYAT\"\n",
    "\n",
    "# avaliable.method()\n",
    "print(name.casefold())"
   ]
  },
  {
   "cell_type": "code",
   "execution_count": 82,
   "metadata": {},
   "outputs": [
    {
     "name": "stdout",
     "output_type": "stream",
     "text": [
      " ahsan hayat\n"
     ]
    }
   ],
   "source": [
    "name : str = \" ahsan hayat\"\n",
    "\n",
    "# avaliable.method()\n",
    "print(name.lower())"
   ]
  },
  {
   "cell_type": "code",
   "execution_count": 83,
   "metadata": {},
   "outputs": [
    {
     "name": "stdout",
     "output_type": "stream",
     "text": [
      "ahsan hayat     \n"
     ]
    }
   ],
   "source": [
    "name : str = \"     ahsan hayat     \"\n",
    "\n",
    "# avaliable.method()\n",
    "print(name.lstrip())"
   ]
  },
  {
   "cell_type": "code",
   "execution_count": 84,
   "metadata": {},
   "outputs": [
    {
     "name": "stdout",
     "output_type": "stream",
     "text": [
      "     ahsan hayat\n"
     ]
    }
   ],
   "source": [
    "\n",
    "print(name.rstrip())"
   ]
  },
  {
   "cell_type": "code",
   "execution_count": 88,
   "metadata": {},
   "outputs": [
    {
     "name": "stdout",
     "output_type": "stream",
     "text": [
      "ahsan hayat\n"
     ]
    }
   ],
   "source": [
    "name : str = \"            ahsan hayat      \"\n",
    "\n",
    "# avaliable.method()\n",
    "print(name.strip())"
   ]
  },
  {
   "cell_type": "code",
   "execution_count": 103,
   "metadata": {},
   "outputs": [
    {
     "data": {
      "text/plain": [
       "'       ahsan    hayat     '"
      ]
     },
     "metadata": {},
     "output_type": "display_data"
    },
    {
     "data": {
      "text/plain": [
       "' ahsan hayat '"
      ]
     },
     "metadata": {},
     "output_type": "display_data"
    }
   ],
   "source": [
    "import re\n",
    "\n",
    "name : str = \"       ahsan    hayat     \"\n",
    "display(name)\n",
    "\n",
    "name1 : str = re.sub(' {2,100}',    ' '    ,   name)\n",
    "                      #pattern  #replacement   # variable\n",
    "display(name1)"
   ]
  },
  {
   "cell_type": "code",
   "execution_count": 102,
   "metadata": {},
   "outputs": [
    {
     "data": {
      "text/plain": [
       "'       ahsan    hayat     '"
      ]
     },
     "metadata": {},
     "output_type": "display_data"
    },
    {
     "data": {
      "text/plain": [
       "'ahsan hayat'"
      ]
     },
     "metadata": {},
     "output_type": "display_data"
    }
   ],
   "source": [
    "\n",
    "name : str = \"       ahsan    hayat     \"\n",
    "display(name)\n",
    "\n",
    "name1 : str = re.sub(' {2,100}',' ', name).strip()\n",
    "display(name1)"
   ]
  },
  {
   "cell_type": "code",
   "execution_count": null,
   "metadata": {},
   "outputs": [],
   "source": [
    "# \\b\n",
    "# \\t\n",
    "# \\n"
   ]
  },
  {
   "cell_type": "code",
   "execution_count": 105,
   "metadata": {},
   "outputs": [
    {
     "name": "stdout",
     "output_type": "stream",
     "text": [
      "Pythonlove to code\n"
     ]
    }
   ],
   "source": [
    "print(\"Python:\\blove to code\")"
   ]
  },
  {
   "cell_type": "code",
   "execution_count": 106,
   "metadata": {},
   "outputs": [
    {
     "name": "stdout",
     "output_type": "stream",
     "text": [
      "Python: \tlove to \tcode\n"
     ]
    }
   ],
   "source": [
    "print(\"Python: \\tlove to \\tcode\")"
   ]
  },
  {
   "cell_type": "code",
   "execution_count": 107,
   "metadata": {},
   "outputs": [
    {
     "name": "stdout",
     "output_type": "stream",
     "text": [
      "Python:\n",
      "love \n",
      "to \n",
      "code\n"
     ]
    }
   ],
   "source": [
    "print(\"Python:\\nlove \\nto \\ncode\")"
   ]
  },
  {
   "cell_type": "code",
   "execution_count": 111,
   "metadata": {},
   "outputs": [
    {
     "data": {
      "text/plain": [
       "'//chat.openai.com/'"
      ]
     },
     "execution_count": 111,
     "metadata": {},
     "output_type": "execute_result"
    }
   ],
   "source": [
    "url : str = \"https://chat.openai.com/\"\n",
    "url.removeprefix('https:')"
   ]
  },
  {
   "cell_type": "code",
   "execution_count": null,
   "metadata": {},
   "outputs": [],
   "source": []
  },
  {
   "cell_type": "markdown",
   "metadata": {},
   "source": []
  }
 ],
 "metadata": {
  "kernelspec": {
   "display_name": "Python 3",
   "language": "python",
   "name": "python3"
  },
  "language_info": {
   "codemirror_mode": {
    "name": "ipython",
    "version": 3
   },
   "file_extension": ".py",
   "mimetype": "text/x-python",
   "name": "python",
   "nbconvert_exporter": "python",
   "pygments_lexer": "ipython3",
   "version": "3.11.2"
  }
 },
 "nbformat": 4,
 "nbformat_minor": 2
}
