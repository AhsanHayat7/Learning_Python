{
 "cells": [
  {
   "cell_type": "code",
   "execution_count": 15,
   "metadata": {},
   "outputs": [
    {
     "name": "stdout",
     "output_type": "stream",
     "text": [
      "Cheeta\n"
     ]
    }
   ],
   "source": [
    "# List\n",
    "              #        0       1       2\n",
    "data : list[str]  = [\"Lion\",\"Tiger\",\"Cheeta\"]\n",
    "\n",
    "print(data[2])\n"
   ]
  },
  {
   "cell_type": "code",
   "execution_count": 21,
   "metadata": {},
   "outputs": [
    {
     "name": "stdout",
     "output_type": "stream",
     "text": [
      "{1, 5, 6, 7, 8, 9, 53, 90}\n"
     ]
    }
   ],
   "source": [
    "\n",
    "data : set[int] = {1,9,5,6,7,8,53,90}\n",
    "print(data) # Return unique()"
   ]
  },
  {
   "cell_type": "code",
   "execution_count": 33,
   "metadata": {},
   "outputs": [
    {
     "name": "stdout",
     "output_type": "stream",
     "text": [
      "{1, 5, 6, 7, 8, 9, 53, 90}\n",
      "[1, 5, 6, 7, 8, 9, 53, 90]\n"
     ]
    }
   ],
   "source": [
    "data : set[int] = {1,9,5,6,7,8,53,90}\n",
    "print(data) \n",
    "value : list[int] = list(data)\n",
    "print (value)"
   ]
  },
  {
   "cell_type": "code",
   "execution_count": 20,
   "metadata": {},
   "outputs": [
    {
     "name": "stdout",
     "output_type": "stream",
     "text": [
      "add\n",
      "clear\n",
      "copy\n",
      "difference\n",
      "difference_update\n",
      "discard\n",
      "intersection\n",
      "intersection_update\n",
      "isdisjoint\n",
      "issubset\n",
      "issuperset\n",
      "pop\n",
      "remove\n",
      "symmetric_difference\n",
      "symmetric_difference_update\n",
      "union\n",
      "update\n"
     ]
    }
   ],
   "source": [
    "for i in dir(data):\n",
    "    if \"__\" not in i:\n",
    "        print(i)\n"
   ]
  },
  {
   "cell_type": "markdown",
   "metadata": {},
   "source": [
    "# Dictionary \n",
    "* Key:value (items)\n",
    "     * Key replacement of index\n",
    "     * Value item\n",
    "\n",
    "`* dict _Variable[Key]`\n",
    "  *  dict_varaible[newkey] == new_value\n",
    "  * add value\n",
    "  * updated value\n"
   ]
  },
  {
   "cell_type": "code",
   "execution_count": 17,
   "metadata": {},
   "outputs": [
    {
     "name": "stdout",
     "output_type": "stream",
     "text": [
      "Lion\n",
      "Eagle\n",
      "{'King': 'Lion', 'Sea King': 'Whale', 'Sky King': 'Eagle', 'Human': 'King Of World'}\n",
      "{'Human': 'King Of World', 'Sea King': 'Whale', 'Sky King': 'Eagle'}\n"
     ]
    }
   ],
   "source": [
    "from typing import Dict, Union,Optional\n",
    "import pprint\n",
    "\n",
    "Key = Union[int,float,str] # Creat custom data type\n",
    "Value = Union[str,str,list,dict,tuple,set]\n",
    "\n",
    "data : Dict[Key, Value]  = {\n",
    "                        \"King\":\"Lion\",\n",
    "                        \"Sea King\":\"Whale\",\n",
    "                        \"Sky King\":\"Eagle\" \n",
    "                        }\n",
    "\n",
    "\n",
    "print(data[\"King\"]) # Key \n",
    "print(data[\"Sky King\"])\n",
    "data[\"Human\"] = \"King Of World\"\n",
    "print(data)\n",
    "data[\"King\"] = \"Tiger\"\n",
    "print(data)\n",
    "del data[\"King\"]\n",
    "print(data)\n",
    "\n",
    "\n",
    "pprint.pprint(data)"
   ]
  },
  {
   "cell_type": "code",
   "execution_count": 22,
   "metadata": {},
   "outputs": [
    {
     "name": "stdout",
     "output_type": "stream",
     "text": [
      "Lion\n",
      "Eagle\n",
      "{'King': 'Lion', 'Sea King': 'Whale', 'Sky King': 'Eagle', 'Human': 'King Of World'}\n",
      "{'Human': 'King Of World', 'Sea King': 'Whale', 'Sky King': 'Eagle'}\n"
     ]
    }
   ],
   "source": [
    "key :  Union[int,float,str] # Creat custom data type\n",
    "value : Union[str,str,list,dict,tuple,set]\n",
    "\n",
    "data : dict[str,str]  = {\n",
    "                        \"King\":\"Lion\",\n",
    "                        \"Sea King\":\"Whale\",\n",
    "                        \"Sky King\":\"Eagle\"\n",
    "                        # Unhasable type Error\n",
    "                        #[1,2,3,4] :\"Spider\" \n",
    "                       # {1,2,3,4} :\"Spider\" # Error\n",
    "                       # (1,2,3,4) :\"Spider\"   # error\n",
    "                         }\n",
    "\n",
    "\n",
    "print(data[\"King\"]) # Key \n",
    "print(data[\"Sky King\"])\n",
    "data[\"Human\"] = \"King Of World\"\n",
    "print(data)\n",
    "data[\"King\"] = \"Tiger\"\n",
    "print(data)\n",
    "del data[\"King\"]\n",
    "print(data)\n",
    "\n",
    "\n",
    "pprint.pprint(data)"
   ]
  },
  {
   "cell_type": "code",
   "execution_count": 14,
   "metadata": {},
   "outputs": [
    {
     "name": "stdout",
     "output_type": "stream",
     "text": [
      "Lion\n",
      "Eagle\n",
      "{'King': 'Lion', 'Sea King': 'Whale', 'Sky King': 'Eagle', 'Human': 'King Of World'}\n",
      "{'Human': 'King Of World', 'Sea King': 'Whale', 'Sky King': 'Eagle'}\n"
     ]
    }
   ],
   "source": [
    "from typing import Dict, Union, Optional\n",
    "import pprint\n",
    "\n",
    "# Define custom data types\n",
    "KeyType = Union[int, float, str]\n",
    "ValueType = Union[str, list, dict, tuple, set]\n",
    "\n",
    "# Use the custom data types for the dictionary\n",
    "data: Dict[KeyType, ValueType] = {\n",
    "    \"King\": \"Lion\",\n",
    "    \"Sea King\": \"Whale\",\n",
    "    \"Sky King\": \"Eagle\"\n",
    "}\n",
    "\n",
    "print(data[\"King\"])  # Key\n",
    "print(data[\"Sky King\"])\n",
    "\n",
    "data[\"Human\"] = \"King Of World\"\n",
    "print(data)\n",
    "\n",
    "data[\"King\"] = \"Tiger\"\n",
    "del data[\"King\"]\n",
    "\n",
    "pprint.pprint(data)\n",
    "\n",
    "\n"
   ]
  },
  {
   "cell_type": "code",
   "execution_count": 18,
   "metadata": {},
   "outputs": [
    {
     "name": "stdout",
     "output_type": "stream",
     "text": [
      "{'King': 'Lion',\n",
      " 'Sea King': 'Whale',\n",
      " 'Set': {1, 2, 3, 4, 56},\n",
      " 'Sky King': 'Eagle',\n",
      " 'dict': {'a': 1, 'b': 2},\n",
      " 'list': [1, 2, 3, 45],\n",
      " 'tuple': (1, 2, 3, 4, 5)}\n",
      "\n",
      "{'a': 1, 'b': 2}\n",
      "1\n"
     ]
    }
   ],
   "source": [
    "key = Union[int,float,str] # Creat custom data type\n",
    "value = Union[str,str,list,dict,tuple,set]\n",
    "\n",
    "data : dict[key,value]  = {\n",
    "                        \"King\":\"Lion\",\n",
    "                        \"Sea King\":\"Whale\",\n",
    "                        \"Sky King\":\"Eagle\",\n",
    "                        \"list\" : [1,2,3,45],\n",
    "                        \"Set\" : {1,2,3,4,56},\n",
    "                        \"tuple\" : (1,2,3,4,5),\n",
    "                        \"dict\"  : {'a':1,'b':2},\n",
    "                        \n",
    "                        \n",
    "                        }\n",
    "\n",
    "\n",
    "# print(data[\"King\"]) # Key \n",
    "# print(data[\"Sky King\"])\n",
    "# data[\"Human\"] = \"King Of World\"\n",
    "# print(data)\n",
    "# data[\"King\"] = \"Tiger\"\n",
    "# data\n",
    "# del data[\"King\"]\n",
    "# data\n",
    "\n",
    "\n",
    "pprint.pprint(data)\n",
    "print(f\"\\n{data[\"dict\"]}\")\n",
    "print(data['dict']['a'])"
   ]
  },
  {
   "cell_type": "code",
   "execution_count": 19,
   "metadata": {},
   "outputs": [
    {
     "name": "stdout",
     "output_type": "stream",
     "text": [
      "1\n"
     ]
    }
   ],
   "source": [
    "from typing import TypedDict\n",
    "\n",
    "data2 = TypedDict(\"data2\",{\"a\": str,\"b\": str})\n",
    "\n",
    "data : Dict[Key,Value]  = {\n",
    "                        \"King\":\"Lion\",\n",
    "                        \"Sea King\":\"Whale\",\n",
    "                        \"Sky King\":\"Eagle\",\n",
    "                        \"list\" : [1,2,3,45],\n",
    "                        \"Set\" : {1,2,3,4,56},\n",
    "                        \"tuple\" : (1,2,3,4,5),\n",
    "                        \"dict\"  : {'a':1,'b':2},\n",
    "                        \n",
    "                        \n",
    "                        }\n",
    "print(data[\"dict\"][\"a\"])"
   ]
  },
  {
   "cell_type": "code",
   "execution_count": 3,
   "metadata": {},
   "outputs": [
    {
     "name": "stdout",
     "output_type": "stream",
     "text": [
      "{'name': 'Ahsan', 'Fullname': 'Ahsan Hayat', 'Education': 'Python Development', 'Number': 1234}\n"
     ]
    }
   ],
   "source": [
    "from typing import Dict, Union, Optional\n",
    "\n",
    "key = Union[int,float,str] # Creat custom data type\n",
    "value = Union[str,str,list,dict,tuple,set,int]\n",
    "\n",
    "data : dict[key,value] = {} \n",
    "\n",
    "data[\"name\"] = \"Ahsan\"\n",
    "data[\"Fullname\"] = \"Ahsan Hayat\"         # Add new key\n",
    "data[\"Education\"] = \"Python Development\"\n",
    "data[\"Number\"] = 1234            \n",
    "print(data)"
   ]
  },
  {
   "cell_type": "markdown",
   "metadata": {},
   "source": [
    "# Methods"
   ]
  },
  {
   "cell_type": "code",
   "execution_count": 54,
   "metadata": {},
   "outputs": [
    {
     "name": "stdout",
     "output_type": "stream",
     "text": [
      "clear\n",
      "copy\n",
      "fromkeys\n",
      "get\n",
      "items\n",
      "keys\n",
      "pop\n",
      "popitem\n",
      "setdefault\n",
      "update\n",
      "values\n"
     ]
    }
   ],
   "source": [
    "for i in dir(data):\n",
    "    if \"__\" not in i:\n",
    "        print(i)"
   ]
  },
  {
   "cell_type": "code",
   "execution_count": 9,
   "metadata": {},
   "outputs": [
    {
     "name": "stdout",
     "output_type": "stream",
     "text": [
      "Zindad\n",
      "Lion\n",
      "{'King': 'Lion', 'Sea King': 'Whale', 'Sky King': 'Eagle'}\n"
     ]
    }
   ],
   "source": [
    "data : dict[str,str]  = {\n",
    "                        \"King\":\"Lion\",\n",
    "                        \"Sea King\":\"Whale\",\n",
    "                        \"Sky King\":\"Eagle\" \n",
    "                        }\n",
    "\n",
    "print(data.get('Pakistan',\"Zindad\")) # no Error if key Pakistan is not present\n",
    "print(data.get('King',\"Zindad\")) # if key is  present\n",
    "print(data)\n"
   ]
  },
  {
   "cell_type": "code",
   "execution_count": 64,
   "metadata": {},
   "outputs": [
    {
     "name": "stdout",
     "output_type": "stream",
     "text": [
      "dict_keys(['King', 'Sea King', 'Sky King'])\n",
      "dict_values(['Lion', 'Whale', 'Eagle'])\n",
      "dict_items([('King', 'Lion'), ('Sea King', 'Whale'), ('Sky King', 'Eagle')])\n"
     ]
    }
   ],
   "source": [
    "data : dict[str,str]  = {\n",
    "                        \"King\":\"Lion\",\n",
    "                        \"Sea King\":\"Whale\",\n",
    "                        \"Sky King\":\"Eagle\" \n",
    "                        }\n",
    "print(data.keys())\n",
    "print(data.values())\n",
    "print(data.items())"
   ]
  },
  {
   "cell_type": "code",
   "execution_count": 12,
   "metadata": {},
   "outputs": [
    {
     "name": "stdout",
     "output_type": "stream",
     "text": [
      "Lion\n",
      "Whale\n",
      "Eagle\n",
      "King\n",
      "Sea King\n",
      "Sky King\n",
      "Lion\n",
      "Whale\n",
      "Eagle\n"
     ]
    }
   ],
   "source": [
    "# Using for loop\n",
    "data : dict[str,str]  = {\n",
    "                        \"King\":\"Lion\",\n",
    "                        \"Sea King\":\"Whale\",\n",
    "                        \"Sky King\":\"Eagle\" \n",
    "                        }\n",
    "\n",
    "for info in data.values(): \n",
    "    print(info)\n",
    "\n",
    "for k in data.keys():\n",
    "    print(k)    \n",
    "\n",
    "for d in data.values():\n",
    "    print(d)    "
   ]
  },
  {
   "cell_type": "code",
   "execution_count": 66,
   "metadata": {},
   "outputs": [
    {
     "name": "stdout",
     "output_type": "stream",
     "text": [
      "('King', 'Lion')\n",
      "('Sea King', 'Whale')\n",
      "('Sky King', 'Eagle')\n"
     ]
    }
   ],
   "source": [
    "# Using for loop\n",
    "data : dict[str,str]  = {\n",
    "                        \"King\":\"Lion\",\n",
    "                        \"Sea King\":\"Whale\",\n",
    "                        \"Sky King\":\"Eagle\" \n",
    "                        }\n",
    "\n",
    "for info in data.items():\n",
    "    print(info)"
   ]
  },
  {
   "cell_type": "code",
   "execution_count": 69,
   "metadata": {},
   "outputs": [
    {
     "name": "stdout",
     "output_type": "stream",
     "text": [
      "King Lion\n",
      "Sea King Whale\n",
      "Sky King Eagle\n"
     ]
    }
   ],
   "source": [
    "# Using for loop\n",
    "data : dict[str,str]  = {\n",
    "                        \"King\":\"Lion\",\n",
    "                        \"Sea King\":\"Whale\",\n",
    "                        \"Sky King\":\"Eagle\" \n",
    "                        }\n",
    "\n",
    "for k,v in data.items():\n",
    "    print(k,v)"
   ]
  },
  {
   "cell_type": "code",
   "execution_count": 72,
   "metadata": {},
   "outputs": [
    {
     "data": {
      "text/plain": [
       "{'King': 'Lion', 'Sea King': 'Whale', 'Sky King': 'Eagle'}"
      ]
     },
     "execution_count": 72,
     "metadata": {},
     "output_type": "execute_result"
    }
   ],
   "source": [
    "# Using for loop\n",
    "data : dict[str,str]  = {\n",
    "                        \"King\":\"Lion\",\n",
    "                        \"Sea King\":\"Whale\",\n",
    "                        \"Sky King\":\"Eagle\" \n",
    "                        }\n",
    "\n",
    "{k:v for k,v in data.items()}"
   ]
  },
  {
   "cell_type": "code",
   "execution_count": 73,
   "metadata": {},
   "outputs": [
    {
     "data": {
      "text/plain": [
       "{'Lion': 'King', 'Whale': 'Sea King', 'Eagle': 'Sky King'}"
      ]
     },
     "execution_count": 73,
     "metadata": {},
     "output_type": "execute_result"
    }
   ],
   "source": [
    "# Shuffle it\n",
    "data : dict[str,str]  = {\n",
    "                        \"King\":\"Lion\",\n",
    "                        \"Sea King\":\"Whale\",\n",
    "                        \"Sky King\":\"Eagle\" \n",
    "                        }\n",
    "\n",
    "{v:k for k,v in data.items()}"
   ]
  },
  {
   "cell_type": "code",
   "execution_count": 75,
   "metadata": {},
   "outputs": [
    {
     "name": "stdout",
     "output_type": "stream",
     "text": [
      "7 10\n"
     ]
    }
   ],
   "source": [
    "# Shuffle\n",
    "\n",
    "a : int = 10\n",
    "b : int = 7\n",
    "\n",
    "a,b = b ,a\n",
    "\n",
    "print(a,b)"
   ]
  },
  {
   "cell_type": "code",
   "execution_count": 16,
   "metadata": {},
   "outputs": [
    {
     "data": {
      "text/plain": [
       "{'name': None, 'eduction': None, 'email': None}"
      ]
     },
     "execution_count": 16,
     "metadata": {},
     "output_type": "execute_result"
    }
   ],
   "source": [
    "keys : list[str] = [\"name\",\"eduction\",\"email\"]\n",
    "\n",
    "data : dict[str,str] =  {}\n",
    "\n",
    "data.fromkeys(keys) # line operation\n",
    "\n"
   ]
  },
  {
   "cell_type": "code",
   "execution_count": 132,
   "metadata": {},
   "outputs": [
    {
     "name": "stdout",
     "output_type": "stream",
     "text": [
      "Jen's favorite language is Python.\n",
      "Sarah's favorite language is C.\n",
      "Edward's favorite language is Rust.\n",
      "Phil's favorite language is Python.\n"
     ]
    }
   ],
   "source": [
    "favorite_languages = {\n",
    "    'jen': 'python',\n",
    "    'sarah': 'c',\n",
    "    'edward': 'rust',\n",
    "    'phil': 'python',\n",
    "    }\n",
    "for name, language in favorite_languages.items():\n",
    "    print(f\"{name.title()}'s favorite language is {language.title()}.\")\n"
   ]
  },
  {
   "cell_type": "code",
   "execution_count": 135,
   "metadata": {},
   "outputs": [
    {
     "name": "stdout",
     "output_type": "stream",
     "text": [
      "Jen\n",
      "Sarah\n",
      "Edward\n",
      "Phil\n"
     ]
    }
   ],
   "source": [
    "favorite_languages = {\n",
    "    'jen': 'python',\n",
    "    'sarah': 'c',\n",
    "    'edward': 'rust',\n",
    "    'phil': 'python',\n",
    "    }\n",
    "\n",
    "# for names in favorite_languages:\n",
    "#     print((names.title()))\n",
    "                                         # Rahter this\n",
    "\n",
    "for names in favorite_languages.keys():\n",
    "    print((names.title()))"
   ]
  },
  {
   "cell_type": "code",
   "execution_count": 137,
   "metadata": {},
   "outputs": [
    {
     "name": "stdout",
     "output_type": "stream",
     "text": [
      "Hi Jen.\n",
      "Hi Sarah.\n",
      "Hi Edward.\n",
      "Hi Phil.\n"
     ]
    }
   ],
   "source": [
    "friends = ['phil', 'sarah']\n",
    "for name in favorite_languages.keys():\n",
    "    print(f\"Hi {name.title()}.\")"
   ]
  },
  {
   "cell_type": "markdown",
   "metadata": {},
   "source": [
    "# Nesting:\n",
    "* Sometimes you’ll want to store multiple dictionaries in a list, or a list of items as a value in a dictionary. This is called nesting. You can nest dictionaries inside a list, a list of items inside a dictionary, or even a dictionary insideanother dictionary. Nesting is a powerful feature, as the following examples will demonstrate.\n"
   ]
  },
  {
   "cell_type": "code",
   "execution_count": 152,
   "metadata": {},
   "outputs": [
    {
     "name": "stdout",
     "output_type": "stream",
     "text": [
      "Hi Jen.\n",
      "Hi Sarah.\n",
      "\tSarah, I see you love C!\n",
      "Hi Edward.\n",
      "Hi Phil.\n",
      "\tPhil, I see you love Python!\n"
     ]
    }
   ],
   "source": [
    "favorite_languages = {\n",
    "    'jen': 'python',\n",
    "    'sarah': 'c',\n",
    "    'edward': 'rust',\n",
    "    'phil': 'python',\n",
    "    }\n",
    "\n",
    "friends = ['phil', 'sarah']\n",
    "\n",
    "for name in favorite_languages.keys():\n",
    "    print(f\"Hi {name.title()}.\")\n",
    "    \n",
    "    if name in friends:\n",
    "        language = favorite_languages[name].title()\n",
    "        print(f\"\\t{name.title()}, I see you love {language}!\")"
   ]
  },
  {
   "cell_type": "code",
   "execution_count": 166,
   "metadata": {},
   "outputs": [
    {
     "name": "stdout",
     "output_type": "stream",
     "text": [
      "{'color': 'green', 'points': 5}\n",
      "{'color': 'yellow', 'points': 10}\n",
      "{'color': 'red', 'points': 15}\n"
     ]
    }
   ],
   "source": [
    "alien_0 = {'color': 'green', 'points': 5}\n",
    "alien_1 = {'color': 'yellow', 'points': 10}\n",
    "alien_2 = {'color': 'red', 'points': 15}\n",
    "\n",
    "aliens = [alien_0, alien_1, alien_2]\n",
    "\n",
    "for alien in aliens:\n",
    "    print(alien)\n"
   ]
  },
  {
   "cell_type": "code",
   "execution_count": 172,
   "metadata": {},
   "outputs": [
    {
     "name": "stdout",
     "output_type": "stream",
     "text": [
      "{'color': 'green', 'points': 5, 'speed': 'slow'}\n",
      "{'color': 'green', 'points': 5, 'speed': 'slow'}\n",
      "{'color': 'green', 'points': 5, 'speed': 'slow'}\n",
      "{'color': 'green', 'points': 5, 'speed': 'slow'}\n",
      "{'color': 'green', 'points': 5, 'speed': 'slow'}\n",
      "...\n",
      "Total number of aliens: 30\n"
     ]
    }
   ],
   "source": [
    "aliens : list[Dict[str,str]] = []\n",
    "# Make 30 green aliens.\n",
    "for alien_number in range(30):\n",
    "    new_alien = {'color': 'green', 'points': 5, 'speed':'slow'}\n",
    "    aliens.append(new_alien)\n",
    "# Show the first 5 aliens.\n",
    "\n",
    "for alien in aliens[:5]:\n",
    "    print(alien)\n",
    "print(\"...\")\n",
    "# Show how many aliens have been created.\n",
    "print(f\"Total number of aliens: {len(aliens)}\")"
   ]
  },
  {
   "cell_type": "code",
   "execution_count": 175,
   "metadata": {},
   "outputs": [
    {
     "name": "stdout",
     "output_type": "stream",
     "text": [
      "{'color': 'yellow', 'points': 10, 'speed': 'medium'}\n",
      "{'color': 'yellow', 'points': 10, 'speed': 'medium'}\n",
      "{'color': 'yellow', 'points': 10, 'speed': 'medium'}\n",
      "{'color': 'green', 'points': 5, 'speed': 'slow'}\n",
      "{'color': 'green', 'points': 5, 'speed': 'slow'}\n",
      "...\n",
      "Total number of aliens: 30\n"
     ]
    }
   ],
   "source": [
    "aliens = []\n",
    "# Make 30 green aliens.\n",
    "for alien_number in range(30):\n",
    "    new_alien = {'color': 'green', 'points': 5, 'speed':'slow'}\n",
    "    aliens.append(new_alien)\n",
    "# Show the first 5 aliens.\n",
    "    \n",
    "\n",
    "for alien in aliens[:3]:\n",
    "    if alien['color'] == 'green':\n",
    "        alien['color'] = 'yellow'\n",
    "        alien['speed'] = 'medium'\n",
    "        alien['points'] = 10\n",
    "\n",
    "\n",
    "for alien in aliens[:5]:\n",
    "    print(alien)\n",
    "print(\"...\")\n",
    "# Show how many aliens have been created.\n",
    "print(f\"Total number of aliens: {len(aliens)}\")"
   ]
  },
  {
   "cell_type": "code",
   "execution_count": 187,
   "metadata": {},
   "outputs": [
    {
     "name": "stdout",
     "output_type": "stream",
     "text": [
      "{'color': 'yellow', 'speed': 'medium', 'points': 10}\n",
      "{'color': 'red', 'speed': 'fast', 'points': 15}\n",
      "{'color': 'white', 'speed': 'slow', 'points': 15}\n",
      "...\n",
      "Total number of aliens: 3\n"
     ]
    }
   ],
   "source": [
    "aliens = [\n",
    "    {'color': 'green', 'speed': 'slow', 'points': 5},\n",
    "    {'color': 'yellow', 'speed': 'medium', 'points': 10},\n",
    "    {'color': 'white', 'speed': 'slow', 'points': 15},\n",
    "    # Add more aliens as needed\n",
    "]\n",
    "\n",
    "\n",
    "# Update the properties of the first three aliens\n",
    "for alien in aliens[:5]:\n",
    "    if alien['color'] == 'green':\n",
    "        alien['color'] = 'yellow'\n",
    "        alien['speed'] = 'medium'\n",
    "        alien['points'] = 10\n",
    "    elif alien['color'] == 'yellow':\n",
    "        alien['color'] = 'red'\n",
    "        alien['speed'] = 'fast'\n",
    "        alien['points'] = 15  \n",
    "\n",
    "# Print the first five aliens\n",
    "for alien in aliens[:5]:\n",
    "     print(alien)\n",
    "\n",
    "print(\"...\")\n",
    "# Show how many aliens have been created.\n",
    "print(f\"Total number of aliens: {len(aliens)}\")\n"
   ]
  },
  {
   "cell_type": "code",
   "execution_count": 188,
   "metadata": {},
   "outputs": [
    {
     "name": "stdout",
     "output_type": "stream",
     "text": [
      "\n",
      "Jen's favorite languages are:\n",
      "\tPython\n",
      "\tRust\n",
      "\n",
      "Sarah's favorite languages are:\n",
      "\tC\n",
      "\n",
      "Edward's favorite languages are:\n",
      "\tRust\n",
      "\tGo\n",
      "\n",
      "Phil's favorite languages are:\n",
      "\tPython\n",
      "\tHaskell\n"
     ]
    }
   ],
   "source": [
    "favorite_languages = {\n",
    "   'jen': ['python', 'rust'],\n",
    "   'sarah': ['c'],\n",
    "    'edward': ['rust', 'go'],\n",
    "    'phil': ['python', 'haskell'],\n",
    "    }\n",
    "for name, languages in favorite_languages.items():\n",
    "    print(f\"\\n{name.title()}'s favorite languages are:\")\n",
    "    for language in languages:\n",
    "        print(f\"\\t{language.title()}\")"
   ]
  },
  {
   "cell_type": "markdown",
   "metadata": {},
   "source": [
    "## A Dictionary in a Dictionary\n",
    "\n",
    "* In Python, it is possible to nest dictionaries, meaning you can have a dictionary as a value within another dictionary. This is a powerful way to represent more complex data structures."
   ]
  },
  {
   "cell_type": "code",
   "execution_count": 192,
   "metadata": {},
   "outputs": [
    {
     "name": "stdout",
     "output_type": "stream",
     "text": [
      "\n",
      "Username: aeinstein\n",
      "\tFull name: Alberteinstein\n",
      "\tLocation: Princeton\n",
      "\n",
      "Username: mcurie\n",
      "\tFull name: Mariecurie\n",
      "\tLocation: Paris\n"
     ]
    }
   ],
   "source": [
    "users = {\n",
    "    'aeinstein': {\n",
    "        'first': 'albert',\n",
    "        'last': 'einstein',\n",
    "        'location': 'princeton',\n",
    "        },\n",
    "    'mcurie': {\n",
    "        'first': 'marie',\n",
    "        'last': 'curie',\n",
    "        'location': 'paris',\n",
    "        },\n",
    "    }\n",
    "\n",
    "\n",
    "for username, user_info in users.items():\n",
    "    print(f\"\\nUsername: {username}\")\n",
    "    full_name = f\"{user_info['first']}{user_info['last']}\"\n",
    "    location = user_info['location']\n",
    "    print(f\"\\tFull name: {full_name.title()}\")\n",
    "    print(f\"\\tLocation: {location.title()}\")"
   ]
  },
  {
   "cell_type": "code",
   "execution_count": 190,
   "metadata": {},
   "outputs": [
    {
     "name": "stdout",
     "output_type": "stream",
     "text": [
      "\n",
      "Username: aeinstein\n",
      "\tFull name: Albert Einstein\n",
      "\tLocation: Princeton\n",
      "\n",
      "Username: mcurie\n",
      "\tFull name: Marie Curie\n",
      "\tLocation: Paris\n"
     ]
    }
   ],
   "source": [
    "users = {\n",
    "    'aeinstein': {\n",
    "        'first': 'albert',\n",
    "        'last': 'einstein',\n",
    "        'location': 'princeton',\n",
    "    },\n",
    "    'mcurie': {\n",
    "        'first': 'marie',\n",
    "        'last': 'curie',\n",
    "        'location': 'paris',\n",
    "    },\n",
    "}\n",
    "\n",
    "for username, user_info in users.items():\n",
    "    print(f\"\\nUsername: {username}\")\n",
    "    full_name = f\"{user_info['first']} {user_info['last']}\"\n",
    "    location = user_info['location']\n",
    "    print(f\"\\tFull name: {full_name.title()}\")\n",
    "    print(f\"\\tLocation: {location.title()}\")\n"
   ]
  },
  {
   "cell_type": "markdown",
   "metadata": {},
   "source": [
    "# Question and Anwers"
   ]
  },
  {
   "cell_type": "markdown",
   "metadata": {},
   "source": [
    "# 1. Person: \n",
    "* Use a dictionary to store information about a person you know. Store their first name, last name, age, and the city in which they live. You should have keys such as\n",
    "* first_name, last_name, age, and city. Print each piece of information stored in your\n",
    "dictionary."
   ]
  },
  {
   "cell_type": "code",
   "execution_count": 80,
   "metadata": {},
   "outputs": [
    {
     "name": "stdout",
     "output_type": "stream",
     "text": [
      "{'first_name': 'Ahsan', 'Last_name': 'Hayat', 'Age': '26', 'City': 'Karachi'}\n"
     ]
    }
   ],
   "source": [
    "information : dict[str,str] = {\"first_name\":\"Ahsan\",\"Last_name\":\"Hayat\",\"Age\":\"26\",\"City\":\"Karachi\"}\n",
    "print(information)\n"
   ]
  },
  {
   "cell_type": "markdown",
   "metadata": {},
   "source": [
    " # 2. Favorite Numbers: \n",
    "* Use a dictionary to store people’s favorite numbers. Think of five names, and use them as keys in your dictionary. Think of a favorite number for each person, and store each as a value in your dictionary. Print each person’s name and their favorite number.\n",
    "* For even more fun, poll a few friends and get some actual data for your program.\n"
   ]
  },
  {
   "cell_type": "code",
   "execution_count": 29,
   "metadata": {},
   "outputs": [
    {
     "name": "stdout",
     "output_type": "stream",
     "text": [
      "{'Ahsan': 1, 'Ahmed': 2, 'Alam': 3, 'Waqas': 4, 'Bilal': 5}\n",
      "\n",
      "1\n"
     ]
    },
    {
     "data": {
      "text/plain": [
       "{1: 'Ahsan', 2: 'Ahmed', 3: 'Alam', 4: 'Waqas', 5: 'Bilal'}"
      ]
     },
     "execution_count": 29,
     "metadata": {},
     "output_type": "execute_result"
    }
   ],
   "source": [
    "favourite_numbers : dict[str,int] = {\"Ahsan\": 1, \"Ahmed\": 2, \"Alam\": 3, \"Waqas\": 4, \"Bilal\" : 5}\n",
    "print(favourite_numbers)\n",
    "print(f\"\\n{favourite_numbers['Ahsan']}\")\n",
    "\n",
    "info = {v:k for k,v in favourite_numbers.items()}\n",
    "\n",
    "info     \n",
    "\n",
    "  "
   ]
  },
  {
   "cell_type": "markdown",
   "metadata": {},
   "source": [
    "# 3. Glossary: \n",
    "* A Python dictionary can be used to model an actual dictionary. However, to avoid confusion, let’s call it a glossary.\n",
    "* Think of five programming words you’ve learned about in the previous chapters. Use these words as the keys in your glossary, and store their meanings as values.\n",
    "* Print each word and its meaning as neatly formatted output. You might print the word followed by a colon and then its meaning, or print the word on one line and then print its meaning indented on a second line.\n",
    "*  Use the newline character (\\n) to insert a blank line between each\n",
    "word-meaning pair in your output."
   ]
  },
  {
   "cell_type": "code",
   "execution_count": 122,
   "metadata": {},
   "outputs": [
    {
     "name": "stdout",
     "output_type": "stream",
     "text": [
      "Meaning of IF: If it is true, execute the block of code.\n",
      "Meaning of IF: If the preceding 'if' condition is false, check this condition.\n",
      "Meaning of IF: If both 'if' and 'elif' conditions are false, execute this block of code.\n"
     ]
    }
   ],
   "source": [
    "glossary: dict[str, str] = {\n",
    "    \"If\": \"If it is true, execute the block of code.\",\n",
    "    \"Elif\": \"If the preceding 'if' condition is false, check this condition.\",\n",
    "    \"Else\": \"If both 'if' and 'elif' conditions are false, execute this block of code.\"\n",
    "}\n",
    "\n",
    "\n",
    " \n",
    "print(f\"Meaning of IF: {glossary['If']}\")\n",
    "print(f\"Meaning of Elif: {glossary['Elif']}\")\n",
    "print(f\"Meaning of Else: {glossary['Else']}\")\n"
   ]
  },
  {
   "cell_type": "markdown",
   "metadata": {},
   "source": [
    "# 4.Glossary: \n",
    "* Now that you know how to loop through a dictionary, clean up the code from above code by replacing your series of print() calls with a loop that runs through the dictionary’s keys and values. When you’re sure that your loop works, add five more Python terms to your glossary. \n",
    "* When you run your program again, these new words and meanings\n",
    "should automatically be included in the output.\n"
   ]
  },
  {
   "cell_type": "code",
   "execution_count": 157,
   "metadata": {},
   "outputs": [
    {
     "name": "stdout",
     "output_type": "stream",
     "text": [
      "Word : If\n",
      " Meaning : If it is true, execute the block of code.\n",
      "Word : Elif\n",
      " Meaning : If the preceding 'if' condition is false, check this condition.\n",
      "Word : Else\n",
      " Meaning : If both 'if' and 'elif' conditions are false, execute this block of code.\n",
      "Word : For\n",
      " Meaning : For iterates over the objects and performs loop.\n",
      "Word : Break\n",
      " Meaning : Stops the iteration\n",
      "Word : Pass\n",
      " Meaning : Start the iterion\n"
     ]
    }
   ],
   "source": [
    "glossary: dict[str, str] = {\n",
    "    \"If\": \"If it is true, execute the block of code.\",\n",
    "    \"Elif\": \"If the preceding 'if' condition is false, check this condition.\",\n",
    "    \"Else\": \"If both 'if' and 'elif' conditions are false, execute this block of code.\",\n",
    "    \"For\" : \"For iterates over the objects and performs loop.\",\n",
    "    \"Break\": \"Stops the iteration.\",\n",
    "    \"Pass\" : \"Start the iterion.\"\n",
    "}\n",
    "\n",
    "for k,v in glossary.items():\n",
    "    print(f\"Word : {k}\\n Meaning : {v}\")"
   ]
  },
  {
   "cell_type": "markdown",
   "metadata": {},
   "source": [
    "# 5. Rivers: \n",
    "* Make a dictionary containing three major rivers and the country each river runs through. One key-value pair might be 'nile': 'egypt'.\n",
    "* Use a loop to print a sentence about each river, such as The Nile runs through Egypt.\n",
    "* Use a loop to print the name of each river included in the dictionary.\n",
    "* Use a loop to print the name of each country included in the dictionary."
   ]
  },
  {
   "cell_type": "code",
   "execution_count": 158,
   "metadata": {},
   "outputs": [
    {
     "name": "stdout",
     "output_type": "stream",
     "text": [
      "The Nile runs through Egypt.\n",
      "The Amazon runs through Brazil.\n",
      "The Yangtze runs through China.\n",
      "The Mississippi runs through United States.\n",
      "The Danube runs through Germany.\n"
     ]
    }
   ],
   "source": [
    "rivers_and_countries = {\n",
    "    'Nile': 'Egypt',\n",
    "    'Amazon': 'Brazil',\n",
    "    'Yangtze': 'China',\n",
    "    'Mississippi': 'United States',\n",
    "    'Danube': 'Germany',\n",
    "}    \n",
    "\n",
    "\n",
    "for k,v in rivers_and_countries.items():\n",
    "    print(f\"The {k} runs through {v}.\")\n"
   ]
  },
  {
   "cell_type": "markdown",
   "metadata": {},
   "source": [
    "# 6. Polling:\n",
    "* Make a list of people who should take the favorite languages poll. Include some names that are already in the dictionary and some that are not.\n",
    "* Loop through the list of people who should take the poll. If they have already taken the poll,\n",
    "* print a message thanking them for responding. If they have not yet taken the poll, print a message inviting them to take the poll."
   ]
  },
  {
   "cell_type": "code",
   "execution_count": 165,
   "metadata": {},
   "outputs": [
    {
     "name": "stdout",
     "output_type": "stream",
     "text": [
      "favorite_languages Poll:\n",
      "\n",
      "Ahsan invited to take the poll.\n",
      "\n",
      "Ahmed invited to take the poll.\n",
      "\n",
      "jen thankyou for responding.\n",
      "\n",
      "edward thankyou for responding.\n",
      "\n"
     ]
    }
   ],
   "source": [
    "print(\"favorite_languages Poll:\\n\")\n",
    "\n",
    "names : list = [\"Ahsan\",\"Ahmed\",\"jen\",\"edward\"]\n",
    "\n",
    "favorite_languages = {\n",
    "    'jen': 'python',\n",
    "    'sarah': 'c',\n",
    "    'edward': 'rust',\n",
    "    'phil': 'python',\n",
    "    }\n",
    "\n",
    "for name in names:\n",
    "    if name in favorite_languages:\n",
    "        print(f\"{name} thankyou for responding.\\n\")\n",
    "    else:\n",
    "        print(f\"{name} invited to take the poll.\\n\")    \n",
    "\n",
    "\n",
    "\n"
   ]
  },
  {
   "cell_type": "markdown",
   "metadata": {},
   "source": [
    "# 7. People: \n",
    "* Start with the program you wrote for the above code. Make two new dictionaries representing different people, and store all three dictionaries in a list called people.\n",
    "* Loop through your list of people. As you loop through the list, print everything you know about\n",
    "each person."
   ]
  },
  {
   "cell_type": "code",
   "execution_count": 20,
   "metadata": {},
   "outputs": [
    {
     "name": "stdout",
     "output_type": "stream",
     "text": [
      "Info of the required  persons:\n",
      " {'name': 'ahsan', 'rollno': 1, 'Gmail': 'Ahsanhayat9071@gamil.com'}\n",
      "\n",
      "Info of the required  persons:\n",
      " {'name': 'alam', 'rollno': 2, 'Gmail': 'AlamHussaain@gamil.com'}\n",
      "\n",
      "Info of the required  persons:\n",
      " {'name': 'raheem', 'rollno': 3, 'Gmail': 'AbdulRaheem@gamil.com'}\n",
      "\n"
     ]
    }
   ],
   "source": [
    "\n",
    "\n",
    "data : dict[str,str] = {\"name\":\"ahsan\",\"rollno\":\"1\",\"Gmail\":\"Ahsanhayat9071@gamil.com\"}\n",
    "data2 : dict[str,str] = {\"name\":\"alam\",\"rollno\":\"2\",\"Gmail\":\"AlamHussaain@gamil.com\"}\n",
    "data3 : dict[str,str] = {\"name\":\"raheem\",\"rollno\":\"3\",\"Gmail\":\"AbdulRaheem@gamil.com\"}\n",
    "\n",
    "all_info : list[dict[str,str,]] = [data,data2,data3]\n",
    "\n",
    "for all in all_info:\n",
    "    print(f\"Info of the required  persons:\\n {all}\\n\")\n",
    "\n"
   ]
  },
  {
   "cell_type": "markdown",
   "metadata": {},
   "source": [
    "# 8. Pets:\n",
    "* Make several dictionaries, where each dictionary represents a different pet. In each dictionary, include the kind of animal and the owner’s name. Store these dictionaries in a list called pets. \n",
    "* Next, loop through your list and as you do, print everything you know about each\n",
    "pet.\n"
   ]
  },
  {
   "cell_type": "code",
   "execution_count": 22,
   "metadata": {},
   "outputs": [
    {
     "name": "stdout",
     "output_type": "stream",
     "text": [
      "Animals info: \n",
      "{'Pet name': 'Charlie', 'Owner name': 'Mawaz'}\n",
      "\n",
      "Animals info: \n",
      "{'Pet name': 'Tommy', 'Owner name': 'Raheem'}\n",
      "\n",
      "Animals info: \n",
      "{'Pet name': 'Mano', 'Owner name': 'Ahsan'}\n",
      "\n",
      "Animals info: \n",
      "{'Pet name': 'Billu', 'Owner name': 'Saad'}\n",
      "\n"
     ]
    }
   ],
   "source": [
    "pet_info : dict[str,str] = {\"Pet name\" : \"Charlie\", \"Owner name\": \"Mawaz\"}\n",
    "pet_info2 : dict[str,str] = { \"Pet name\" : \"Tommy\", \"Owner name\": \"Raheem\"}\n",
    "pet_info3 : dict[str,str] = { \"Pet name\" : \"Mano\", \"Owner name\": \"Ahsan\"}\n",
    "pet_info4 : dict[str,str] = { \"Pet name\" : \"Billu\", \"Owner name\": \"Saad\"}\n",
    "\n",
    "pets : list[dict[str,str]] = [pet_info, pet_info2, pet_info3, pet_info4]\n",
    "\n",
    "for pet in pets :\n",
    "    print(f\"Animals info: \\n{pet}\\n\")"
   ]
  },
  {
   "cell_type": "markdown",
   "metadata": {},
   "source": [
    "# 9. Favorite Places: \n",
    "* Make a dictionary called favorite_places. Think of three names to use as keys in the dictionary, and store one to three favorite places for each person. \n",
    "* To make this exercise a bit more interesting, ask some friends to name a few of their favorite places. \n",
    "* Loop through the dictionary, and print each person’s name and their favorite places."
   ]
  },
  {
   "cell_type": "code",
   "execution_count": 28,
   "metadata": {},
   "outputs": [
    {
     "name": "stdout",
     "output_type": "stream",
     "text": [
      "His name is, Ahmed and he likes to visit : Turkey\n",
      "His name is, Saud and he likes to visit : Dubai\n",
      "His name is, Rehan and he likes to visit : America\n"
     ]
    }
   ],
   "source": [
    "favourite_places : dict[str,str] = {\"Ahmed\" : \"Turkey\", \"Saud\" : \"Dubai\", \"Rehan\" : \"America\"}\n",
    "for n,p in favourite_places.items():\n",
    "    print(f\"His name is, {n} and he likes to visit : {p}\")\n"
   ]
  },
  {
   "cell_type": "markdown",
   "metadata": {},
   "source": [
    "# 10. Favorite Numbers: \n",
    "* Modify your program from the above code so each person can have more than one favorite number.\n",
    "*  Then print each person’s name along with their favorite numbers."
   ]
  },
  {
   "cell_type": "code",
   "execution_count": 38,
   "metadata": {},
   "outputs": [
    {
     "name": "stdout",
     "output_type": "stream",
     "text": [
      "The name of the person is, Ahsan and number of that person is 1, 2, 3\n",
      "The name of the person is, Ahmed and number of that person is 4, 5, 6\n",
      "The name of the person is, Alam and number of that person is 7, 8, 9\n",
      "The name of the person is, Waqas and number of that person is 10, 11, 12\n",
      "The name of the person is, Bilal and number of that person is 13, 14, 15\n"
     ]
    }
   ],
   "source": [
    "favourite_numbers : dict[str,list[int]] = {\"Ahsan\": [1,2,3], \"Ahmed\": [4,5,6], \"Alam\": [7,8,9], \"Waqas\": [10,11,12], \"Bilal\" : [13,14,15]}\n",
    "for name,number in favourite_numbers.items():\n",
    "    numbers_str = str(number)[1:-1]  \n",
    "    print(f\"The name of the person is, {name} and number of that person is {numbers_str}\")\n"
   ]
  },
  {
   "cell_type": "markdown",
   "metadata": {},
   "source": [
    "# 11. Cities:\n",
    "* Make a dictionary called cities. Use the names of three cities as keys in your dictionary. \n",
    "* Create a dictionary of information about each city and include the country that the city is in, its approximate population, and one fact about that city. \n",
    "* The keys for each city’s dictionary should be something like country, population, and fact. Print the name of each\n",
    "city and all of the information you have stored about it."
   ]
  },
  {
   "cell_type": "code",
   "execution_count": 41,
   "metadata": {},
   "outputs": [
    {
     "name": "stdout",
     "output_type": "stream",
     "text": [
      "The City name is, Karachi\n",
      "\n",
      "The country name is, Pakisatn\n",
      "\n",
      "The Total Population, 16 Million\n",
      "\n",
      "The Fact about the country, Industrail and financial centre of the country.\n",
      "\n",
      "The City name is, NewnYork\n",
      "\n",
      "The country name is, America\n",
      "\n",
      "The Total Population, 8.8 Million\n",
      "\n",
      "The Fact about the country, It have diversity,multiculturalism and immigrant tradition.\n",
      "\n",
      "The City name is, Mumbai\n",
      "\n",
      "The country name is, India\n",
      "\n",
      "The Total Population, 20 Million\n",
      "\n",
      "The Fact about the country, Famous for Bollywood Industry\n",
      "\n"
     ]
    }
   ],
   "source": [
    "cities : dict[str,dict[str,str]] = {\n",
    "    \"Karachi\": {\"Country\" : \"Pakisatn\", \"Population\" : \"16 Million\", \"Fact\" :\"Industrail and financial centre of the country.\"},\n",
    "    \"NewnYork\" : {\"Country\" : \"America\", \"Population\" : \"8.8 Million\", \"Fact\" :\"It have diversity,multiculturalism and immigrant tradition.\"},\n",
    "    \"Mumbai\"   : {\"Country\" : \"India\", \"Population\" : \"20 Million\", \"Fact\" :\"Famous for Bollywood Industry\"},\n",
    "}                       \n",
    "\n",
    "for city,info  in cities.items():\n",
    "    print(f\"The City name is, {city}\\n\")\n",
    "    print(f\"The country name is, {info['Country']}\\n\")\n",
    "    print(f\"The Total Population, {info['Population']}\\n\")\n",
    "    print(f\"The Fact about the country, {info['Fact']}\\n\")\n",
    "\n",
    "\n",
    "\n",
    "\n",
    "\n"
   ]
  },
  {
   "cell_type": "markdown",
   "metadata": {},
   "source": [
    "# 12.Extensions:\n",
    "* We’re now working with examples that are complex enough that they can be extended in any number of ways. \n",
    "* Use one of the example programs from this chapter, and extend it by adding new keys and values, changing the context of the program, or improving the formatting of the output."
   ]
  },
  {
   "cell_type": "code",
   "execution_count": 61,
   "metadata": {},
   "outputs": [
    {
     "name": "stdout",
     "output_type": "stream",
     "text": [
      "{'Age': 30, 'Language': 'Urdu', 'Education': 'Bs Financial Mathematics'}\n",
      "{'Age': 30, 'Language': 'Urdu', 'Education': 'Bs Financial Mathematics'}\n",
      "{'Age': 30, 'Language': 'Urdu', 'Education': 'Bs Financial Mathematics'}\n",
      "{'Age': 26, 'Language': 'English', 'Education': 'BS Computer Science'}\n",
      "{'Age': 26, 'Language': 'English', 'Education': 'BS Computer Science'}\n",
      "...\n",
      "Total number of aliens: 10\n"
     ]
    }
   ],
   "source": [
    "datas = []\n",
    "# Make 10 data.\n",
    "for data in range(10):\n",
    "    new_data = {'Age': 26, 'Language': 'English', 'Education':'BS Computer Science'}\n",
    "    datas.append(new_data)\n",
    "# Show the first 5 data.\n",
    "\n",
    "for d in datas[:3]:\n",
    "    if d['Age'] == 26:\n",
    "       d['Age'] = 30\n",
    "       d['Language'] = 'Urdu'\n",
    "       d['Education'] = 'Bs Financial Mathematics'\n",
    "\n",
    "\n",
    "for d in datas[:5]:\n",
    "    print(d)        \n",
    "print(\"...\")\n",
    "# Show how many data have been created.\n",
    "print(f\"Total number of aliens: {len(datas)}\")"
   ]
  }
 ],
 "metadata": {
  "kernelspec": {
   "display_name": "python13",
   "language": "python",
   "name": "python3"
  },
  "language_info": {
   "codemirror_mode": {
    "name": "ipython",
    "version": 3
   },
   "file_extension": ".py",
   "mimetype": "text/x-python",
   "name": "python",
   "nbconvert_exporter": "python",
   "pygments_lexer": "ipython3",
   "version": "3.12.0"
  }
 },
 "nbformat": 4,
 "nbformat_minor": 2
}
