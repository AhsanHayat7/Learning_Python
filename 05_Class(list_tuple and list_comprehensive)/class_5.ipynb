{
 "cells": [
  {
   "cell_type": "markdown",
   "metadata": {},
   "source": [
    "# List\n",
    "* iteration operation with loop\n",
    "* apply any operation on element\n",
    "## Iteration Operations with Loops and Element-wise Operations\n",
    "\n",
    "## Introduction\n",
    "\n",
    "In programming, iteration refers to the process of repeatedly executing a set of statements. Loops are commonly used for this purpose, allowing us to iterate over a collection of elements and perform operations on each element. This guide will cover basic iteration operations using loops and demonstrate how to apply operations on individual elements.\n",
    "\n",
    "## 1. Iteration Operations with Loops\n",
    "\n",
    "### 1.1 For Loop\n",
    "\n",
    "The `for` loop is widely used for iterating over a sequence (e.g., a list, tuple, or range) and executing a block of code for each element.\n",
    "\n",
    "```python\n",
    "for element in iterable:\n",
    "    # Code to be executed for each element\n"
   ]
  },
  {
   "cell_type": "code",
   "execution_count": 1,
   "metadata": {},
   "outputs": [
    {
     "name": "stdout",
     "output_type": "stream",
     "text": [
      "['Saad', 'Daniyal', 'Haseeb']\n"
     ]
    }
   ],
   "source": [
    "names : list[str] = [\"Saad\",\"Daniyal\",\"Haseeb\"]\n",
    "print(names)"
   ]
  },
  {
   "cell_type": "code",
   "execution_count": 2,
   "metadata": {},
   "outputs": [
    {
     "name": "stdout",
     "output_type": "stream",
     "text": [
      "Saad\n",
      "Daniyal\n",
      "Haseeb\n"
     ]
    }
   ],
   "source": [
    "names : list[str] = [\"Saad\",\"Daniyal\",\"Haseeb\"] # python make it easy for the users\n",
    "\n",
    "for name in names:\n",
    "    print(name)"
   ]
  },
  {
   "cell_type": "markdown",
   "metadata": {},
   "source": [
    "```\n",
    "names = [\"Saad\",\"Daniyal\",\"Haseeb\"]\n",
    "\n",
    "for(i=0; i<names.length; i++){\n",
    "    names[i]\n",
    "}\n",
    "\n",
    "```\n",
    "* java script type\n",
    "\n"
   ]
  },
  {
   "cell_type": "code",
   "execution_count": 4,
   "metadata": {},
   "outputs": [
    {
     "name": "stdout",
     "output_type": "stream",
     "text": [
      "Saad\n",
      "Daniyal\n",
      "Haseeb\n"
     ]
    }
   ],
   "source": [
    "names = [\"Saad\",\"Daniyal\",\"Haseeb\"] # old ways to do coding in python\n",
    "\n",
    "i = 0 # counter\n",
    "\n",
    "while i<len(names): # name length\n",
    "    print(names[i])\n",
    "    i +=1"
   ]
  },
  {
   "cell_type": "code",
   "execution_count": 14,
   "metadata": {},
   "outputs": [
    {
     "name": "stdout",
     "output_type": "stream",
     "text": [
      "welcome to Karachi Saad\n",
      "have a save visit\n",
      "\n",
      "welcome to Karachi Daniyal\n",
      "have a save visit\n",
      "\n",
      "welcome to Karachi Haseeb\n",
      "have a save visit\n",
      "\n",
      "Pakistan Zindabad\n"
     ]
    }
   ],
   "source": [
    "for name in names:\n",
    "    print(f\"welcome to Karachi {name.title()}\")\n",
    "    print(\"have a save visit\\n\")\n",
    "print(\"Pakistan Zindabad\")    "
   ]
  },
  {
   "cell_type": "code",
   "execution_count": 22,
   "metadata": {},
   "outputs": [
    {
     "name": "stdout",
     "output_type": "stream",
     "text": [
      "welcome to Karachi Saad\n",
      "have a save visit\n",
      "\n",
      "welcome to Karachi Daniyal\n",
      "have a save visit\n",
      "\n",
      "Pakistan Zindabad\n"
     ]
    }
   ],
   "source": [
    "names : list[str] = [\"Saad\",\"Daniyal\",\"Haseeb\"] # python make it easy for the users\n",
    "\n",
    "for name in names[:2]:\n",
    "    print(f\"welcome to Karachi {name.title()}\")\n",
    "    print(\"have a save visit\\n\")\n",
    "print(\"Pakistan Zindabad\") "
   ]
  },
  {
   "cell_type": "code",
   "execution_count": 24,
   "metadata": {},
   "outputs": [
    {
     "name": "stdout",
     "output_type": "stream",
     "text": [
      "welcome to Karachi Saad\n",
      "have a save visit\n",
      "\n",
      "Pakistan Zindabad\n",
      "\n",
      "welcome to Karachi Daniyal\n",
      "have a save visit\n",
      "\n",
      "Pakistan Zindabad\n",
      "\n",
      "welcome to Karachi Haseeb\n",
      "have a save visit\n",
      "\n",
      "Pakistan Zindabad\n",
      "\n"
     ]
    }
   ],
   "source": [
    "names : list[str] = [\"Saad\",\"Daniyal\",\"Haseeb\"] # python make it easy for the users\n",
    "\n",
    "for name in names:\n",
    "    print(f\"welcome to Karachi {name.title()}\")\n",
    "    print(\"have a save visit\\n\")\n",
    "    print(\"Pakistan Zindabad\\n\") "
   ]
  },
  {
   "cell_type": "markdown",
   "metadata": {},
   "source": [
    "* The code initializes a `data_base` list containing tuples. Each tuple represents user data with the first element being the username and the second element being the password.\n",
    "\n"
   ]
  },
  {
   "cell_type": "code",
   "execution_count": 30,
   "metadata": {},
   "outputs": [
    {
     "name": "stdout",
     "output_type": "stream",
     "text": [
      "('haseeb', '123')\n",
      "('daniyal', '345')\n",
      "('saad', '123')\n"
     ]
    }
   ],
   "source": [
    "data_base : list[tuple[str,str]] = [(\"haseeb\",\"123\"),\n",
    "                                    (\"daniyal\",\"345\"),\n",
    "                                    (\"saad\",\"123\")\n",
    "                                    ]\n",
    "for row in data_base:\n",
    "    print(row)"
   ]
  },
  {
   "cell_type": "code",
   "execution_count": 34,
   "metadata": {},
   "outputs": [
    {
     "name": "stdout",
     "output_type": "stream",
     "text": [
      "haseeb 123\n",
      "daniyal 345\n",
      "saad 123\n"
     ]
    }
   ],
   "source": [
    "data_base : list[tuple[str,str]] = [(\"haseeb\",\"123\"),\n",
    "                                    (\"daniyal\",\"345\"),\n",
    "                                    (\"saad\",\"123\")\n",
    "                                    ]\n",
    "\n",
    "input_user : str = input(\"Enter your name\")\n",
    "input_password : str = input(\"Enter your password\")\n",
    "\n",
    "for row in data_base:\n",
    "    user,password = row\n",
    "    print(user,password)"
   ]
  },
  {
   "cell_type": "code",
   "execution_count": 39,
   "metadata": {},
   "outputs": [
    {
     "name": "stdout",
     "output_type": "stream",
     "text": [
      "Not found or Invalid user name\n"
     ]
    }
   ],
   "source": [
    "data_base : list[tuple[str,str]] = [(\"haseeb\",\"123\"),\n",
    "                                    (\"daniyal\",\"345\"),\n",
    "                                    (\"saad\",\"123\")\n",
    "                                    ]\n",
    "\n",
    "input_user : str = input(\"Enter your name\")\n",
    "input_password : str = input(\"Enter your password\")\n",
    "\n",
    "for row in data_base:\n",
    "    user, password = row\n",
    "    if input_user == user and  input_password == password:\n",
    "        print(\"Valid user\")\n",
    "        break\n",
    "else:\n",
    "    print(\"Not found or Invalid user name\")    "
   ]
  },
  {
   "cell_type": "code",
   "execution_count": 43,
   "metadata": {},
   "outputs": [
    {
     "name": "stdout",
     "output_type": "stream",
     "text": [
      "Valid user: saad\n",
      " Valid password: 123\n"
     ]
    }
   ],
   "source": [
    "data_base : list[tuple[str,str]] = [(\"haseeb\",\"123\"),\n",
    "                                    (\"daniyal\",\"345\"),\n",
    "                                    (\"saad\",\"123\")\n",
    "                                    ]\n",
    "\n",
    "input_user : str = input(\"Enter your name\")\n",
    "input_password : str = input(\"Enter your password\")\n",
    "\n",
    "for row in data_base:\n",
    "    user, password = row\n",
    "    if input_user == user and  input_password == password:\n",
    "        print(f\"Valid user: {user}\\n Valid password: {password}\")\n",
    "        break\n",
    "else:\n",
    "    print(\"Not found or Invalid user name\")   "
   ]
  },
  {
   "cell_type": "code",
   "execution_count": 45,
   "metadata": {},
   "outputs": [
    {
     "name": "stdout",
     "output_type": "stream",
     "text": [
      "Alice, that was a great trick!\n",
      "I can't wait to see your next trick,Alice.\n",
      "\n",
      "David, that was a great trick!\n",
      "I can't wait to see your next trick,David.\n",
      "\n",
      "Carolina, that was a great trick!\n",
      "I can't wait to see your next trick,Carolina.\n",
      "\n"
     ]
    }
   ],
   "source": [
    "magicians : list[str]= ['alice', 'david', 'carolina']\n",
    "for magician in magicians:\n",
    "    print(f\"{magician.title()}, that was a great trick!\")\n",
    "    print(f\"I can't wait to see your next trick,{magician.title()}.\\n\")\n"
   ]
  },
  {
   "cell_type": "code",
   "execution_count": 46,
   "metadata": {},
   "outputs": [
    {
     "name": "stdout",
     "output_type": "stream",
     "text": [
      "Alice, that was a great trick!\n",
      "David, that was a great trick!\n",
      "Carolina, that was a great trick!\n",
      "I can't wait to see your next trick,Carolina.\n",
      "\n"
     ]
    }
   ],
   "source": [
    "magicians : list[str]= ['alice', 'david', 'carolina']\n",
    "for magician in magicians:\n",
    "    print(f\"{magician.title()}, that was a great trick!\")\n",
    "\n",
    "print(f\"I can't wait to see your next trick,{magician.title()}.\\n\") # we can access the last iteration of the body outisde the loop like carolina\n"
   ]
  },
  {
   "cell_type": "code",
   "execution_count": 47,
   "metadata": {},
   "outputs": [
    {
     "name": "stdout",
     "output_type": "stream",
     "text": [
      "Alice, that was a great trick!\n",
      "I can't wait to see your next trick,Alice.\n",
      "\n",
      "David, that was a great trick!\n",
      "I can't wait to see your next trick,David.\n",
      "\n",
      "Carolina, that was a great trick!\n",
      "I can't wait to see your next trick,Carolina.\n",
      "\n",
      "Thank you everyone, that was a great magic show!\n"
     ]
    }
   ],
   "source": [
    "magicians = ['alice', 'david', 'carolina']\n",
    "for magician in magicians:\n",
    "    print(f\"{magician.title()}, that was a great trick!\")\n",
    "    print(f\"I can't wait to see your next trick,{magician.title()}.\\n\")\n",
    "print(\"Thank you everyone, that was a great magic show!\")"
   ]
  },
  {
   "cell_type": "code",
   "execution_count": 54,
   "metadata": {},
   "outputs": [
    {
     "data": {
      "text/plain": [
       "[(0, 'alice'), (1, 'david'), (2, 'carolina')]"
      ]
     },
     "execution_count": 54,
     "metadata": {},
     "output_type": "execute_result"
    }
   ],
   "source": [
    "#               0        1         2\n",
    "magicians = ['alice', 'david', 'carolina']\n",
    "\n",
    "list(enumerate (magicians))"
   ]
  },
  {
   "cell_type": "code",
   "execution_count": 57,
   "metadata": {},
   "outputs": [
    {
     "name": "stdout",
     "output_type": "stream",
     "text": [
      "0 alice\n",
      "1 david\n",
      "2 carolina\n"
     ]
    }
   ],
   "source": [
    "#               0        1         2\n",
    "magicians = ['alice', 'david', 'carolina']\n",
    "\n",
    "for index, name in (enumerate (magicians)):\n",
    "    print(index,name)"
   ]
  },
  {
   "cell_type": "markdown",
   "metadata": {},
   "source": [
    "# Number with loop\n",
    "* `range(start,end,step)`\n",
    "\n",
    "## Iterating with Numbers in a Loop in Python\n",
    "\n",
    "In Python, loops are a fundamental programming construct used for iterating over a sequence of elements. Often, loops involve the use of numbers to control the iteration, and this can be achieved using built-in functions like `range()`.\n",
    "\n",
    "## Basic Loop with Numbers\n",
    "\n",
    "The `range()` function is commonly used to generate a sequence of numbers that can be iterated in a loop.\n",
    "\n",
    "```python\n",
    "# Example of a basic loop with numbers\n",
    "for i in range(5):\n",
    "    print(i)\n"
   ]
  },
  {
   "cell_type": "code",
   "execution_count": 48,
   "metadata": {},
   "outputs": [
    {
     "data": {
      "text/plain": [
       "range(0, 10)"
      ]
     },
     "execution_count": 48,
     "metadata": {},
     "output_type": "execute_result"
    }
   ],
   "source": [
    "range(10)"
   ]
  },
  {
   "cell_type": "code",
   "execution_count": 49,
   "metadata": {},
   "outputs": [
    {
     "data": {
      "text/plain": [
       "[0, 1, 2, 3, 4, 5, 6, 7, 8, 9]"
      ]
     },
     "execution_count": 49,
     "metadata": {},
     "output_type": "execute_result"
    }
   ],
   "source": [
    "list(range(10)) # starting = 0  and ending = n-1"
   ]
  },
  {
   "cell_type": "code",
   "execution_count": 51,
   "metadata": {},
   "outputs": [
    {
     "data": {
      "text/plain": [
       "[2, 3, 4, 5, 6, 7, 8, 9]"
      ]
     },
     "execution_count": 51,
     "metadata": {},
     "output_type": "execute_result"
    }
   ],
   "source": [
    "list(range(2,10))"
   ]
  },
  {
   "cell_type": "code",
   "execution_count": 52,
   "metadata": {},
   "outputs": [
    {
     "data": {
      "text/plain": [
       "[2, 4, 6, 8]"
      ]
     },
     "execution_count": 52,
     "metadata": {},
     "output_type": "execute_result"
    }
   ],
   "source": [
    "list(range(2,10,2))"
   ]
  },
  {
   "cell_type": "code",
   "execution_count": 53,
   "metadata": {},
   "outputs": [
    {
     "data": {
      "text/plain": [
       "[2, 4, 6, 8, 10, 12, 14, 16, 18, 20]"
      ]
     },
     "execution_count": 53,
     "metadata": {},
     "output_type": "execute_result"
    }
   ],
   "source": [
    "list(range(2,21,2))"
   ]
  },
  {
   "cell_type": "code",
   "execution_count": 58,
   "metadata": {},
   "outputs": [
    {
     "name": "stdout",
     "output_type": "stream",
     "text": [
      "2 * 1 = 2\n",
      "2 * 2 = 4\n",
      "2 * 3 = 6\n",
      "2 * 4 = 8\n",
      "2 * 5 = 10\n",
      "2 * 6 = 12\n",
      "2 * 7 = 14\n",
      "2 * 8 = 16\n",
      "2 * 9 = 18\n",
      "2 * 10 = 20\n"
     ]
    }
   ],
   "source": [
    "for n in range(1,11):\n",
    "    print(f\"{2} * {n} = {n*2}\")"
   ]
  },
  {
   "cell_type": "code",
   "execution_count": 60,
   "metadata": {},
   "outputs": [
    {
     "name": "stdout",
     "output_type": "stream",
     "text": [
      "[1, 4, 9, 16, 25, 36, 49, 64, 81, 100]\n"
     ]
    }
   ],
   "source": [
    "squares : list[int] = []\n",
    "for value in range(1, 11):\n",
    "     square = value ** 2\n",
    "     squares.append(square)\n",
    "print(squares)\n"
   ]
  },
  {
   "cell_type": "markdown",
   "metadata": {},
   "source": [
    "## List comprehension\n",
    "```\n",
    "for item in item_list:\n",
    "    loop_body\n",
    "```   \n",
    "\n",
    "## List comprehension style\n",
    "```\n",
    "[loop_body for item in item_list]\n",
    "```\n",
    "# List Comprehensions in Python\n",
    "\n",
    "List comprehensions provide a concise and expressive way to create lists in Python. They offer a more compact syntax for generating lists compared to traditional for loops.\n",
    "\n",
    "## Basic Syntax\n",
    "\n",
    "The basic structure of a list comprehension consists of an expression followed by a `for` loop inside square brackets `[]`.\n",
    "\n",
    "```python\n",
    "# Example of a basic list comprehension\n",
    "squares = [x**2 for x in range(5)]\n",
    "```"
   ]
  },
  {
   "cell_type": "code",
   "execution_count": 62,
   "metadata": {},
   "outputs": [
    {
     "data": {
      "text/plain": [
       "[1, 2, 3, 4, 5, 6, 7, 8, 9, 10]"
      ]
     },
     "execution_count": 62,
     "metadata": {},
     "output_type": "execute_result"
    }
   ],
   "source": [
    "list(range(1,11))"
   ]
  },
  {
   "cell_type": "code",
   "execution_count": 64,
   "metadata": {},
   "outputs": [
    {
     "name": "stdout",
     "output_type": "stream",
     "text": [
      "1\n",
      "4\n",
      "9\n",
      "16\n",
      "25\n",
      "36\n",
      "49\n",
      "64\n",
      "81\n",
      "100\n"
     ]
    }
   ],
   "source": [
    "for i in range(1,11):\n",
    "    print(i**2)"
   ]
  },
  {
   "cell_type": "code",
   "execution_count": 65,
   "metadata": {},
   "outputs": [
    {
     "data": {
      "text/plain": [
       "[1, 4, 9, 16, 25, 36, 49, 64, 81, 100]"
      ]
     },
     "execution_count": 65,
     "metadata": {},
     "output_type": "execute_result"
    }
   ],
   "source": [
    "[(i**2)  for i in range(1,11)]"
   ]
  },
  {
   "cell_type": "code",
   "execution_count": 66,
   "metadata": {},
   "outputs": [
    {
     "data": {
      "text/plain": [
       "'line3'"
      ]
     },
     "execution_count": 66,
     "metadata": {},
     "output_type": "execute_result"
    }
   ],
   "source": [
    "\"line1\"\n",
    "\"line2 \"\n",
    "\"line3\" # always return last line"
   ]
  },
  {
   "cell_type": "code",
   "execution_count": 67,
   "metadata": {},
   "outputs": [
    {
     "name": "stdout",
     "output_type": "stream",
     "text": [
      "line1\n",
      "line2\n",
      "line3\n"
     ]
    }
   ],
   "source": [
    "print(\"line1\")\n",
    "print(\"line2\")\n",
    "print(\"line3\") # that why we use print to "
   ]
  },
  {
   "cell_type": "code",
   "execution_count": 70,
   "metadata": {},
   "outputs": [
    {
     "name": "stdout",
     "output_type": "stream",
     "text": [
      "[1, 2, 3, 4, 5, 6, 7, 8, 9, 0]\n",
      "9\n",
      "0\n",
      "45\n"
     ]
    }
   ],
   "source": [
    "digits : list[int] = [1,2,3,4,5,6,7,8,9,0]\n",
    "print(digits)\n",
    "print(max(digits))\n",
    "print(min(digits))\n",
    "print(sum(digits))"
   ]
  },
  {
   "cell_type": "code",
   "execution_count": 73,
   "metadata": {},
   "outputs": [
    {
     "name": "stdout",
     "output_type": "stream",
     "text": [
      "['pizza', 'falafel', 'carrot cake']\n",
      "['pizza', 'falafel', 'carrot cake']\n",
      "['pizza', 'falafel', 'carrot cake']\n",
      "['Tikka', 'falafel', 'carrot cake']\n"
     ]
    }
   ],
   "source": [
    "my_foods = ['pizza', 'falafel', 'carrot cake']\n",
    "friend_foods = my_foods[:] # Deep copy in slicing\n",
    "\n",
    "print(my_foods)\n",
    "print(friend_foods)\n",
    "friend_foods[0] = \"Tikka\"\n",
    "\n",
    "print(my_foods)\n",
    "print(friend_foods)"
   ]
  },
  {
   "cell_type": "markdown",
   "metadata": {},
   "source": [
    "# Tuples in Python\n",
    "\n",
    "A tuple is a data structure in Python that is similar to a list, but with a key difference: tuples are immutable. This means that once a tuple is created, its elements cannot be modified or changed. Tuples are often used to group related pieces of information together.\n",
    "\n",
    "## Creating a Tuple\n",
    "\n",
    "Tuples are created using parentheses `()` and can contain elements of different data types, including numbers, strings, or even other tuples.\n",
    "\n",
    "```python\n",
    "# Example of creating a tuple\n",
    "my_tuple = (1, \"apple\", 3.14, (4, 5))\n"
   ]
  },
  {
   "cell_type": "code",
   "execution_count": 75,
   "metadata": {},
   "outputs": [
    {
     "name": "stdout",
     "output_type": "stream",
     "text": [
      "a\n",
      "('a', 'b')\n"
     ]
    }
   ],
   "source": [
    "name: tuple[str] = (\"a\",\"b\",\"c\")\n",
    "print(name[0])\n",
    "print(name[0:2])"
   ]
  },
  {
   "cell_type": "code",
   "execution_count": 78,
   "metadata": {},
   "outputs": [
    {
     "ename": "TypeError",
     "evalue": "'tuple' object does not support item assignment",
     "output_type": "error",
     "traceback": [
      "\u001b[1;31m---------------------------------------------------------------------------\u001b[0m",
      "\u001b[1;31mTypeError\u001b[0m                                 Traceback (most recent call last)",
      "Cell \u001b[1;32mIn[78], line 3\u001b[0m\n\u001b[0;32m      1\u001b[0m name: \u001b[38;5;28mtuple\u001b[39m[\u001b[38;5;28mstr\u001b[39m] \u001b[38;5;241m=\u001b[39m (\u001b[38;5;124m\"\u001b[39m\u001b[38;5;124ma\u001b[39m\u001b[38;5;124m\"\u001b[39m,\u001b[38;5;124m\"\u001b[39m\u001b[38;5;124mb\u001b[39m\u001b[38;5;124m\"\u001b[39m,\u001b[38;5;124m\"\u001b[39m\u001b[38;5;124mc\u001b[39m\u001b[38;5;124m\"\u001b[39m)\n\u001b[1;32m----> 3\u001b[0m \u001b[43mname\u001b[49m\u001b[43m[\u001b[49m\u001b[38;5;241;43m0\u001b[39;49m\u001b[43m]\u001b[49m \u001b[38;5;241m=\u001b[39m \u001b[38;5;124m'\u001b[39m\u001b[38;5;124mPakistan\u001b[39m\u001b[38;5;124m'\u001b[39m\n",
      "\u001b[1;31mTypeError\u001b[0m: 'tuple' object does not support item assignment"
     ]
    }
   ],
   "source": [
    "name: tuple[str] = (\"a\",\"b\",\"c\")\n",
    "\n",
    "name[0] = 'Pakistan' # do not assign the value it is immutable\n"
   ]
  },
  {
   "cell_type": "code",
   "execution_count": 79,
   "metadata": {},
   "outputs": [
    {
     "name": "stdout",
     "output_type": "stream",
     "text": [
      "('Pakisatn', 'b', 'c')\n"
     ]
    }
   ],
   "source": [
    "name: tuple[str] = (\"a\",\"b\",\"c\")\n",
    "name: tuple[str] = (\"Pakisatn\",\"b\",\"c\") # we reassign it\n",
    "print(name)"
   ]
  },
  {
   "cell_type": "code",
   "execution_count": 80,
   "metadata": {},
   "outputs": [
    {
     "name": "stdout",
     "output_type": "stream",
     "text": [
      "['A', [1, 2, 3], True]\n"
     ]
    }
   ],
   "source": [
    "data : tuple[any] = [\"A\",[1,2,3],True]\n",
    "\n",
    "print(data)"
   ]
  },
  {
   "cell_type": "code",
   "execution_count": 83,
   "metadata": {},
   "outputs": [
    {
     "name": "stdout",
     "output_type": "stream",
     "text": [
      "[1, 2, 3]\n",
      "['A', [1, 2, 3, 20], True]\n"
     ]
    }
   ],
   "source": [
    "from typing import Any\n",
    "data : tuple[any] = [\"A\",[1,2,3],True]\n",
    "\n",
    "print(data[1])\n",
    "data[1].append(20)\n",
    "\n",
    "print(data)"
   ]
  },
  {
   "cell_type": "markdown",
   "metadata": {},
   "source": [
    "## Questions and Answers:"
   ]
  },
  {
   "cell_type": "markdown",
   "metadata": {},
   "source": [
    "# 1.Slices:\n",
    "* Using one of the programs you wrote in this chapter, add several lines to the end\n",
    "of the program that do the following:\n",
    "* Print the message The first three items in the list are:. Then use a slice to print the first three\n",
    "items from that program’s list.\n",
    "* Print the message Three items from the middle of the list are:. Then use a slice to print three\n",
    "items from the middle of the list.\n",
    "* Print the message The last three items in the list are:. Then use a slice to print the last three\n",
    "items in the list."
   ]
  },
  {
   "cell_type": "code",
   "execution_count": 4,
   "metadata": {},
   "outputs": [
    {
     "name": "stdout",
     "output_type": "stream",
     "text": [
      "The first three items in the list are: ['Cow', 'Goat', 'Cat']\n"
     ]
    }
   ],
   "source": [
    "Animals : list[str] = [\"Cow\",\"Goat\",\"Cat\",\"Dog\",\"Lion\",\"Tiger\",\"Zebra\",\"Elephant\",\"Monkey\"]\n",
    "messgae : str = (\"The first three items in the list are:\")\n",
    "print(f\"{messgae} {Animals[0:3]}\")"
   ]
  },
  {
   "cell_type": "code",
   "execution_count": 5,
   "metadata": {},
   "outputs": [
    {
     "name": "stdout",
     "output_type": "stream",
     "text": [
      "Three items from middle of the list are:  ['Dog', 'Lion', 'Tiger']\n"
     ]
    }
   ],
   "source": [
    "message_2 : str = (\"Three items from middle of the list are: \")\n",
    "print(f\"{message_2} {Animals[3:6]}\")"
   ]
  },
  {
   "cell_type": "code",
   "execution_count": 7,
   "metadata": {},
   "outputs": [
    {
     "name": "stdout",
     "output_type": "stream",
     "text": [
      "The last three items in the list are: ['Zebra', 'Elephant', 'Monkey']\n"
     ]
    }
   ],
   "source": [
    "message_3 : str = (\"The last three items in the list are:\")\n",
    "print(f\"{message_3} {Animals[6:9]}\")"
   ]
  },
  {
   "cell_type": "markdown",
   "metadata": {},
   "source": [
    "## 2. My Pizzas, Your Pizzas: \n",
    "* Start with your program from the above code. Make a\n",
    "copy of the list of pizzas, and call it friend_pizzas. Then, do the following:\n",
    "* Add a new pizza to the original list.\n",
    "* Add a different pizza to the list friend_pizzas.\n",
    "* Prove that you have two separate lists. Print the message My favorite pizzas are:, and then use a\n",
    "for loop to print the first list. Print the message My friend’s favorite pizzas are:, and then use a\n",
    "for loop to print the second list. Make sure each new pizza is stored in the appropriate list."
   ]
  },
  {
   "cell_type": "code",
   "execution_count": 29,
   "metadata": {},
   "outputs": [
    {
     "name": "stdout",
     "output_type": "stream",
     "text": [
      "My favourite pizza are:\n",
      "Chezzy\n",
      "Pepproni\n",
      "Tikka\n",
      "Brbq\n",
      "\n",
      "My favourite pizza are:\n",
      "Chezzy\n",
      "Pepproni\n",
      "Tikka\n",
      "Fajita\n"
     ]
    }
   ],
   "source": [
    "pizzas : list[str] = [\"Chezzy\",\"Pepproni\",\"Tikka\"]\n",
    "friend_pizzas = pizzas.copy()\n",
    "\n",
    "pizzas.append(\"Brbq\")\n",
    "friend_pizzas.append(\"Fajita\")\n",
    "\n",
    "print(\"My favourite pizza are:\")\n",
    "for pizza in pizzas:\n",
    "    print(pizza)\n",
    "\n",
    "print(\"\\nMy favourite pizza are:\")\n",
    "for friend_pizza in friend_pizzas:\n",
    "    print(friend_pizza)"
   ]
  },
  {
   "cell_type": "markdown",
   "metadata": {},
   "source": [
    "## 4.More Loops:\n",
    "* All versions of foods.py in this section have avoided using for loops when\n",
    "printing, to save space. Choose a version of foods.py, and write two for loops to print each list of foods."
   ]
  },
  {
   "cell_type": "code",
   "execution_count": 4,
   "metadata": {},
   "outputs": [
    {
     "name": "stdout",
     "output_type": "stream",
     "text": [
      "Fruits:\n",
      "apple\n",
      "banana\n",
      "orange\n",
      "\n",
      "Vegetabels:\n",
      "carrot\n",
      "broccoli\n",
      "spinach\n",
      "\n",
      "Proteins:\n",
      "chicken\n",
      "beef\n",
      "fish\n"
     ]
    }
   ],
   "source": [
    "from class_5 import fruits,vegetables,proteins\n",
    "\n",
    "print(\"Fruits:\")\n",
    "for fruit in fruits:\n",
    "    print(fruit)\n",
    "\n",
    "print(\"\\nVegetabels:\")\n",
    "for vegetables in vegetables:\n",
    "    print(vegetables)\n",
    "\n",
    "print(\"\\nProteins:\") \n",
    "for protein in  proteins:\n",
    "    print(protein)  \n",
    "\n"
   ]
  },
  {
   "cell_type": "markdown",
   "metadata": {},
   "source": [
    "# 5 Buffet: \n",
    "* A buffet-style restaurant offers only five basic foods. Think of five simple foods,and store them in a tuple.\n",
    "* Use a for loop to print each food the restaurant offers.\n",
    "* Try to modify one of the items, and make sure that Python rejects the change.\n",
    "* The restaurant changes its menu, replacing two of the items with different foods. Add a line that\n",
    "* rewrites the tuple, and then use a for loop to print each of the items on the revised menu."
   ]
  },
  {
   "cell_type": "code",
   "execution_count": 5,
   "metadata": {},
   "outputs": [
    {
     "name": "stdout",
     "output_type": "stream",
     "text": [
      "The resturant offers:\n",
      "Chicken Kharahi\n",
      "Beef Kharahi\n",
      "Kaabab\n",
      "Roti\n",
      "Rice\n",
      "Beef Curry\n"
     ]
    }
   ],
   "source": [
    "foods : list[str] = (\"Chicken Kharahi\",\"Beef Kharahi\",\"Kaabab\",\"Roti\",\"Rice\",\"Beef Curry\")\n",
    "print(\"The resturant offers:\")\n",
    "for food in foods:\n",
    "    print(food)"
   ]
  },
  {
   "cell_type": "code",
   "execution_count": 7,
   "metadata": {},
   "outputs": [
    {
     "ename": "TypeError",
     "evalue": "'tuple' object does not support item assignment",
     "output_type": "error",
     "traceback": [
      "\u001b[1;31m---------------------------------------------------------------------------\u001b[0m",
      "\u001b[1;31mTypeError\u001b[0m                                 Traceback (most recent call last)",
      "Cell \u001b[1;32mIn[7], line 3\u001b[0m\n\u001b[0;32m      1\u001b[0m foods : \u001b[38;5;28mlist\u001b[39m[\u001b[38;5;28mstr\u001b[39m] \u001b[38;5;241m=\u001b[39m (\u001b[38;5;124m\"\u001b[39m\u001b[38;5;124mChicken Kharahi\u001b[39m\u001b[38;5;124m\"\u001b[39m,\u001b[38;5;124m\"\u001b[39m\u001b[38;5;124mBeef Kharahi\u001b[39m\u001b[38;5;124m\"\u001b[39m,\u001b[38;5;124m\"\u001b[39m\u001b[38;5;124mKaabab\u001b[39m\u001b[38;5;124m\"\u001b[39m,\u001b[38;5;124m\"\u001b[39m\u001b[38;5;124mRoti\u001b[39m\u001b[38;5;124m\"\u001b[39m,\u001b[38;5;124m\"\u001b[39m\u001b[38;5;124mRice\u001b[39m\u001b[38;5;124m\"\u001b[39m,\u001b[38;5;124m\"\u001b[39m\u001b[38;5;124mBeef Curry\u001b[39m\u001b[38;5;124m\"\u001b[39m)\n\u001b[0;32m      2\u001b[0m foods[\u001b[38;5;241m0\u001b[39m]\n\u001b[1;32m----> 3\u001b[0m \u001b[43mfoods\u001b[49m\u001b[43m[\u001b[49m\u001b[38;5;241;43m0\u001b[39;49m\u001b[43m]\u001b[49m \u001b[38;5;241m=\u001b[39m \u001b[38;5;124m\"\u001b[39m\u001b[38;5;124mHalwa Puri\u001b[39m\u001b[38;5;124m\"\u001b[39m\n\u001b[0;32m      4\u001b[0m \u001b[38;5;28mprint\u001b[39m(foods)\n",
      "\u001b[1;31mTypeError\u001b[0m: 'tuple' object does not support item assignment"
     ]
    }
   ],
   "source": [
    "foods : list[str] = (\"Chicken Kharahi\",\"Beef Kharahi\",\"Kaabab\",\"Roti\",\"Rice\",\"Beef Curry\")\n",
    "foods[0]\n",
    "foods[0] = \"Halwa Puri\"\n",
    "print(foods)"
   ]
  },
  {
   "cell_type": "code",
   "execution_count": 10,
   "metadata": {},
   "outputs": [
    {
     "name": "stdout",
     "output_type": "stream",
     "text": [
      "The resturant offers:\n",
      "Halwa puri\n",
      "Pulses\n",
      "Chicken Kharahi\n",
      "Beef Kharahi\n",
      "Kaabab\n",
      "Roti\n",
      "Rice\n",
      "Beef Curry\n"
     ]
    }
   ],
   "source": [
    "foods : list[str] = (\"Chicken Kharahi\",\"Beef Kharahi\",\"Kaabab\",\"Roti\",\"Rice\",\"Beef Curry\")\n",
    "foods2 : list[str] = (\"Halwa puri\",\"Pulses\")\n",
    "\n",
    "print(\"The resturant offers:\")\n",
    "for food in foods2:\n",
    "    print(food)\n",
    "\n",
    "for food in foods:\n",
    "    print(food)"
   ]
  },
  {
   "cell_type": "code",
   "execution_count": null,
   "metadata": {},
   "outputs": [],
   "source": []
  }
 ],
 "metadata": {
  "kernelspec": {
   "display_name": "python13",
   "language": "python",
   "name": "python3"
  },
  "language_info": {
   "codemirror_mode": {
    "name": "ipython",
    "version": 3
   },
   "file_extension": ".py",
   "mimetype": "text/x-python",
   "name": "python",
   "nbconvert_exporter": "python",
   "pygments_lexer": "ipython3",
   "version": "3.12.0"
  }
 },
 "nbformat": 4,
 "nbformat_minor": 2
}
