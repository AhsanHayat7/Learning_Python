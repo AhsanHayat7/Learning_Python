{
 "cells": [
  {
   "cell_type": "markdown",
   "metadata": {},
   "source": [
    "# List \n",
    "\n",
    "* **Dynamic length:** Lists in Python can dynamically grow or shrink. You can add or remove elements as needed.\n",
    "\n",
    "* **Heterogeneous data types (Multiple types):** Unlike some other data structures, lists in Python can hold elements of different data types in the same list.\n",
    "\n",
    "* **Indexing:**\n",
    "   * Positive index: 0 to n-1\n",
    "   * Negative index: -1 to -n (indexing from the end)\n",
    "\n",
    "* **Slicing:**\n",
    "    * Variable syntax: `name[start:end:step]`\n",
    "    * `start`: int (inclusive)\n",
    "    * `end`: int (up to n-1)\n",
    "    * `step`: int (sequence)\n",
    "\n",
    "Example of slicing:\n",
    "```python\n",
    "my_list = [1, 2, 3, 4, 5]\n",
    "sliced_portion = my_list[1:4:2]\n",
    "print(sliced_portion)\n",
    "# Output: [2, 4]\n"
   ]
  },
  {
   "cell_type": "code",
   "execution_count": 1,
   "metadata": {},
   "outputs": [],
   "source": [
    "name1: str = 'Ahsan'\n",
    "name2: str = 'Mawaz'\n",
    "name3: str = 'Raheem'"
   ]
  },
  {
   "cell_type": "code",
   "execution_count": 2,
   "metadata": {},
   "outputs": [
    {
     "name": "stdout",
     "output_type": "stream",
     "text": [
      "Ahsan\n",
      "Ahsan\n",
      "Mawaz\n"
     ]
    }
   ],
   "source": [
    "# -->           0        1        2\n",
    "names: str =  [\"Ahsan\",\"Mawaz\",\"Raheem\"] # length-1 (to get last index)\n",
    "# <--          -3        -2      -1\n",
    "\n",
    "print(names[0]) # Ahsan\n",
    "print(names[-3]) #Ahsan\n",
    "\n",
    "print(names[-2])"
   ]
  },
  {
   "cell_type": "code",
   "execution_count": 88,
   "metadata": {},
   "outputs": [
    {
     "name": "stdout",
     "output_type": "stream",
     "text": [
      "90\n",
      "['Ahsan', 'Mawaz', 'Raheem', 90, True]\n"
     ]
    }
   ],
   "source": [
    "from typing import Any\n",
    "# -->                 0        1        2\n",
    "names : list[Any] = [\"Ahsan\",\"Mawaz\",\"Raheem\",90, True]\n",
    "# <--                 -3        -2      -1   \n",
    "\n",
    "print((names[-2]))\n",
    "print((names))"
   ]
  },
  {
   "cell_type": "code",
   "execution_count": 90,
   "metadata": {},
   "outputs": [
    {
     "name": "stdout",
     "output_type": "stream",
     "text": [
      "<class 'str'>\n",
      "<class 'list'>\n",
      "Founder of Game MAWAZ\n"
     ]
    }
   ],
   "source": [
    "\n",
    "# -->                 0        1        2\n",
    "names : list[str] = [\"Ahsan\",\"Mawaz\",\"Raheem\",]\n",
    "# <--                 -3        -2      -1   \n",
    "\n",
    "print(type(names[-2]))\n",
    "print(type(names))\n",
    "\n",
    "print(f\"Founder of Game {names[-2].upper()}\")"
   ]
  },
  {
   "cell_type": "code",
   "execution_count": 3,
   "metadata": {},
   "outputs": [
    {
     "name": "stdout",
     "output_type": "stream",
     "text": [
      "90\n"
     ]
    }
   ],
   "source": [
    "# -->                 0        1        2\n",
    "names : list[Any] = [\"Ahsan\",\"Mawaz\",\"Raheem\", 90, True]\n",
    "# <--                 -3        -2      -1   \n",
    "print(names[-2])"
   ]
  },
  {
   "cell_type": "code",
   "execution_count": 6,
   "metadata": {},
   "outputs": [
    {
     "data": {
      "text/plain": [
       "['a', 'b', 'c', 'd', 'e', 'f', 'g', 'h', 'i', 'j']"
      ]
     },
     "execution_count": 6,
     "metadata": {},
     "output_type": "execute_result"
    }
   ],
   "source": [
    "list('abcdefghij')"
   ]
  },
  {
   "cell_type": "code",
   "execution_count": 7,
   "metadata": {},
   "outputs": [
    {
     "name": "stdout",
     "output_type": "stream",
     "text": [
      "['a', 'b', 'c', 'd', 'e', 'f', 'g', 'h', 'i', 'j', 'k', 'l', 'm', 'n', 'o', 'p', 'q', 'r', 's', 't', 'u', 'v', 'w', 'x', 'y', 'z']\n"
     ]
    }
   ],
   "source": [
    "characters : list[str] = list('abcdefghijklmnopqrstuvwxyz')\n",
    "print(characters)"
   ]
  },
  {
   "cell_type": "code",
   "execution_count": 21,
   "metadata": {},
   "outputs": [
    {
     "name": "stdout",
     "output_type": "stream",
     "text": [
      "['a', 'b']\n",
      "['a', 'b']\n",
      "['a', 'b']\n",
      "['a', 'b']\n",
      "['a', 'b']\n"
     ]
    }
   ],
   "source": [
    "#                          0    1    2    3    4    5    6                                                                                              25   \n",
    "characters : list[str] = ['a', 'b', 'c', 'd', 'e', 'f', 'g', 'h', 'i', 'j', 'k', 'l', 'm', 'n', 'o', 'p', 'q', 'r', 's', 't', 'u', 'v', 'w', 'x', 'y', 'z']\n",
    " #                        -26\n",
    "\n",
    "# default slicing go from left to right\n",
    "print(characters[0:2]) # 0 = include : 2-1 =1\n",
    "print(characters[:2])  # not pass any number all \n",
    "print(characters[-26:-24]) # 0 = include : -24-1 =-25\n",
    "print(characters[0:2:1]) # 0 = include 2-1 = 1\n",
    "\n",
    "\n"
   ]
  },
  {
   "cell_type": "code",
   "execution_count": 28,
   "metadata": {},
   "outputs": [
    {
     "name": "stdout",
     "output_type": "stream",
     "text": [
      "['b', 'c', 'd', 'e']\n"
     ]
    }
   ],
   "source": [
    "#                          0    1     2   3    4    5    6    7\n",
    "characters : list[str] = ['a', 'b', 'c', 'd', 'e', 'f', 'g', 'h',]\n",
    "#                         -8   -7   -6    -5   -4   -3   -2   -1\n",
    "print(characters[1:-3])\n"
   ]
  },
  {
   "cell_type": "code",
   "execution_count": 29,
   "metadata": {},
   "outputs": [
    {
     "name": "stdout",
     "output_type": "stream",
     "text": [
      "[]\n"
     ]
    }
   ],
   "source": [
    "#                          0    1     2   3    4    5    6    7\n",
    "characters : list[str] = ['a', 'b', 'c', 'd', 'e', 'f', 'g', 'h',]\n",
    "#                         -8   -7   -6    -5   -4   -3   -2   -1\n",
    "\n",
    "# iterations slicing ->\n",
    "# step -> positive\n",
    "# step <- negative\n",
    "print(characters[-2:-5])"
   ]
  },
  {
   "cell_type": "code",
   "execution_count": 30,
   "metadata": {},
   "outputs": [
    {
     "name": "stdout",
     "output_type": "stream",
     "text": [
      "['g', 'f', 'e']\n"
     ]
    }
   ],
   "source": [
    "#                          0    1     2   3    4    5    6    7\n",
    "characters : list[str] = ['a', 'b', 'c', 'd', 'e', 'f', 'g', 'h',]\n",
    "#                         -8   -7   -6    -5   -4   -3   -2   -1\n",
    "\n",
    "# iterations slicing ->\n",
    "# step -> positive\n",
    "# step <- negative\n",
    "print(characters[-2:-5:-1])"
   ]
  },
  {
   "cell_type": "code",
   "execution_count": 34,
   "metadata": {},
   "outputs": [
    {
     "name": "stdout",
     "output_type": "stream",
     "text": [
      "['z', 'y', 'x', 'w', 'v', 'u', 't', 's', 'r', 'q', 'p', 'o', 'n', 'm', 'l', 'k', 'j', 'i', 'h', 'g', 'f', 'e', 'd', 'c', 'b', 'a']\n"
     ]
    }
   ],
   "source": [
    "characters : list[str] = ['a', 'b', 'c', 'd', 'e', 'f', 'g', 'h', 'i', 'j', 'k', 'l', 'm', 'n', 'o', 'p', 'q', 'r', 's', 't', 'u', 'v', 'w', 'x', 'y', 'z']\n",
    "print(characters[::-1]) # <--"
   ]
  },
  {
   "cell_type": "markdown",
   "metadata": {},
   "source": [
    "# List Methods"
   ]
  },
  {
   "cell_type": "code",
   "execution_count": 45,
   "metadata": {},
   "outputs": [
    {
     "data": {
      "text/plain": [
       "['append',\n",
       " 'clear',\n",
       " 'copy',\n",
       " 'count',\n",
       " 'extend',\n",
       " 'index',\n",
       " 'insert',\n",
       " 'pop',\n",
       " 'remove',\n",
       " 'reverse',\n",
       " 'sort']"
      ]
     },
     "execution_count": 45,
     "metadata": {},
     "output_type": "execute_result"
    }
   ],
   "source": [
    "[i for i in dir(list) if \"__\" not in i ]"
   ]
  },
  {
   "cell_type": "code",
   "execution_count": 64,
   "metadata": {},
   "outputs": [
    {
     "name": "stdout",
     "output_type": "stream",
     "text": [
      "['a', 'b', 'c', 1, 2, 3]\n"
     ]
    }
   ],
   "source": [
    "a : list[str] = ['a','b','c',1,2,3]\n",
    "print(a)"
   ]
  },
  {
   "cell_type": "code",
   "execution_count": 65,
   "metadata": {},
   "outputs": [
    {
     "ename": "NameError",
     "evalue": "name 'a' is not defined",
     "output_type": "error",
     "traceback": [
      "\u001b[1;31m---------------------------------------------------------------------------\u001b[0m",
      "\u001b[1;31mNameError\u001b[0m                                 Traceback (most recent call last)",
      "Cell \u001b[1;32mIn[65], line 3\u001b[0m\n\u001b[0;32m      1\u001b[0m a : \u001b[38;5;28mlist\u001b[39m[\u001b[38;5;28mstr\u001b[39m] \u001b[38;5;241m=\u001b[39m [\u001b[38;5;124m'\u001b[39m\u001b[38;5;124ma\u001b[39m\u001b[38;5;124m'\u001b[39m,\u001b[38;5;124m'\u001b[39m\u001b[38;5;124mb\u001b[39m\u001b[38;5;124m'\u001b[39m,\u001b[38;5;124m'\u001b[39m\u001b[38;5;124mc\u001b[39m\u001b[38;5;124m'\u001b[39m,\u001b[38;5;241m1\u001b[39m,\u001b[38;5;241m2\u001b[39m,\u001b[38;5;241m3\u001b[39m]\n\u001b[0;32m      2\u001b[0m \u001b[38;5;28;01mdel\u001b[39;00m a\n\u001b[1;32m----> 3\u001b[0m \u001b[38;5;28mprint\u001b[39m(\u001b[43ma\u001b[49m)\n",
      "\u001b[1;31mNameError\u001b[0m: name 'a' is not defined"
     ]
    }
   ],
   "source": [
    "a : list[str] = ['a','b','c',1,2,3]\n",
    "del a # remove object from memory\n",
    "print(a)"
   ]
  },
  {
   "cell_type": "code",
   "execution_count": 79,
   "metadata": {},
   "outputs": [
    {
     "name": "stdout",
     "output_type": "stream",
     "text": [
      "['b', 'c']\n"
     ]
    }
   ],
   "source": [
    "a : list[str] = ['a','b','c']\n",
    "del a[0]\n",
    "print(a)"
   ]
  },
  {
   "cell_type": "markdown",
   "metadata": {},
   "source": [
    "### Clear method\n",
    "* The `clear()` method removes all elements from the list."
   ]
  },
  {
   "cell_type": "code",
   "execution_count": 66,
   "metadata": {},
   "outputs": [
    {
     "name": "stdout",
     "output_type": "stream",
     "text": [
      "[]\n"
     ]
    }
   ],
   "source": [
    "a : list[str] = ['a','b','c',1,2,3]\n",
    "a.clear() # reomove all elements but object is ram\n",
    "print(a)"
   ]
  },
  {
   "cell_type": "markdown",
   "metadata": {},
   "source": [
    "# Help\n",
    "* help (object)\n",
    "* object?\n",
    "* object??\n",
    "* ?object\n",
    "* ??object"
   ]
  },
  {
   "cell_type": "code",
   "execution_count": 46,
   "metadata": {},
   "outputs": [
    {
     "name": "stdout",
     "output_type": "stream",
     "text": [
      "Help on function display in module IPython.core.display_functions:\n",
      "\n",
      "display(*objs, include=None, exclude=None, metadata=None, transient=None, display_id=None, raw=False, clear=False, **kwargs)\n",
      "    Display a Python object in all frontends.\n",
      "\n",
      "    By default all representations will be computed and sent to the frontends.\n",
      "    Frontends can decide which representation is used and how.\n",
      "\n",
      "    In terminal IPython this will be similar to using :func:`print`, for use in richer\n",
      "    frontends see Jupyter notebook examples with rich display logic.\n",
      "\n",
      "    Parameters\n",
      "    ----------\n",
      "    *objs : object\n",
      "        The Python objects to display.\n",
      "    raw : bool, optional\n",
      "        Are the objects to be displayed already mimetype-keyed dicts of raw display data,\n",
      "        or Python objects that need to be formatted before display? [default: False]\n",
      "    include : list, tuple or set, optional\n",
      "        A list of format type strings (MIME types) to include in the\n",
      "        format data dict. If this is set *only* the format types included\n",
      "        in this list will be computed.\n",
      "    exclude : list, tuple or set, optional\n",
      "        A list of format type strings (MIME types) to exclude in the format\n",
      "        data dict. If this is set all format types will be computed,\n",
      "        except for those included in this argument.\n",
      "    metadata : dict, optional\n",
      "        A dictionary of metadata to associate with the output.\n",
      "        mime-type keys in this dictionary will be associated with the individual\n",
      "        representation formats, if they exist.\n",
      "    transient : dict, optional\n",
      "        A dictionary of transient data to associate with the output.\n",
      "        Data in this dict should not be persisted to files (e.g. notebooks).\n",
      "    display_id : str, bool optional\n",
      "        Set an id for the display.\n",
      "        This id can be used for updating this display area later via update_display.\n",
      "        If given as `True`, generate a new `display_id`\n",
      "    clear : bool, optional\n",
      "        Should the output area be cleared before displaying anything? If True,\n",
      "        this will wait for additional output before clearing. [default: False]\n",
      "    **kwargs : additional keyword-args, optional\n",
      "        Additional keyword-arguments are passed through to the display publisher.\n",
      "\n",
      "    Returns\n",
      "    -------\n",
      "    handle: DisplayHandle\n",
      "        Returns a handle on updatable displays for use with :func:`update_display`,\n",
      "        if `display_id` is given. Returns :any:`None` if no `display_id` is given\n",
      "        (default).\n",
      "\n",
      "    Examples\n",
      "    --------\n",
      "    >>> class Json(object):\n",
      "    ...     def __init__(self, json):\n",
      "    ...         self.json = json\n",
      "    ...     def _repr_pretty_(self, pp, cycle):\n",
      "    ...         import json\n",
      "    ...         pp.text(json.dumps(self.json, indent=2))\n",
      "    ...     def __repr__(self):\n",
      "    ...         return str(self.json)\n",
      "    ...\n",
      "\n",
      "    >>> d = Json({1:2, 3: {4:5}})\n",
      "\n",
      "    >>> print(d)\n",
      "    {1: 2, 3: {4: 5}}\n",
      "\n",
      "    >>> display(d)\n",
      "    {\n",
      "      \"1\": 2,\n",
      "      \"3\": {\n",
      "        \"4\": 5\n",
      "      }\n",
      "    }\n",
      "\n",
      "    >>> def int_formatter(integer, pp, cycle):\n",
      "    ...     pp.text('I'*integer)\n",
      "\n",
      "    >>> plain = get_ipython().display_formatter.formatters['text/plain']\n",
      "    >>> plain.for_type(int, int_formatter)\n",
      "    <function _repr_pprint at 0x...>\n",
      "    >>> display(7-5)\n",
      "    II\n",
      "\n",
      "    >>> del plain.type_printers[int]\n",
      "    >>> display(7-5)\n",
      "    2\n",
      "\n",
      "    See Also\n",
      "    --------\n",
      "    :func:`update_display`\n",
      "\n",
      "    Notes\n",
      "    -----\n",
      "    In Python, objects can declare their textual representation using the\n",
      "    `__repr__` method. IPython expands on this idea and allows objects to declare\n",
      "    other, rich representations including:\n",
      "\n",
      "      - HTML\n",
      "      - JSON\n",
      "      - PNG\n",
      "      - JPEG\n",
      "      - SVG\n",
      "      - LaTeX\n",
      "\n",
      "    A single object can declare some or all of these representations; all are\n",
      "    handled by IPython's display system.\n",
      "\n",
      "    The main idea of the first approach is that you have to implement special\n",
      "    display methods when you define your class, one for each representation you\n",
      "    want to use. Here is a list of the names of the special methods and the\n",
      "    values they must return:\n",
      "\n",
      "      - `_repr_html_`: return raw HTML as a string, or a tuple (see below).\n",
      "      - `_repr_json_`: return a JSONable dict, or a tuple (see below).\n",
      "      - `_repr_jpeg_`: return raw JPEG data, or a tuple (see below).\n",
      "      - `_repr_png_`: return raw PNG data, or a tuple (see below).\n",
      "      - `_repr_svg_`: return raw SVG data as a string, or a tuple (see below).\n",
      "      - `_repr_latex_`: return LaTeX commands in a string surrounded by \"$\",\n",
      "                        or a tuple (see below).\n",
      "      - `_repr_mimebundle_`: return a full mimebundle containing the mapping\n",
      "                             from all mimetypes to data.\n",
      "                             Use this for any mime-type not listed above.\n",
      "\n",
      "    The above functions may also return the object's metadata alonside the\n",
      "    data.  If the metadata is available, the functions will return a tuple\n",
      "    containing the data and metadata, in that order.  If there is no metadata\n",
      "    available, then the functions will return the data only.\n",
      "\n",
      "    When you are directly writing your own classes, you can adapt them for\n",
      "    display in IPython by following the above approach. But in practice, you\n",
      "    often need to work with existing classes that you can't easily modify.\n",
      "\n",
      "    You can refer to the documentation on integrating with the display system in\n",
      "    order to register custom formatters for already existing types\n",
      "    (:ref:`integrating_rich_display`).\n",
      "\n",
      "    .. versionadded:: 5.4 display available without import\n",
      "    .. versionadded:: 6.1 display available without import\n",
      "\n",
      "    Since IPython 5.4 and 6.1 :func:`display` is automatically made available to\n",
      "    the user without import. If you are using display in a document that might\n",
      "    be used in a pure python context or with older version of IPython, use the\n",
      "    following import at the top of your file::\n",
      "\n",
      "        from IPython.display import display\n",
      "\n"
     ]
    }
   ],
   "source": [
    "help(display)"
   ]
  },
  {
   "cell_type": "code",
   "execution_count": 47,
   "metadata": {},
   "outputs": [
    {
     "name": "stdout",
     "output_type": "stream",
     "text": [
      "\u001b[1;31mSignature:\u001b[0m \u001b[0mprint\u001b[0m\u001b[1;33m(\u001b[0m\u001b[1;33m*\u001b[0m\u001b[0margs\u001b[0m\u001b[1;33m,\u001b[0m \u001b[0msep\u001b[0m\u001b[1;33m=\u001b[0m\u001b[1;34m' '\u001b[0m\u001b[1;33m,\u001b[0m \u001b[0mend\u001b[0m\u001b[1;33m=\u001b[0m\u001b[1;34m'\\n'\u001b[0m\u001b[1;33m,\u001b[0m \u001b[0mfile\u001b[0m\u001b[1;33m=\u001b[0m\u001b[1;32mNone\u001b[0m\u001b[1;33m,\u001b[0m \u001b[0mflush\u001b[0m\u001b[1;33m=\u001b[0m\u001b[1;32mFalse\u001b[0m\u001b[1;33m)\u001b[0m\u001b[1;33m\u001b[0m\u001b[1;33m\u001b[0m\u001b[0m\n",
      "\u001b[1;31mDocstring:\u001b[0m\n",
      "Prints the values to a stream, or to sys.stdout by default.\n",
      "\n",
      "sep\n",
      "  string inserted between values, default a space.\n",
      "end\n",
      "  string appended after the last value, default a newline.\n",
      "file\n",
      "  a file-like object (stream); defaults to the current sys.stdout.\n",
      "flush\n",
      "  whether to forcibly flush the stream.\n",
      "\u001b[1;31mType:\u001b[0m      builtin_function_or_method"
     ]
    }
   ],
   "source": [
    "print?"
   ]
  },
  {
   "cell_type": "code",
   "execution_count": 48,
   "metadata": {},
   "outputs": [
    {
     "name": "stdout",
     "output_type": "stream",
     "text": [
      "\u001b[1;31mSignature:\u001b[0m \u001b[0mprint\u001b[0m\u001b[1;33m(\u001b[0m\u001b[1;33m*\u001b[0m\u001b[0margs\u001b[0m\u001b[1;33m,\u001b[0m \u001b[0msep\u001b[0m\u001b[1;33m=\u001b[0m\u001b[1;34m' '\u001b[0m\u001b[1;33m,\u001b[0m \u001b[0mend\u001b[0m\u001b[1;33m=\u001b[0m\u001b[1;34m'\\n'\u001b[0m\u001b[1;33m,\u001b[0m \u001b[0mfile\u001b[0m\u001b[1;33m=\u001b[0m\u001b[1;32mNone\u001b[0m\u001b[1;33m,\u001b[0m \u001b[0mflush\u001b[0m\u001b[1;33m=\u001b[0m\u001b[1;32mFalse\u001b[0m\u001b[1;33m)\u001b[0m\u001b[1;33m\u001b[0m\u001b[1;33m\u001b[0m\u001b[0m\n",
      "\u001b[1;31mDocstring:\u001b[0m\n",
      "Prints the values to a stream, or to sys.stdout by default.\n",
      "\n",
      "sep\n",
      "  string inserted between values, default a space.\n",
      "end\n",
      "  string appended after the last value, default a newline.\n",
      "file\n",
      "  a file-like object (stream); defaults to the current sys.stdout.\n",
      "flush\n",
      "  whether to forcibly flush the stream.\n",
      "\u001b[1;31mType:\u001b[0m      builtin_function_or_method"
     ]
    }
   ],
   "source": [
    "??print"
   ]
  },
  {
   "cell_type": "markdown",
   "metadata": {},
   "source": [
    " * `del` statement is used to delete items from collections, variables, or even entire slices from lists."
   ]
  },
  {
   "cell_type": "code",
   "execution_count": 37,
   "metadata": {},
   "outputs": [
    {
     "name": "stdout",
     "output_type": "stream",
     "text": [
      "['Ahsan', 'Mawaz', 'Raheem', 90, True]\n",
      "['Ahsan', 'Mawaz', 'Raheem', True]\n"
     ]
    }
   ],
   "source": [
    "# -->                 0        1        2\n",
    "names : list[Any] = [\"Ahsan\",\"Mawaz\",\"Raheem\", 90, True]\n",
    "# <--                 -3        -2      -1   \n",
    "\n",
    "print(names)\n",
    "del names[3] #delete 3 index element\n",
    "\n",
    "print(names)"
   ]
  },
  {
   "cell_type": "code",
   "execution_count": 96,
   "metadata": {},
   "outputs": [
    {
     "name": "stdout",
     "output_type": "stream",
     "text": [
      "['Ahsan', 'Mawaz', 'Raheem', 90, True]\n",
      "['Ahsan', 'Mawaz']\n"
     ]
    }
   ],
   "source": [
    "# -->                 0        1        2\n",
    "names : list[Any] = [\"Ahsan\",\"Mawaz\",\"Raheem\", 90, True]\n",
    "# <--                 -3        -2      -1   \n",
    "\n",
    "print(names)\n",
    "del names[2:5] #delete 3 index element\n",
    "\n",
    "print(names)"
   ]
  },
  {
   "cell_type": "code",
   "execution_count": 42,
   "metadata": {},
   "outputs": [
    {
     "name": "stdout",
     "output_type": "stream",
     "text": [
      "Paksitan\n"
     ]
    },
    {
     "data": {
      "text/plain": [
       "None"
      ]
     },
     "metadata": {},
     "output_type": "display_data"
    }
   ],
   "source": [
    "a : str = print(\"Paksitan\") # none-return fuction\n",
    "display(a)"
   ]
  },
  {
   "cell_type": "code",
   "execution_count": 43,
   "metadata": {},
   "outputs": [
    {
     "data": {
      "text/plain": [
       "2247548605504"
      ]
     },
     "metadata": {},
     "output_type": "display_data"
    }
   ],
   "source": [
    "a : str = id(names) # return fuciton\n",
    "display(a)"
   ]
  },
  {
   "cell_type": "markdown",
   "metadata": {},
   "source": [
    "### Pop method\n",
    "* The `pop()` method removes and returns the element at the specified index. If no index is provided, it removes and returns the last element."
   ]
  },
  {
   "cell_type": "code",
   "execution_count": 55,
   "metadata": {},
   "outputs": [
    {
     "name": "stdout",
     "output_type": "stream",
     "text": [
      "['Ahsan', 'Mawaz', 'Raheem', 90, True]\n",
      "Ahsan\n",
      "['Mawaz', 'Raheem', 90, True]\n"
     ]
    }
   ],
   "source": [
    "# -->                 0        1        2\n",
    "names : list[Any] = [\"Ahsan\",\"Mawaz\",\"Raheem\", 90, True]\n",
    "# <--                 -3        -2      -1   \n",
    "print(names)\n",
    "a : str = names.pop(0) # pop return method\n",
    "print(a)\n",
    "print(names)"
   ]
  },
  {
   "cell_type": "code",
   "execution_count": 50,
   "metadata": {},
   "outputs": [
    {
     "name": "stdout",
     "output_type": "stream",
     "text": [
      "paksitan\n",
      "None\n"
     ]
    }
   ],
   "source": [
    "print(print(\"paksitan\"))"
   ]
  },
  {
   "cell_type": "markdown",
   "metadata": {},
   "source": [
    "### Append method \n",
    "* The `append()` method adds a single element to the end of the list."
   ]
  },
  {
   "cell_type": "code",
   "execution_count": 58,
   "metadata": {},
   "outputs": [
    {
     "name": "stdout",
     "output_type": "stream",
     "text": [
      "['a', 'b']\n",
      "['a', 'b', 'Ahsan', 'Mojo', 'Raheem']\n"
     ]
    }
   ],
   "source": [
    "names : list[str] = ['a','b']\n",
    "print(names)\n",
    "names.append(\"Ahsan\") # add element in last\n",
    "names.append(\"Mojo\")   # add element in last\n",
    "names.append(\"Raheem\") # add element in last\n",
    "\n",
    "print(names)"
   ]
  },
  {
   "cell_type": "markdown",
   "metadata": {},
   "source": [
    "### Instert method\n",
    "The `insert()` method inserts an element at the specified index.\n",
    "\n"
   ]
  },
  {
   "cell_type": "code",
   "execution_count": 62,
   "metadata": {},
   "outputs": [
    {
     "name": "stdout",
     "output_type": "stream",
     "text": [
      "['ahsan', 'mawaz']\n",
      "['ahsan', 'mawaz', 'Raheem']\n"
     ]
    }
   ],
   "source": [
    "names : list[str] = ['ahsan','mawaz']\n",
    "\n",
    "print(names)\n",
    "\n",
    "names.insert(2,'Raheem') # insert on particular positon\n",
    "\n",
    "\n",
    "\n",
    "print(names)"
   ]
  },
  {
   "cell_type": "markdown",
   "metadata": {},
   "source": [
    "### Copy method\n",
    "* The `copy()` method creates a shallow copy of the list."
   ]
  },
  {
   "cell_type": "code",
   "execution_count": 68,
   "metadata": {},
   "outputs": [
    {
     "name": "stdout",
     "output_type": "stream",
     "text": [
      "['a', 'b', 'c']\n",
      "['a', 'b', 'c']\n",
      "['pakistan', 'b', 'c']\n",
      "['pakistan', 'b', 'c']\n"
     ]
    }
   ],
   "source": [
    "a : list[str] = ['a','b','c']\n",
    "\n",
    "b = a # shallow copy\n",
    "print(a)\n",
    "print(b)\n",
    "\n",
    "b[0] = 'pakistan' # change only variable b but not updated both variable\n",
    "\n",
    "print(a)\n",
    "print(b)"
   ]
  },
  {
   "cell_type": "code",
   "execution_count": 70,
   "metadata": {},
   "outputs": [
    {
     "name": "stdout",
     "output_type": "stream",
     "text": [
      "a ['a', 'b', 'c']\n",
      "b ['a', 'b', 'c']\n",
      "a ['a', 'b', 'c']\n",
      "b ['pakistan', 'b', 'c']\n"
     ]
    }
   ],
   "source": [
    "a : list[str] = ['a','b','c']\n",
    "\n",
    "b = a.copy() # Deep copy\n",
    "print(\"a\",a)\n",
    "print(\"b\",b)\n",
    "\n",
    "b[0] = 'pakistan' # change only variable b but  updated both variable\n",
    "\n",
    "print(\"a\",a)\n",
    "print(\"b\",b)"
   ]
  },
  {
   "cell_type": "markdown",
   "metadata": {},
   "source": [
    "### Count method\n",
    "* `The count()` method returns the number of occurrences of the specified element."
   ]
  },
  {
   "cell_type": "code",
   "execution_count": 73,
   "metadata": {},
   "outputs": [
    {
     "name": "stdout",
     "output_type": "stream",
     "text": [
      "3\n",
      "2\n"
     ]
    }
   ],
   "source": [
    "names : list[str] = ['a','a','a','b','b','c','c']\n",
    "print(names.count('a'))\n",
    "print(names.count('b'))"
   ]
  },
  {
   "cell_type": "markdown",
   "metadata": {},
   "source": [
    "### Append method\n",
    "* The `append()` method adds a single element to the end of the list."
   ]
  },
  {
   "cell_type": "code",
   "execution_count": 75,
   "metadata": {},
   "outputs": [
    {
     "name": "stdout",
     "output_type": "stream",
     "text": [
      "['saud', 'rehan', 'ahmed', ['hamza', 'kahsif']]\n"
     ]
    }
   ],
   "source": [
    "names : list[str] = [\"saud\",\"rehan\",\"ahmed\"]\n",
    "\n",
    "new_friends : list[str] = [\"hamza\",\"kahsif\"]\n",
    "\n",
    "names.append(new_friends)\n",
    "\n",
    "print(names)"
   ]
  },
  {
   "cell_type": "markdown",
   "metadata": {},
   "source": [
    "### Extend method\n",
    "* The `extend()` method appends the elements of the iterable to the end of the list."
   ]
  },
  {
   "cell_type": "code",
   "execution_count": 76,
   "metadata": {},
   "outputs": [
    {
     "name": "stdout",
     "output_type": "stream",
     "text": [
      "['saud', 'rehan', 'ahmed', 'hamza', 'kahsif']\n"
     ]
    }
   ],
   "source": [
    "names : list[str] = [\"saud\",\"rehan\",\"ahmed\"]\n",
    "\n",
    "new_friends : list[str] = [\"hamza\",\"kahsif\"]\n",
    "\n",
    "names.extend(new_friends)\n",
    "\n",
    "print(names)"
   ]
  },
  {
   "cell_type": "markdown",
   "metadata": {},
   "source": [
    "### Remove method\n",
    "* The `remove()` method removes the first occurrence of the specified element."
   ]
  },
  {
   "cell_type": "code",
   "execution_count": 79,
   "metadata": {},
   "outputs": [
    {
     "name": "stdout",
     "output_type": "stream",
     "text": [
      "['saud', 'ahmed']\n"
     ]
    }
   ],
   "source": [
    "names : list[str] = [\"saud\",\"rehan\",\"ahmed\"]\n",
    "\n",
    "names.remove(\"rehan\") # remove with text\n",
    "\n",
    "print(names)"
   ]
  },
  {
   "cell_type": "markdown",
   "metadata": {},
   "source": [
    "### Index method\n",
    "* The `index()` method returns the index of the first occurrence of the specified element."
   ]
  },
  {
   "cell_type": "code",
   "execution_count": 86,
   "metadata": {},
   "outputs": [
    {
     "data": {
      "text/plain": [
       "3"
      ]
     },
     "execution_count": 86,
     "metadata": {},
     "output_type": "execute_result"
    }
   ],
   "source": [
    "names : list[str] = [\"saud\",\"rehan\",\"ahmed\",\"saud\"]\n",
    "\n",
    "names.index(\"saud\",2)\n"
   ]
  },
  {
   "cell_type": "code",
   "execution_count": 82,
   "metadata": {},
   "outputs": [
    {
     "data": {
      "text/plain": [
       "1"
      ]
     },
     "execution_count": 82,
     "metadata": {},
     "output_type": "execute_result"
    }
   ],
   "source": [
    "names : list[str] = [\"saud\",\"rehan\",\"ahmed\"]\n",
    "\n",
    "names.index(\"rehan\") "
   ]
  },
  {
   "cell_type": "markdown",
   "metadata": {},
   "source": [
    "### Reverse method\n",
    "* The `reverse()` method reverses the order of the elements in the list."
   ]
  },
  {
   "cell_type": "code",
   "execution_count": 94,
   "metadata": {},
   "outputs": [
    {
     "name": "stdout",
     "output_type": "stream",
     "text": [
      "['saud', 'rehan', 'ahmed']\n",
      "['ahmed', 'rehan', 'saud']\n"
     ]
    }
   ],
   "source": [
    "names : list[str] = [\"saud\",\"rehan\",\"ahmed\"]\n",
    "print(names)\n",
    "\n",
    "names.reverse() # in- memory = change real data \n",
    "print(names)"
   ]
  },
  {
   "cell_type": "markdown",
   "metadata": {},
   "source": [
    "### Sort method\n",
    "* The `sort()` method sorts the elements of the list in ascending order."
   ]
  },
  {
   "cell_type": "code",
   "execution_count": 95,
   "metadata": {},
   "outputs": [
    {
     "name": "stdout",
     "output_type": "stream",
     "text": [
      "['saud', 'rehan', 'ahmed']\n",
      "['ahmed', 'rehan', 'saud']\n"
     ]
    }
   ],
   "source": [
    "names : list[str] = [\"saud\",\"rehan\",\"ahmed\"]\n",
    "print(names)\n",
    "\n",
    "names.sort() # in- memory = change real data  sort \n",
    "print(names)"
   ]
  },
  {
   "cell_type": "markdown",
   "metadata": {},
   "source": [
    "## Question and answers"
   ]
  },
  {
   "cell_type": "markdown",
   "metadata": {},
   "source": [
    "### 1. Guest List for Dinner\n",
    "\n",
    "* If you could invite anyone, living or deceased, to dinner, who would you invite? Create a list that includes at least three people you'd like to invite to dinner. Then, use your list to print a message to each person, inviting them to dinner.\n",
    "### 2. Changing guest list \n",
    "* You just heard that one of your guests can’t make the dinner, so you\n",
    "need to send out a new set of invitations. You’ll have to think of someone else to invite.\n",
    "\n",
    "* Start with your program from the above. Add a print() call at the end of your program,\n",
    "stating the name of the guest who can’t make it.\n",
    "* Modify your list, replacing the name of the guest who can’t make it with the name of the new\n",
    "person you are inviting.\n",
    "* Print a second set of invitation messages, one for each person who is still in your list.\n"
   ]
  },
  {
   "cell_type": "code",
   "execution_count": 22,
   "metadata": {},
   "outputs": [
    {
     "name": "stdout",
     "output_type": "stream",
     "text": [
      "Guest list for dinner:\n",
      "\n",
      "Dear friend Waqas, \n",
      "you are invited to the dinner.\n",
      "Dear friend Raheem, \n",
      "you are invited to the dinner.\n",
      "Dear friend Mawaz, \n",
      "you are invited to the dinner.\n",
      "\n",
      "Due to health problem Mawaz is not going to attend the dinner.\n",
      "\n",
      "['Waqas', 'Raheem', 'Daniyal']\n",
      "\n",
      "Dear friend Waqas, \n",
      "you are invited to the dinner.\n",
      "Dear friend Raheem, \n",
      "you are invited to the dinner.\n",
      "Dear friend Daniyal, \n",
      "you are invited to the dinner.\n"
     ]
    }
   ],
   "source": [
    "print(\"Guest list for dinner:\\n\")\n",
    "\n",
    "invite_guest : list[str] = [\"Waqas\",\"Raheem\",\"Mawaz\"]\n",
    "print(f\"Dear friend {invite_guest [0]}, \\nyou are invited to the dinner.\")\n",
    "print(f\"Dear friend {invite_guest [1]}, \\nyou are invited to the dinner.\")\n",
    "print(f\"Dear friend {invite_guest [2]}, \\nyou are invited to the dinner.\\n\")\n",
    "print(f\"Due to health problem {invite_guest[2]} is not going to attend the dinner.\\n\")\n",
    "\n",
    "\n",
    "invite_guest.pop(2)\n",
    "invite_guest.insert(2,\"Daniyal\")\n",
    "\n",
    "\n",
    "\n",
    "print(invite_guest)\n",
    "print(f\"\\nDear friend {invite_guest [0]}, \\nyou are invited to the dinner.\")\n",
    "print(f\"Dear friend {invite_guest [1]}, \\nyou are invited to the dinner.\")\n",
    "print(f\"Dear friend {invite_guest [2]}, \\nyou are invited to the dinner.\")\n"
   ]
  },
  {
   "cell_type": "markdown",
   "metadata": {},
   "source": [
    "### 3. More Guests: \n",
    "* You just found a bigger dinner table, so now more space is available. Think of three more guests to invite to dinner.\n",
    "* Start with your program from the above code. Add a print() call to the end of your program, informing people that you found a bigger table.\n",
    "* Use insert() to add one new guest to the beginning of your list.\n",
    "* Use insert() to add one new guest to the middle of your list.\n",
    "* Use append() to add one new guest to the end of your list.\n",
    "* Print a new set of invitation messages, one for each person in your list."
   ]
  },
  {
   "cell_type": "code",
   "execution_count": 23,
   "metadata": {},
   "outputs": [
    {
     "name": "stdout",
     "output_type": "stream",
     "text": [
      "Good news we found a bigger table!.\n",
      "\n",
      "Dear friend Wasif, \n",
      "you are invited to the birthday party.\n",
      "Dear friend Waqas, \n",
      "you are invited to the birthday party.\n",
      "Dear friend Saad, \n",
      "you are invited to the birthday party.\n",
      "Dear friend Raheem, \n",
      "you are invited to the birthday party.\n",
      "Dear friend Daniyal, \n",
      "you are invited to the birthday party.\n",
      "Dear friend Saud, \n",
      "you are invited to the birthday party.\n",
      "\n",
      "['Wasif', 'Waqas', 'Saad', 'Raheem', 'Daniyal', 'Saud']\n"
     ]
    }
   ],
   "source": [
    "print(\"Good news we found a bigger table!.\\n\")\n",
    "\n",
    "invite_guest.insert(0,\"Wasif\")\n",
    "invite_guest.insert(2,\"Saad\")\n",
    "invite_guest.append(\"Saud\")\n",
    "\n",
    "print(f\"Dear friend {invite_guest [0]}, \\nyou are invited to the birthday party.\")\n",
    "print(f\"Dear friend {invite_guest [1]}, \\nyou are invited to the birthday party.\")\n",
    "print(f\"Dear friend {invite_guest [2]}, \\nyou are invited to the birthday party.\")\n",
    "print(f\"Dear friend {invite_guest [3]}, \\nyou are invited to the birthday party.\")\n",
    "print(f\"Dear friend {invite_guest [4]}, \\nyou are invited to the birthday party.\")\n",
    "print(f\"Dear friend {invite_guest [5]}, \\nyou are invited to the birthday party.\\n\")\n",
    "\n",
    "print(invite_guest)\n",
    "\n"
   ]
  },
  {
   "cell_type": "code",
   "execution_count": 24,
   "metadata": {},
   "outputs": [
    {
     "name": "stdout",
     "output_type": "stream",
     "text": [
      "['Wasif', 'Waqas', 'Saad', 'Raheem', 'Daniyal', 'Saud']\n"
     ]
    }
   ],
   "source": [
    "print(invite_guest)"
   ]
  },
  {
   "cell_type": "markdown",
   "metadata": {},
   "source": [
    "### 4. Shrinking Guest List:\n",
    "* You just found out that your new dinner table won’t arrive in time for the dinner, and now you have space for only two guests.\n",
    "* Start with your program from the above code. Add a new line that prints a message saying that\n",
    "you can invite only two people for dinner.\n",
    "* Use pop() to remove guests from your list one at a time until only two names remain in your\n",
    "list. Each time you pop a name from your list, print a message to that person letting them know\n",
    "you’re sorry you can’t invite them to dinner.\n",
    "* Print a message to each of the two people still on your list, letting them know they’re still\n",
    "invited.\n",
    "* Use del to remove the last two names from your list, so you have an empty list. Print your list\n",
    "to make sure you actually have an empty list at the end of your program.\n"
   ]
  },
  {
   "cell_type": "code",
   "execution_count": 25,
   "metadata": {},
   "outputs": [
    {
     "name": "stdout",
     "output_type": "stream",
     "text": [
      "The dinner table won't arrrive in time so, I can invite only two person for dinner.\n",
      "We are really very sorry to Saad for not inviting you to the dinner.\n",
      "We are really very sorry to Waqas for not inviting you to the dinner.\n",
      "We are really very sorry to Wasif for not inviting you to the dinner.\n",
      "We are really very sorry to Saud for not inviting you to the dinner.\n",
      "['Raheem', 'Daniyal']\n"
     ]
    }
   ],
   "source": [
    "print(\"The dinner table won't arrrive in time so, I can invite only two person for dinner.\")\n",
    "\n",
    "print(f\"We are really very sorry to {invite_guest[2]} for not inviting you to the dinner.\")\n",
    "invite_guest.pop(2)\n",
    "print(f\"We are really very sorry to {invite_guest[1]} for not inviting you to the dinner.\")\n",
    "invite_guest.pop(1)\n",
    "print(f\"We are really very sorry to {invite_guest[0]} for not inviting you to the dinner.\")\n",
    "invite_guest.pop(0)\n",
    "print(f\"We are really very sorry to {invite_guest[2]} for not inviting you to the dinner.\")\n",
    "invite_guest.pop()\n",
    " \n",
    "print(invite_guest)\n",
    "\n",
    "\n"
   ]
  },
  {
   "cell_type": "code",
   "execution_count": 26,
   "metadata": {},
   "outputs": [
    {
     "name": "stdout",
     "output_type": "stream",
     "text": [
      "Dear friend Raheem, \n",
      "you are still invited to the birthday party.\n",
      "Dear friend Daniyal, \n",
      "you are still invited to the birthday party.\n",
      "\n",
      "[]\n"
     ]
    }
   ],
   "source": [
    "print(f\"Dear friend {invite_guest [0]}, \\nyou are still invited to the birthday party.\")\n",
    "print(f\"Dear friend {invite_guest [1]}, \\nyou are still invited to the birthday party.\\n\")\n",
    "\n",
    "del invite_guest[1]\n",
    "del invite_guest[0]\n",
    "\n",
    "print(invite_guest)\n"
   ]
  },
  {
   "cell_type": "markdown",
   "metadata": {},
   "source": [
    "## 5. Seeing the World: \n",
    "* Think of at least five places in the world you’d like to visit.\n",
    "* Store the locations in a list. Make sure the list is not in alphabetical order.\n",
    "* Print your list in its original order. Don’t worry about printing the list neatly; just print it as a\n",
    "raw Python list.\n",
    "* Use sorted() to print your list in alphabetical order without modifying the actual list.\n",
    "* Show that your list is still in its original order by printing it.\n",
    "* Use sorted() to print your list in reverse-alphabetical order without changing the order of the\n",
    "original list.\n",
    "* Show that your list is still in its original order by printing it again.\n",
    "* Use reverse() to change the order of your list. Print the list to show that its order has changed.\n",
    "* Use reverse() to change the order of your list again. Print the list to show it’s back to its\n",
    "original order.\n",
    "* Use sort() to change your list so it’s stored in alphabetical order. Print the list to show that its\n",
    "order has been changed.\n",
    "* Use sort() to change your list so it’s stored in reverse-alphabetical order. Print the list to show\n",
    "that its order has changed."
   ]
  },
  {
   "cell_type": "code",
   "execution_count": 55,
   "metadata": {},
   "outputs": [
    {
     "name": "stdout",
     "output_type": "stream",
     "text": [
      "Original Order: ['Makkah', 'Madina', 'Jerusalem', 'Pakistan', 'Turkey']\n",
      "Alphabetical Order: ['Jerusalem', 'Madina', 'Makkah', 'Pakistan', 'Turkey']\n",
      "Original Order (after sorting): ['Makkah', 'Madina', 'Jerusalem', 'Pakistan', 'Turkey']\n",
      "Reverse-Alphabetical Order: ['Turkey', 'Pakistan', 'Makkah', 'Madina', 'Jerusalem']\n",
      "Original Order (after reverse sorting): ['Makkah', 'Madina', 'Jerusalem', 'Pakistan', 'Turkey']\n",
      "Reversed Order: ['Turkey', 'Pakistan', 'Jerusalem', 'Madina', 'Makkah']\n",
      "Original Order (after reversing again): ['Makkah', 'Madina', 'Jerusalem', 'Pakistan', 'Turkey']\n",
      "Alphabetical Order: ['Jerusalem', 'Madina', 'Makkah', 'Pakistan', 'Turkey']\n",
      "Reverse-Alphabetical Order: ['Turkey', 'Pakistan', 'Makkah', 'Madina', 'Jerusalem']\n"
     ]
    }
   ],
   "source": [
    "# Step 1: Store the locations in a list (not in alphabetical order)\n",
    "places_to_visit: list[str] = [\"Makkah\", \"Madina\", \"Jerusalem\", \"Pakistan\", \"Turkey\"]\n",
    "\n",
    "# Step 2: Print the list in its original order\n",
    "print(\"Original Order:\", places_to_visit)\n",
    "\n",
    "# Step 3: Use sorted() to print the list in alphabetical order without modifying it\n",
    "print(\"Alphabetical Order:\", sorted(places_to_visit))\n",
    "\n",
    "# Step 4: Print the original list to show it's still in its original order\n",
    "print(\"Original Order (after sorting):\", places_to_visit)\n",
    "\n",
    "# Step 5: Use sorted() to print the list in reverse-alphabetical order without changing the order of the original list\n",
    "print(\"Reverse-Alphabetical Order:\", sorted(places_to_visit, reverse=True))\n",
    "\n",
    "# Step 6: Print the original list again to show it's still in its original order\n",
    "print(\"Original Order (after reverse sorting):\", places_to_visit)\n",
    "\n",
    "# Step 7: Use reverse() to change the order of the list and print it\n",
    "places_to_visit.reverse()\n",
    "print(\"Reversed Order:\", places_to_visit)\n",
    "\n",
    "# Step 8: Use reverse() again to change the order back to the original and print it\n",
    "places_to_visit.reverse()\n",
    "print(\"Original Order (after reversing again):\", places_to_visit)\n",
    "\n",
    "# Step 9: Use sort() to change the list to alphabetical order and print it\n",
    "places_to_visit.sort()\n",
    "print(\"Alphabetical Order:\", places_to_visit)\n",
    "\n",
    "# Step 10: Use sort() to change the list to reverse-alphabetical order and print it\n",
    "places_to_visit.sort(reverse=True)\n",
    "print(\"Reverse-Alphabetical Order:\", places_to_visit)\n"
   ]
  },
  {
   "cell_type": "code",
   "execution_count": 76,
   "metadata": {},
   "outputs": [
    {
     "name": "stdout",
     "output_type": "stream",
     "text": [
      "How many guests are invited for dinner:\n",
      "\n",
      "Guests with a total number of 6 are invited for dinner.\n"
     ]
    }
   ],
   "source": [
    "# using len() to get the length of the guest comming at dinner.\n",
    "print(\"How many guests are invited for dinner:\\n\")\n",
    "\n",
    "invite_guest : list[str] = ['Wasif', 'Waqas', 'Saad', 'Raheem', 'Daniyal', 'Saud']\n",
    "print(f\"Guests with a total number of {len(invite_guest)} are invited for dinner.\")\n"
   ]
  },
  {
   "cell_type": "code",
   "execution_count": null,
   "metadata": {},
   "outputs": [],
   "source": []
  }
 ],
 "metadata": {
  "kernelspec": {
   "display_name": "python13",
   "language": "python",
   "name": "python3"
  },
  "language_info": {
   "codemirror_mode": {
    "name": "ipython",
    "version": 3
   },
   "file_extension": ".py",
   "mimetype": "text/x-python",
   "name": "python",
   "nbconvert_exporter": "python",
   "pygments_lexer": "ipython3",
   "version": "3.12.0"
  }
 },
 "nbformat": 4,
 "nbformat_minor": 2
}
